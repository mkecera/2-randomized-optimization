{
 "nbformat": 4,
 "nbformat_minor": 2,
 "metadata": {
  "language_info": {
   "name": "python",
   "codemirror_mode": {
    "name": "ipython",
    "version": 3
   },
   "version": "3.6.10-final"
  },
  "orig_nbformat": 2,
  "file_extension": ".py",
  "mimetype": "text/x-python",
  "name": "python",
  "npconvert_exporter": "python",
  "pygments_lexer": "ipython3",
  "version": 3,
  "kernelspec": {
   "name": "python361064bitmlconda3291cc5c44564875b7e62800a0ae8d21",
   "display_name": "Python 3.6.10 64-bit ('ml': conda)"
  }
 },
 "cells": [
  {
   "cell_type": "markdown",
   "execution_count": null,
   "metadata": {},
   "outputs": [],
   "source": [
    "# Assignment 2 - Randomized Optimization - mkecera3@gatech.edu"
   ]
  },
  {
   "cell_type": "code",
   "execution_count": 1,
   "metadata": {},
   "outputs": [
    {
     "name": "stderr",
     "output_type": "stream",
     "text": "/anaconda3/envs/ml/lib/python3.6/site-packages/sklearn/externals/six.py:31: FutureWarning: The module is deprecated in version 0.21 and will be removed in version 0.23 since we've dropped support for Python 2.7. Please rely on the official version of six (https://pypi.org/project/six/).\n  \"(https://pypi.org/project/six/).\", FutureWarning)\n/anaconda3/envs/ml/lib/python3.6/site-packages/statsmodels/tools/_testing.py:19: FutureWarning: pandas.util.testing is deprecated. Use the functions in the public API at pandas.testing instead.\n  import pandas.util.testing as tm\n"
    }
   ],
   "source": [
    "# imports\n",
    "import mlrose\n",
    "import numpy as np\n",
    "import time\n",
    "import itertools\n",
    "import pandas as pd\n",
    "import seaborn as sns\n",
    "save_path = './charts/'"
   ]
  },
  {
   "cell_type": "code",
   "execution_count": 2,
   "metadata": {},
   "outputs": [],
   "source": [
    "import torch\n",
    "import torchvision\n",
    "from torchvision import datasets, transforms\n",
    "from torch import nn, optim\n",
    "import torch.nn.functional as F\n",
    "from imblearn.over_sampling import RandomOverSampler\n",
    "from sklearn import preprocessing\n",
    "from sklearn.model_selection import train_test_split, learning_curve\n",
    "from sklearn.metrics import accuracy_score\n",
    "from sklearn.preprocessing import MinMaxScaler, OneHotEncoder\n",
    "import random\n",
    "from deap import base\n",
    "from deap import creator\n",
    "from deap import tools\n",
    "from deap import algorithms\n",
    "import array"
   ]
  },
  {
   "cell_type": "markdown",
   "execution_count": null,
   "metadata": {},
   "outputs": [],
   "source": [
    "## 4-peaks"
   ]
  },
  {
   "cell_type": "code",
   "execution_count": null,
   "metadata": {},
   "outputs": [],
   "source": [
    "# define the 4-peaks problem and print an example\n",
    "fitness = mlrose.FourPeaks(t_pct=0.1)\n",
    "state = np.array([1, 1, 1, 0, 1, 0, 0, 1, 0, 0, 0, 0])\n",
    "print(fitness.evaluate(state))\n",
    "problem = mlrose.DiscreteOpt(length = 100, fitness_fn = fitness, maximize = True, max_val = 2)"
   ]
  },
  {
   "cell_type": "code",
   "execution_count": null,
   "metadata": {},
   "outputs": [],
   "source": [
    "def parameter_search(problem, algorithm, **kwargs):\n",
    "    \n",
    "    values = []\n",
    "    names = []\n",
    "    for key, value in kwargs.items():\n",
    "        names.append(key)\n",
    "        values.append(value)\n",
    "    \n",
    "    permutations = [(x, y) for x in values[0] for y in values[1]]\n",
    "    param1 = [x[0] for x in permutations]\n",
    "    param2 = [x[1] for x in permutations]\n",
    "\n",
    "    all_states = []\n",
    "    all_fitness = []\n",
    "    all_curves = []\n",
    "    run_times = []\n",
    "    for permutation in permutations:\n",
    "        start_time = time.time()\n",
    "        param = {}\n",
    "        param[names[0]] = permutation[0]\n",
    "        param[names[1]] = permutation[1]\n",
    "        best_state, best_fitness, curve = algorithm(\n",
    "            problem=problem,\n",
    "            curve=True,\n",
    "            **param\n",
    "            )\n",
    "        end_time = time.time()\n",
    "        run_time = end_time - start_time\n",
    "        \n",
    "        all_states.append(best_state)\n",
    "        all_fitness.append(best_fitness)\n",
    "        run_times.append(run_time)\n",
    "        all_curves.append(curve)\n",
    "\n",
    "    return all_states, all_fitness, all_curves, run_times, param1, param2"
   ]
  },
  {
   "cell_type": "markdown",
   "execution_count": null,
   "metadata": {},
   "outputs": [],
   "source": [
    "### Randomized hill climbing"
   ]
  },
  {
   "cell_type": "code",
   "execution_count": null,
   "metadata": {},
   "outputs": [],
   "source": [
    "# define the size of the testing\n",
    "restart_options = list(np.geomspace(10, 1000, 8))\n",
    "max_attempts_options = list(np.geomspace(10, 500, 8))\n",
    "restart_options = [int(x) for x in restart_options]\n",
    "max_attempts_options = [int(x) for x in max_attempts_options]"
   ]
  },
  {
   "cell_type": "code",
   "execution_count": null,
   "metadata": {},
   "outputs": [],
   "source": [
    "all_states, all_fitness, all_curves, run_times, restart_data, max_attempt_data = parameter_search(\n",
    "    problem=problem, \n",
    "    algorithm=mlrose.random_hill_climb,\n",
    "    restarts=restart_options, \n",
    "    max_attempts=max_attempts_options,\n",
    "    curve=True\n",
    "    )"
   ]
  },
  {
   "cell_type": "code",
   "execution_count": null,
   "metadata": {},
   "outputs": [],
   "source": [
    "chart_data = pd.DataFrame({'Fitness': all_fitness, 'Restarts': restart_data, 'Max Attempts': max_attempt_data})\n",
    "chart_data = chart_data.pivot(index='Restarts', columns='Max Attempts', values='Fitness')\n",
    "sns.set_context(\"paper\")\n",
    "sns_plot = sns.heatmap(chart_data, annot=True, fmt=\"g\", cmap='viridis').set_title('Randomized Hill Climbing')\n",
    "sns_plot.get_figure().savefig(save_path + \"4p_rhc_hyperparam.png\", dpi=100)"
   ]
  },
  {
   "cell_type": "code",
   "execution_count": null,
   "metadata": {},
   "outputs": [],
   "source": [
    "chart_data = pd.DataFrame({'Run Times': [round(x, 2) for x in run_times], 'Restarts': restart_data, 'Max Attempts': max_attempt_data})\n",
    "chart_data = chart_data.pivot(index='Restarts', columns='Max Attempts', values='Run Times')\n",
    "sns.set_context(\"paper\")\n",
    "sns_plot = sns.heatmap(chart_data, annot=True, fmt=\"g\", cmap='viridis').set_title('Randomized Hill Climbing')\n",
    "sns_plot.get_figure().savefig(save_path + \"4p_rhc_hyperparam.png\", dpi=100)"
   ]
  },
  {
   "cell_type": "markdown",
   "execution_count": null,
   "metadata": {},
   "outputs": [],
   "source": [
    "### Simulated annealing"
   ]
  },
  {
   "cell_type": "code",
   "execution_count": null,
   "metadata": {},
   "outputs": [],
   "source": [
    "iters_options = list(np.geomspace(10, 10000, 8))\n",
    "max_attempts_options = list(np.geomspace(10, 10000, 8))\n",
    "iters_options = [int(x) for x in iters_options]\n",
    "max_attempts_options = [int(x) for x in max_attempts_options]"
   ]
  },
  {
   "cell_type": "code",
   "execution_count": null,
   "metadata": {},
   "outputs": [],
   "source": [
    "all_states, all_fitness, all_curves, run_times, max_iter_data, max_attempt_data = parameter_search(\n",
    "    problem=problem, \n",
    "    algorithm=mlrose.simulated_annealing,\n",
    "    max_iters=iters_options, \n",
    "    max_attempts=max_attempts_options,\n",
    "    curve=True\n",
    "    )"
   ]
  },
  {
   "cell_type": "code",
   "execution_count": null,
   "metadata": {},
   "outputs": [],
   "source": [
    "chart_data = pd.DataFrame({'Fitness': all_fitness, 'Max Iterations': max_iter_data, 'Max Attempts': max_attempt_data})\n",
    "chart_data = chart_data.pivot(index='Max Iterations', columns='Max Attempts', values='Fitness')\n",
    "sns.set_context(\"paper\")\n",
    "sns_plot = sns.heatmap(chart_data, annot=True, fmt=\"g\", cmap='viridis').set_title('Simulated Annealing')\n",
    "sns_plot.get_figure().savefig(save_path + \"4p_sa_hyperparam.png\", dpi=100)"
   ]
  },
  {
   "cell_type": "code",
   "execution_count": null,
   "metadata": {},
   "outputs": [],
   "source": [
    "chart_data = pd.DataFrame({'Run Times': [round(x, 2) for x in run_times], 'Max Iterations': max_iter_data, 'Max Attempts': max_attempt_data})\n",
    "chart_data = chart_data.pivot(index='Max Iterations', columns='Max Attempts', values='Run Times')\n",
    "sns.set_context(\"paper\")\n",
    "sns_plot = sns.heatmap(chart_data, annot=True, fmt=\"g\", cmap='viridis').set_title('Simulated Annealing')\n",
    "sns_plot.get_figure().savefig(save_path + \"4p_sa_hyperparam.png\", dpi=100)"
   ]
  },
  {
   "cell_type": "markdown",
   "execution_count": null,
   "metadata": {},
   "outputs": [],
   "source": [
    "### Genetic Algorithm"
   ]
  },
  {
   "cell_type": "code",
   "execution_count": null,
   "metadata": {},
   "outputs": [],
   "source": [
    "pop_size = list(np.geomspace(200, 20000, 8))\n",
    "mut_prob = list(np.linspace(0, 0.5, 8))\n",
    "pop_size = [int(x) for x in pop_size]\n",
    "mut_prob = [round(x, 2) for x in mut_prob]"
   ]
  },
  {
   "cell_type": "code",
   "execution_count": null,
   "metadata": {},
   "outputs": [],
   "source": [
    "all_states, all_fitness, all_curves, run_times, pop_size_data, mut_prob_data = parameter_search(\n",
    "    problem=problem, \n",
    "    algorithm=mlrose.genetic_alg,\n",
    "    pop_size=pop_size, \n",
    "    mutation_prob=mut_prob,\n",
    "    curve=True\n",
    "    )"
   ]
  },
  {
   "cell_type": "code",
   "execution_count": null,
   "metadata": {},
   "outputs": [],
   "source": [
    "chart_data = pd.DataFrame({'Fitness': all_fitness, 'Population Size': pop_size_data, 'Mutation Prob': mut_prob_data})\n",
    "chart_data = chart_data.pivot(index='Population Size', columns='Mutation Prob', values='Fitness')\n",
    "sns.set_context(\"paper\")\n",
    "sns_plot = sns.heatmap(chart_data, annot=True, fmt=\"g\", cmap='viridis').set_title('Genetic Algorithms')\n",
    "sns_plot.get_figure().savefig(save_path + \"4p_ga_hyperparam.png\", dpi=100)"
   ]
  },
  {
   "cell_type": "code",
   "execution_count": null,
   "metadata": {},
   "outputs": [],
   "source": [
    "chart_data = pd.DataFrame({'Run Times': [round(x, 2) for x in run_times], 'Population Size': pop_size_data, 'Mutation Prob': mut_prob_data})\n",
    "chart_data = chart_data.pivot(index='Population Size', columns='Mutation Prob', values='Run Times')\n",
    "sns.set_context(\"paper\")\n",
    "sns_plot = sns.heatmap(chart_data, annot=True, fmt=\"g\", cmap='viridis').set_title('Genetic Algorithms')\n",
    "sns_plot.get_figure().savefig(save_path + \"4p_ga_hyperparam.png\", dpi=100)"
   ]
  },
  {
   "cell_type": "markdown",
   "execution_count": null,
   "metadata": {},
   "outputs": [],
   "source": [
    "### MIMIC"
   ]
  },
  {
   "cell_type": "code",
   "execution_count": null,
   "metadata": {},
   "outputs": [],
   "source": [
    "pop_size = list(np.geomspace(50, 500, 8))\n",
    "keep_pct = list(np.linspace(0.1, 0.4, 8))\n",
    "pop_size = [int(x) for x in pop_size]\n",
    "keep_pct = [round(x, 2) for x in keep_pct]"
   ]
  },
  {
   "cell_type": "code",
   "execution_count": null,
   "metadata": {},
   "outputs": [],
   "source": [
    "all_states, all_fitness, all_curves, run_times, pop_size_data, keep_perc_data = parameter_search(\n",
    "    problem=problem, \n",
    "    algorithm=mlrose.mimic,\n",
    "    pop_size=pop_size, \n",
    "    keep_pct=keep_pct,\n",
    "    curve=True\n",
    "    )"
   ]
  },
  {
   "cell_type": "code",
   "execution_count": null,
   "metadata": {},
   "outputs": [],
   "source": [
    "chart_data = pd.DataFrame({'Fitness': all_fitness, 'Population Size': pop_size_data, 'Keep Percantage': keep_perc_data})\n",
    "chart_data = chart_data.pivot(index='Population Size', columns='Keep Percentage', values='Fitness')\n",
    "sns.set_context(\"paper\")\n",
    "sns_plot = sns.heatmap(chart_data, annot=True, fmt=\"g\", cmap='viridis').set_title('MIMIC')\n",
    "sns_plot.get_figure().savefig(save_path + \"mimic_hyperparam.png\", dpi=100)"
   ]
  },
  {
   "cell_type": "code",
   "execution_count": null,
   "metadata": {},
   "outputs": [],
   "source": [
    "chart_data = pd.DataFrame({'Run Times': [round(x, 2) for x in run_times], 'Population Size': pop_size_data, 'Keep Percentage': keep_perc_data})\n",
    "chart_data = chart_data.pivot(index='Population Size', columns='Keep Percentage', values='Run Times')\n",
    "sns.set_context(\"paper\")\n",
    "sns_plot = sns.heatmap(chart_data, annot=True, fmt=\"g\", cmap='viridis').set_title('MIMIC')\n",
    "sns_plot.get_figure().savefig(save_path + \"mimic_hyperparam.png\", dpi=100)"
   ]
  },
  {
   "cell_type": "markdown",
   "execution_count": null,
   "metadata": {},
   "outputs": [],
   "source": [
    "## Knapsack"
   ]
  },
  {
   "cell_type": "code",
   "execution_count": null,
   "metadata": {},
   "outputs": [],
   "source": [
    "# define the Knapsack problem and print an example\n",
    "value = [1, 5, 10, 20, 5, 1, 10, 5, 8]\n",
    "weight = [5, 5, 15, 7, 12, 10, 20, 1, 7]\n",
    "max_weight = 0.6\n",
    "fitness = mlrose.Knapsack(weights=weight, values=value, max_weight_pct=max_weight)\n",
    "state = np.array([1, 0, 1, 0, 1, 0, 0, 1, 0])\n",
    "print(fitness.evaluate(state))\n",
    "problem = mlrose.DiscreteOpt(length = 9, fitness_fn = fitness, maximize = True, max_val = 2)"
   ]
  },
  {
   "cell_type": "markdown",
   "execution_count": null,
   "metadata": {},
   "outputs": [],
   "source": [
    "### Randomized hill climbing"
   ]
  },
  {
   "cell_type": "code",
   "execution_count": null,
   "metadata": {},
   "outputs": [],
   "source": [
    "# define the size of the testing\n",
    "restart_options = list(np.geomspace(10, 1000, 8))\n",
    "max_attempts_options = list(np.geomspace(10, 500, 8))\n",
    "restart_options = [int(x) for x in restart_options]\n",
    "max_attempts_options = [int(x) for x in max_attempts_options]"
   ]
  },
  {
   "cell_type": "code",
   "execution_count": null,
   "metadata": {},
   "outputs": [],
   "source": [
    "all_states, all_fitness, all_curves, run_times, restart_data, max_attempt_data = parameter_search(\n",
    "    problem=problem, \n",
    "    algorithm=mlrose.random_hill_climb,\n",
    "    restarts=restart_options, \n",
    "    max_attempts=max_attempts_options,\n",
    "    curve=True\n",
    "    )"
   ]
  },
  {
   "cell_type": "code",
   "execution_count": null,
   "metadata": {},
   "outputs": [],
   "source": [
    "chart_data = pd.DataFrame({'Fitness': all_fitness, 'Restarts': restart_data, 'Max Attempts': max_attempt_data})\n",
    "chart_data = chart_data.pivot(index='Restarts', columns='Max Attempts', values='Fitness')\n",
    "sns.set_context(\"paper\")\n",
    "sns_plot = sns.heatmap(chart_data, annot=True, fmt=\"g\", cmap='viridis').set_title('Randomized Hill Climbing')\n",
    "sns_plot.get_figure().savefig(save_path + \"ks_rhc_hyperparam.png\", dpi=100)"
   ]
  },
  {
   "cell_type": "code",
   "execution_count": null,
   "metadata": {},
   "outputs": [],
   "source": [
    "chart_data = pd.DataFrame({'Run Times': [round(x, 2) for x in run_times], 'Restarts': restart_data, 'Max Attempts': max_attempt_data})\n",
    "chart_data = chart_data.pivot(index='Restarts', columns='Max Attempts', values='Run Times')\n",
    "sns.set_context(\"paper\")\n",
    "sns_plot = sns.heatmap(chart_data, annot=True, fmt=\"g\", cmap='viridis').set_title('Randomized Hill Climbing')\n",
    "sns_plot.get_figure().savefig(save_path + \"ks_rhc_hyperparam.png\", dpi=100)"
   ]
  },
  {
   "cell_type": "markdown",
   "execution_count": null,
   "metadata": {},
   "outputs": [],
   "source": [
    "### Simulated Annealing"
   ]
  },
  {
   "cell_type": "code",
   "execution_count": null,
   "metadata": {},
   "outputs": [],
   "source": [
    "iters_options = list(np.geomspace(10, 10000, 8))\n",
    "max_attempts_options = list(np.geomspace(10, 10000, 8))\n",
    "iters_options = [int(x) for x in iters_options]\n",
    "max_attempts_options = [int(x) for x in max_attempts_options]"
   ]
  },
  {
   "cell_type": "code",
   "execution_count": null,
   "metadata": {},
   "outputs": [],
   "source": [
    "all_states, all_fitness, all_curves, run_times, max_iter_data, max_attempt_data = parameter_search(\n",
    "    problem=problem, \n",
    "    algorithm=mlrose.simulated_annealing,\n",
    "    max_iters=iters_options, \n",
    "    max_attempts=max_attempts_options,\n",
    "    curve=True\n",
    "    )"
   ]
  },
  {
   "cell_type": "code",
   "execution_count": null,
   "metadata": {},
   "outputs": [],
   "source": [
    "chart_data = pd.DataFrame({'Fitness': all_fitness, 'Max Iterations': max_iter_data, 'Max Attempts': max_attempt_data})\n",
    "chart_data = chart_data.pivot(index='Max Iterations', columns='Max Attempts', values='Fitness')\n",
    "sns.set_context(\"paper\")\n",
    "sns_plot = sns.heatmap(chart_data, annot=True, fmt=\"g\", cmap='viridis').set_title('Simulated Annealing')\n",
    "sns_plot.get_figure().savefig(save_path + \"ks_sa_hyperparam.png\", dpi=100)"
   ]
  },
  {
   "cell_type": "code",
   "execution_count": null,
   "metadata": {},
   "outputs": [],
   "source": [
    "chart_data = pd.DataFrame({'Run Times': [round(x, 2) for x in run_times], 'Max Iterations': max_iter_data, 'Max Attempts': max_attempt_data})\n",
    "chart_data = chart_data.pivot(index='Max Iterations', columns='Max Attempts', values='Run Times')\n",
    "sns.set_context(\"paper\")\n",
    "sns_plot = sns.heatmap(chart_data, annot=True, fmt=\"g\", cmap='viridis').set_title('Simulated Annealing')\n",
    "sns_plot.get_figure().savefig(save_path + \"ks_sa_hyperparam.png\", dpi=100)"
   ]
  },
  {
   "cell_type": "markdown",
   "execution_count": null,
   "metadata": {},
   "outputs": [],
   "source": [
    "### Genetic Algorithm"
   ]
  },
  {
   "cell_type": "code",
   "execution_count": null,
   "metadata": {},
   "outputs": [],
   "source": [
    "pop_size = list(np.geomspace(200, 20000, 8))\n",
    "mut_prob = list(np.linspace(0, 0.5, 8))\n",
    "pop_size = [int(x) for x in pop_size]\n",
    "mut_prob = [round(x, 2) for x in mut_prob]"
   ]
  },
  {
   "cell_type": "code",
   "execution_count": null,
   "metadata": {},
   "outputs": [],
   "source": [
    "all_states, all_fitness, all_curves, run_times, pop_size_data, mut_prob_data = parameter_search(\n",
    "    problem=problem, \n",
    "    algorithm=mlrose.genetic_alg,\n",
    "    pop_size=pop_size, \n",
    "    mutation_prob=mut_prob,\n",
    "    curve=True\n",
    "    )"
   ]
  },
  {
   "cell_type": "code",
   "execution_count": null,
   "metadata": {},
   "outputs": [],
   "source": [
    "chart_data = pd.DataFrame({'Fitness': all_fitness, 'Population Size': pop_size_data, 'Mutation Prob': mut_prob_data})\n",
    "chart_data = chart_data.pivot(index='Population Size', columns='Mutation Prob', values='Fitness')\n",
    "sns.set_context(\"paper\")\n",
    "sns_plot = sns.heatmap(chart_data, annot=True, fmt=\"g\", cmap='viridis').set_title('Genetic Algorithms')\n",
    "sns_plot.get_figure().savefig(save_path + \"ks_ga_hyperparam.png\", dpi=100)"
   ]
  },
  {
   "cell_type": "code",
   "execution_count": null,
   "metadata": {},
   "outputs": [],
   "source": [
    "chart_data = pd.DataFrame({'Run Times': [round(x, 2) for x in run_times], 'Population Size': pop_size_data, 'Mutation Prob': mut_prob_data})\n",
    "chart_data = chart_data.pivot(index='Population Size', columns='Mutation Prob', values='Run Times')\n",
    "sns.set_context(\"paper\")\n",
    "sns_plot = sns.heatmap(chart_data, annot=True, fmt=\"g\", cmap='viridis').set_title('Genetic Algorithms')\n",
    "sns_plot.get_figure().savefig(save_path + \"ks_ga_hyperparam.png\", dpi=100)"
   ]
  },
  {
   "cell_type": "markdown",
   "execution_count": null,
   "metadata": {},
   "outputs": [],
   "source": [
    "### MIMIC"
   ]
  },
  {
   "cell_type": "code",
   "execution_count": null,
   "metadata": {},
   "outputs": [],
   "source": [
    "pop_size = list(np.geomspace(500, 500, 8))\n",
    "keep_pct = list(np.linspace(0.1, 0.4, 8))\n",
    "pop_size = [int(x) for x in pop_size]\n",
    "keep_pct = [round(x, 2) for x in keep_pct]"
   ]
  },
  {
   "cell_type": "code",
   "execution_count": null,
   "metadata": {},
   "outputs": [],
   "source": [
    "all_states, all_fitness, all_curves, run_times, pop_size_data, keep_perc_data = parameter_search(\n",
    "    problem=problem, \n",
    "    algorithm=mlrose.mimic,\n",
    "    pop_size=pop_size, \n",
    "    keep_pct=keep_pct,\n",
    "    curve=True\n",
    "    )"
   ]
  },
  {
   "cell_type": "code",
   "execution_count": null,
   "metadata": {},
   "outputs": [],
   "source": [
    "chart_data = pd.DataFrame({'Fitness': all_fitness, 'Population Size': pop_size_data, 'Keep Percantage': keep_perc_data})\n",
    "chart_data = chart_data.pivot(index='Population Size', columns='Keep Percentage', values='Fitness')\n",
    "sns.set_context(\"paper\")\n",
    "sns_plot = sns.heatmap(chart_data, annot=True, fmt=\"g\", cmap='viridis').set_title('MIMIC')\n",
    "sns_plot.get_figure().savefig(save_path + \"ks_mimic_hyperparam.png\", dpi=100)"
   ]
  },
  {
   "cell_type": "code",
   "execution_count": null,
   "metadata": {},
   "outputs": [],
   "source": [
    "chart_data = pd.DataFrame({'Run Times': [round(x, 2) for x in run_times], 'Population Size': pop_size_data, 'Keep Percentage': keep_perc_data})\n",
    "chart_data = chart_data.pivot(index='Population Size', columns='Keep Percentage', values='Run Times')\n",
    "sns.set_context(\"paper\")\n",
    "sns_plot = sns.heatmap(chart_data, annot=True, fmt=\"g\", cmap='viridis').set_title('MIMIC')\n",
    "sns_plot.get_figure().savefig(save_path + \"ks_mimic_hyperparam.png\", dpi=100)"
   ]
  },
  {
   "cell_type": "markdown",
   "execution_count": null,
   "metadata": {},
   "outputs": [],
   "source": [
    "## Count ones"
   ]
  },
  {
   "cell_type": "code",
   "execution_count": null,
   "metadata": {},
   "outputs": [],
   "source": [
    "# define the Count ones problem and print an example\n",
    "fitness = mlrose.OneMax()\n",
    "state = np.random.choice([0, 1], size=100, p=[0.5, 0.5])\n",
    "print(fitness.evaluate(state))\n",
    "problem = mlrose.DiscreteOpt(length = 100, fitness_fn = fitness, maximize = True, max_val = 2)"
   ]
  },
  {
   "cell_type": "markdown",
   "execution_count": null,
   "metadata": {},
   "outputs": [],
   "source": [
    "### Randomized hill climbing"
   ]
  },
  {
   "cell_type": "code",
   "execution_count": null,
   "metadata": {},
   "outputs": [],
   "source": [
    "# define the size of the testing\n",
    "restart_options = list(np.geomspace(10, 1000, 8))\n",
    "max_attempts_options = list(np.geomspace(10, 500, 8))\n",
    "restart_options = [int(x) for x in restart_options]\n",
    "max_attempts_options = [int(x) for x in max_attempts_options]"
   ]
  },
  {
   "cell_type": "code",
   "execution_count": null,
   "metadata": {},
   "outputs": [],
   "source": [
    "all_states, all_fitness, all_curves, run_times, restart_data, max_attempt_data = parameter_search(\n",
    "    problem=problem, \n",
    "    algorithm=mlrose.random_hill_climb,\n",
    "    restarts=restart_options, \n",
    "    max_attempts=max_attempts_options,\n",
    "    curve=True\n",
    "    )"
   ]
  },
  {
   "cell_type": "code",
   "execution_count": null,
   "metadata": {},
   "outputs": [],
   "source": [
    "chart_data = pd.DataFrame({'Fitness': all_fitness, 'Restarts': restart_data, 'Max Attempts': max_attempt_data})\n",
    "chart_data = chart_data.pivot(index='Restarts', columns='Max Attempts', values='Fitness')\n",
    "sns.set_context(\"paper\")\n",
    "sns_plot = sns.heatmap(chart_data, annot=True, fmt=\"g\", cmap='viridis').set_title('Randomized Hill Climbing')\n",
    "sns_plot.get_figure().savefig(save_path + \"co_rhc_hyperparam.png\", dpi=100)"
   ]
  },
  {
   "cell_type": "code",
   "execution_count": null,
   "metadata": {},
   "outputs": [],
   "source": [
    "chart_data = pd.DataFrame({'Run Times': [round(x, 2) for x in run_times], 'Restarts': restart_data, 'Max Attempts': max_attempt_data})\n",
    "chart_data = chart_data.pivot(index='Restarts', columns='Max Attempts', values='Run Times')\n",
    "sns.set_context(\"paper\")\n",
    "sns_plot = sns.heatmap(chart_data, annot=True, fmt=\"g\", cmap='viridis').set_title('Randomized Hill Climbing')\n",
    "sns_plot.get_figure().savefig(save_path + \"co_rhc_hyperparam.png\", dpi=100)"
   ]
  },
  {
   "cell_type": "markdown",
   "execution_count": null,
   "metadata": {},
   "outputs": [],
   "source": [
    "### Simulated Annealing"
   ]
  },
  {
   "cell_type": "code",
   "execution_count": null,
   "metadata": {},
   "outputs": [],
   "source": [
    "iters_options = list(np.geomspace(10, 10000, 8))\n",
    "max_attempts_options = list(np.geomspace(10, 10000, 8))\n",
    "iters_options = [int(x) for x in iters_options]\n",
    "max_attempts_options = [int(x) for x in max_attempts_options]"
   ]
  },
  {
   "cell_type": "code",
   "execution_count": null,
   "metadata": {},
   "outputs": [],
   "source": [
    "all_states, all_fitness, all_curves, run_times, max_iter_data, max_attempt_data = parameter_search(\n",
    "    problem=problem, \n",
    "    algorithm=mlrose.simulated_annealing,\n",
    "    max_iters=iters_options, \n",
    "    max_attempts=max_attempts_options,\n",
    "    curve=True\n",
    "    )"
   ]
  },
  {
   "cell_type": "code",
   "execution_count": null,
   "metadata": {},
   "outputs": [],
   "source": [
    "chart_data = pd.DataFrame({'Fitness': all_fitness, 'Max Iterations': max_iter_data, 'Max Attempts': max_attempt_data})\n",
    "chart_data = chart_data.pivot(index='Max Iterations', columns='Max Attempts', values='Fitness')\n",
    "sns.set_context(\"paper\")\n",
    "sns_plot = sns.heatmap(chart_data, annot=True, fmt=\"g\", cmap='viridis').set_title('Simulated Annealing')\n",
    "sns_plot.get_figure().savefig(save_path + \"co_sa_hyperparam.png\", dpi=100)"
   ]
  },
  {
   "cell_type": "code",
   "execution_count": null,
   "metadata": {},
   "outputs": [],
   "source": [
    "chart_data = pd.DataFrame({'Run Times': [round(x, 2) for x in run_times], 'Max Iterations': max_iter_data, 'Max Attempts': max_attempt_data})\n",
    "chart_data = chart_data.pivot(index='Max Iterations', columns='Max Attempts', values='Run Times')\n",
    "sns.set_context(\"paper\")\n",
    "sns_plot = sns.heatmap(chart_data, annot=True, fmt=\"g\", cmap='viridis').set_title('Simulated Annealing')\n",
    "sns_plot.get_figure().savefig(save_path + \"co_sa_hyperparam.png\", dpi=100)"
   ]
  },
  {
   "cell_type": "markdown",
   "execution_count": null,
   "metadata": {},
   "outputs": [],
   "source": [
    "### Genetic Algorithm"
   ]
  },
  {
   "cell_type": "code",
   "execution_count": null,
   "metadata": {},
   "outputs": [],
   "source": [
    "all_states, all_fitness, all_curves, run_times, pop_size_data, mut_prob_data = parameter_search(\n",
    "    problem=problem, \n",
    "    algorithm=mlrose.genetic_alg,\n",
    "    pop_size=pop_size, \n",
    "    mutation_prob=mut_prob,\n",
    "    curve=True\n",
    "    )"
   ]
  },
  {
   "cell_type": "code",
   "execution_count": null,
   "metadata": {},
   "outputs": [],
   "source": [
    "chart_data = pd.DataFrame({'Fitness': all_fitness, 'Population Size': pop_size_data, 'Mutation Prob': mut_prob_data})\n",
    "chart_data = chart_data.pivot(index='Population Size', columns='Mutation Prob', values='Fitness')\n",
    "sns.set_context(\"paper\")\n",
    "sns_plot = sns.heatmap(chart_data, annot=True, fmt=\"g\", cmap='viridis').set_title('Genetic Algorithms')\n",
    "sns_plot.get_figure().savefig(save_path + \"co_ga_hyperparam.png\", dpi=100)"
   ]
  },
  {
   "cell_type": "code",
   "execution_count": null,
   "metadata": {},
   "outputs": [],
   "source": [
    "chart_data = pd.DataFrame({'Run Times': [round(x, 2) for x in run_times], 'Population Size': pop_size_data, 'Mutation Prob': mut_prob_data})\n",
    "chart_data = chart_data.pivot(index='Population Size', columns='Mutation Prob', values='Run Times')\n",
    "sns.set_context(\"paper\")\n",
    "sns_plot = sns.heatmap(chart_data, annot=True, fmt=\"g\", cmap='viridis').set_title('Genetic Algorithms')\n",
    "sns_plot.get_figure().savefig(save_path + \"co_ga_hyperparam.png\", dpi=100)"
   ]
  },
  {
   "cell_type": "markdown",
   "execution_count": null,
   "metadata": {},
   "outputs": [],
   "source": [
    "### MIMIC"
   ]
  },
  {
   "cell_type": "code",
   "execution_count": null,
   "metadata": {},
   "outputs": [],
   "source": [
    "pop_size = list(np.geomspace(50, 500, 8))\n",
    "keep_pct = list(np.linspace(0.1, 0.4, 8))\n",
    "pop_size = [int(x) for x in pop_size]\n",
    "keep_pct = [round(x, 2) for x in keep_pct]"
   ]
  },
  {
   "cell_type": "code",
   "execution_count": null,
   "metadata": {},
   "outputs": [],
   "source": [
    "all_states, all_fitness, all_curves, run_times, pop_size_data, keep_perc_data = parameter_search(\n",
    "    problem=problem, \n",
    "    algorithm=mlrose.mimic,\n",
    "    pop_size=pop_size, \n",
    "    keep_pct=keep_pct,\n",
    "    curve=True\n",
    "    )"
   ]
  },
  {
   "cell_type": "code",
   "execution_count": null,
   "metadata": {},
   "outputs": [],
   "source": [
    "chart_data = pd.DataFrame({'Fitness': all_fitness, 'Population Size': pop_size_data, 'Keep Percantage': keep_perc_data})\n",
    "chart_data = chart_data.pivot(index='Population Size', columns='Keep Percentage', values='Fitness')\n",
    "sns.set_context(\"paper\")\n",
    "sns_plot = sns.heatmap(chart_data, annot=True, fmt=\"g\", cmap='viridis').set_title('MIMIC')\n",
    "sns_plot.get_figure().savefig(save_path + \"ks_mimic_hyperparam.png\", dpi=100)"
   ]
  },
  {
   "cell_type": "code",
   "execution_count": null,
   "metadata": {},
   "outputs": [],
   "source": [
    "chart_data = pd.DataFrame({'Run Times': [round(x, 2) for x in run_times], 'Population Size': pop_size_data, 'Keep Percentage': keep_perc_data})\n",
    "chart_data = chart_data.pivot(index='Population Size', columns='Keep Percentage', values='Run Times')\n",
    "sns.set_context(\"paper\")\n",
    "sns_plot = sns.heatmap(chart_data, annot=True, fmt=\"g\", cmap='viridis').set_title('MIMIC')\n",
    "sns_plot.get_figure().savefig(save_path + \"ks_mimic_hyperparam.png\", dpi=100)"
   ]
  },
  {
   "cell_type": "markdown",
   "execution_count": null,
   "metadata": {},
   "outputs": [],
   "source": [
    "# Neural Network"
   ]
  },
  {
   "cell_type": "markdown",
   "execution_count": null,
   "metadata": {},
   "outputs": [],
   "source": [
    "## MNIST"
   ]
  },
  {
   "cell_type": "markdown",
   "execution_count": null,
   "metadata": {},
   "outputs": [],
   "source": [
    "### Randomized hill climbing"
   ]
  },
  {
   "cell_type": "code",
   "execution_count": 3,
   "metadata": {},
   "outputs": [],
   "source": [
    "transform = transforms.Compose([transforms.ToTensor(),\n",
    "                              transforms.Normalize((0.5,), (0.5,)),\n",
    "                              ])\n",
    "# transform = transforms.Compose([transforms.ToTensor()])\n",
    "\n",
    "trainset = datasets.MNIST('./data', download=True, train=True, transform=transform)\n",
    "testset = datasets.MNIST('./data', download=True, train=False, transform=transform)\n",
    "trainset, valset = torch.utils.data.random_split(trainset, [50000, 10000])\n",
    "\n",
    "train_sampler = torch.utils.data.sampler.RandomSampler(trainset, replacement=True, num_samples=5000)\n",
    "val_sampler = torch.utils.data.sampler.RandomSampler(valset, replacement=True, num_samples=5000)\n",
    "\n",
    "trainloader = torch.utils.data.DataLoader(trainset, batch_size=64, sampler=train_sampler)\n",
    "testloader = torch.utils.data.DataLoader(testset, batch_size=64, shuffle=True)\n",
    "valloader = torch.utils.data.DataLoader(valset, batch_size=64, sampler=val_sampler)"
   ]
  },
  {
   "cell_type": "code",
   "execution_count": null,
   "metadata": {},
   "outputs": [],
   "source": [
    "def nnPredict(model, valloader, criterion):\n",
    "    correct_count, all_count = 0, 0\n",
    "    running_loss = 0\n",
    "    for images,labels in valloader:\n",
    "        images = images.view(images.shape[0], -1)\n",
    "        with torch.no_grad():\n",
    "            output = model(images)\n",
    "            loss = criterion(output, labels)\n",
    "            running_loss += loss.item()\n",
    "        \n",
    "#         print(images.shape)\n",
    "#         print(labels.shape)\n",
    "\n",
    "        for i in range(len(labels)):\n",
    "            img = images[i].view(1, 784)\n",
    "#             print(img.shape)\n",
    "            with torch.no_grad():\n",
    "                logps = model(img)\n",
    "\n",
    "            ps = torch.exp(logps)\n",
    "            probab = list(ps.numpy()[0])\n",
    "            pred_label = probab.index(max(probab))\n",
    "            true_label = labels.numpy()[i]\n",
    "            if(true_label == pred_label):\n",
    "                correct_count += 1\n",
    "            all_count += 1\n",
    "\n",
    "#     print(\"Number Of Images Tested =\", all_count)\n",
    "#     print(\"Model Accuracy =\", (correct_count/all_count))\n",
    "#     print(\"Testing Loss  =\", (running_loss/len(valloader)))\n",
    "    \n",
    "    return running_loss/len(valloader), correct_count, all_count"
   ]
  },
  {
   "cell_type": "code",
   "execution_count": null,
   "metadata": {},
   "outputs": [],
   "source": [
    "input_size = 784\n",
    "hidden_sizes = [128, 64]\n",
    "output_size = 10\n",
    "drop_out = 0.2\n",
    "\n",
    "model = nn.Sequential(\n",
    "    nn.Linear(input_size, hidden_sizes[0]),\n",
    "    nn.ReLU(),\n",
    "    # nn.Dropout(drop_out, inplace=True),\n",
    "    nn.Linear(hidden_sizes[0], hidden_sizes[1]),\n",
    "    nn.ReLU(),\n",
    "    # nn.Dropout(drop_out, inplace=True),\n",
    "    nn.Linear(hidden_sizes[1], output_size),\n",
    "    nn.LogSoftmax(dim=1)\n",
    "    )"
   ]
  },
  {
   "cell_type": "code",
   "execution_count": null,
   "metadata": {},
   "outputs": [],
   "source": [
    "criterion = nn.NLLLoss()\n",
    "images, labels = next(iter(trainloader))\n",
    "images = images.view(images.shape[0], -1)\n",
    "\n",
    "logps = model(images) #log probabilities\n",
    "loss = criterion(logps, labels) #calculate the NLL loss"
   ]
  },
  {
   "cell_type": "code",
   "execution_count": null,
   "metadata": {},
   "outputs": [],
   "source": [
    "def trainNN(model):\n",
    "    optimizer = optim.SGD(model.parameters(), lr=0.001, momentum=0.9)\n",
    "    time0 = time.time()\n",
    "    epochs = 30\n",
    "    lossData = []\n",
    "    accData = []\n",
    "    runTime = []\n",
    "    for e in range(epochs):\n",
    "        startTime = time.time()\n",
    "        running_loss = 0\n",
    "        for images, labels in trainloader:\n",
    "            # Flatten MNIST images into a 784 long vector\n",
    "            images = images.view(images.shape[0], -1)\n",
    "        \n",
    "            # Training pass\n",
    "            optimizer.zero_grad()\n",
    "            \n",
    "            output = model(images)\n",
    "            loss = criterion(output, labels)\n",
    "            \n",
    "            #This is where the model learns by backpropagating\n",
    "            loss.backward()\n",
    "            \n",
    "            #And optimizes its weights here\n",
    "            optimizer.step()\n",
    "            \n",
    "            running_loss += loss.item()\n",
    "        else:\n",
    "            print(\"Epoch {} - Training loss: {}\".format(e, running_loss/len(trainloader)))\n",
    "            \n",
    "        testingLoss, correctCount, allCount = nnPredict(model, valloader, criterion)\n",
    "        print(\"Testing Loss  =\", (testingLoss))\n",
    "        \n",
    "        lossData.append([e, running_loss/len(trainloader), 'Training Error'])\n",
    "        lossData.append([e, testingLoss, 'Testing Error'])\n",
    "        accData.append([e, correctCount / allCount])\n",
    "\n",
    "        runTime.append(time.time() - startTime)\n",
    "    \n",
    "    return lossData, accData, runTime    \n",
    "    print(\"\\nTraining Time (in minutes) =\",(time.time()-time0)/60)"
   ]
  },
  {
   "cell_type": "code",
   "execution_count": null,
   "metadata": {},
   "outputs": [],
   "source": [
    "def trainNN_randomized_hill_climbing(model, stdev, restarts, max_iter):\n",
    "    # optimizer = optim.SGD(model.parameters(), lr=0.001, momentum=0.9)\n",
    "    time0 = time.time()\n",
    "    # epochs = epochs\n",
    "    lossData = []\n",
    "    accData = []\n",
    "    runTime = []\n",
    "    previous_loss = 999\n",
    "    run = True\n",
    "    iteration = 0\n",
    "    restarted = 0\n",
    "    total_iterations = 0\n",
    "    update_ls = True\n",
    "    best_loss_across = 999\n",
    "\n",
    "    best_w1 = model[0].weight\n",
    "    best_w2 = model[2].weight\n",
    "    best_w3 = model[4].weight\n",
    "\n",
    "    while run:\n",
    "        startTime = time.time()\n",
    "        running_loss = 0\n",
    "\n",
    "        state = np.random.normal(0, stdev, 109184)\n",
    "\n",
    "        l1 = torch.tensor(np.reshape(state[0:100352], (128, 784)).astype(np.float32))\n",
    "        l2 = torch.tensor(np.reshape(state[100352:108544], (64, 128)).astype(np.float32))\n",
    "        l3 = torch.tensor(np.reshape(state[108544:109184], (10, 64)).astype(np.float32))\n",
    "        # print(l1.shape)\n",
    "        # print(torch.nn.Parameter(l3))\n",
    "\n",
    "        with torch.no_grad():\n",
    "            orig_w1 = model[0].weight\n",
    "            orig_w2 = model[2].weight\n",
    "            orig_w3 = model[4].weight\n",
    "\n",
    "        with torch.no_grad():\n",
    "            model[0].weight = torch.nn.Parameter(model[0].weight + l1)\n",
    "            model[2].weight = torch.nn.Parameter(model[2].weight + l2)\n",
    "            model[4].weight = torch.nn.Parameter(model[4].weight + l3)\n",
    "\n",
    "        for images, labels in trainloader:\n",
    "            # Flatten MNIST images into a 784 long vector\n",
    "            images = images.view(images.shape[0], -1)\n",
    "\n",
    "            with torch.no_grad():\n",
    "                output = model(images)\n",
    "                loss = criterion(output, labels)\n",
    "                running_loss += loss.item()\n",
    "        \n",
    "        else:\n",
    "            current_loss = running_loss/len(trainloader)\n",
    "            # print(\"Epoch {} - Training loss: {}\".format(e, running_loss/len(trainloader)))\n",
    "\n",
    "        print(\n",
    "            'Restarted: ' + str(restarted),\n",
    "            'Iteration: ' + str(iteration), \n",
    "            'Previous loss: ' + str(round(previous_loss, 3)), \n",
    "            'Current loss: ' + str(round(current_loss, 3)),\n",
    "            'Best loss: ' + str(round(best_loss_across, 3))\n",
    "            )\n",
    "        \n",
    "        if current_loss > previous_loss:\n",
    "            iteration += 1\n",
    "            with torch.no_grad():\n",
    "                model[0].weight = orig_w1\n",
    "                model[2].weight = orig_w2\n",
    "                model[4].weight = orig_w3\n",
    "            \n",
    "            if iteration > max_iter:\n",
    "\n",
    "                restarted += 1\n",
    "\n",
    "                if previous_loss < best_loss_across:\n",
    "                    best_w1 = model[0].weight\n",
    "                    best_w2 = model[2].weight\n",
    "                    best_w3 = model[4].weight\n",
    "                    best_loss_across = previous_loss\n",
    "                    previous_loss = 999\n",
    "\n",
    "                new_weights = np.random.normal(0, 0.01, 109184)\n",
    "                n1 = torch.tensor(np.reshape(new_weights[0:100352], (128, 784)).astype(np.float32))\n",
    "                n2 = torch.tensor(np.reshape(new_weights[100352:108544], (64, 128)).astype(np.float32))\n",
    "                n3 = torch.tensor(np.reshape(new_weights[108544:109184], (10, 64)).astype(np.float32))\n",
    "\n",
    "                model[0].weight = torch.nn.Parameter(n1)\n",
    "                model[2].weight = torch.nn.Parameter(n2)\n",
    "                model[4].weight = torch.nn.Parameter(n3)\n",
    "\n",
    "                iteration = 0\n",
    "\n",
    "                if restarted > restarts:\n",
    "                    run = False\n",
    "                    model[0].weight = best_w1\n",
    "                    model[2].weight = best_w2\n",
    "                    model[4].weight = best_w3\n",
    "        else:\n",
    "            previous_loss = current_loss\n",
    "            # best_w1 = model[0].weight\n",
    "            # best_w2 = model[2].weight\n",
    "            # best_w3 = model[4].weight\n",
    "            \n",
    "            \n",
    "        testingLoss, correctCount, allCount = nnPredict(model, valloader, criterion)\n",
    "        # print(\"Testing Loss  =\", (testingLoss))\n",
    "        \n",
    "        lossData.append([total_iterations, running_loss/len(trainloader), 'Training Error'])\n",
    "        lossData.append([total_iterations, testingLoss, 'Testing Error'])\n",
    "        accData.append([total_iterations, correctCount / allCount])\n",
    "\n",
    "        runTime.append(time.time() - startTime)\n",
    "        total_iterations += 1\n",
    "\n",
    "        # print(model[0].weight)\n",
    "    \n",
    "    return lossData, accData, runTime    "
   ]
  },
  {
   "cell_type": "code",
   "execution_count": null,
   "metadata": {},
   "outputs": [],
   "source": [
    "lossDataBaseline, accDataBaseline, runtime = trainNN_randomized_hill_climbing(model, 0.001, 10, 500)"
   ]
  },
  {
   "cell_type": "code",
   "execution_count": null,
   "metadata": {},
   "outputs": [],
   "source": [
    "accDataBaseline = [[row[0], row[1], 'Baseline Accuracy'] for row in accDataBaseline]"
   ]
  },
  {
   "cell_type": "code",
   "execution_count": null,
   "metadata": {},
   "outputs": [],
   "source": [
    "lossDataBaseline = pd.DataFrame.from_records(lossDataBaseline, columns=[\"Epoch\", \"Loss\", \"Stage\"])\n",
    "accDataBaseline = pd.DataFrame.from_records(accDataBaseline, columns=[\"Epoch\", \"Accuracy\", \"Stage\"])"
   ]
  },
  {
   "cell_type": "code",
   "execution_count": null,
   "metadata": {},
   "outputs": [],
   "source": [
    "# vizualize train and test error across iterations\n",
    "sns.set(\n",
    "    style=\"darkgrid\"\n",
    "    )\n",
    "\n",
    "# sns.lineplot(\n",
    "#     x=\"Epoch\", y=\"Loss\",\n",
    "#     hue=\"Stage\",\n",
    "#     data=lossDataBaseline\n",
    "#     ).set_title('Baseline NN')\n",
    "\n",
    "sns_plot = sns.lineplot(\n",
    "    x=\"Epoch\", y=\"Loss\",\n",
    "    hue=\"Stage\",\n",
    "    data=lossDataBaseline\n",
    "    ).set_title('Baseline NN')\n",
    "# sns_plot.get_figure().savefig(savePath + \"NN_MNIST_baseline_learning-curve.png\", dpi=100)"
   ]
  },
  {
   "cell_type": "code",
   "execution_count": null,
   "metadata": {},
   "outputs": [],
   "source": [
    "sns.set(\n",
    "    style=\"darkgrid\"\n",
    "    )\n",
    "\n",
    "sns.lineplot(\n",
    "    x=\"Epoch\", y=\"Accuracy\",\n",
    "    hue=\"Stage\",\n",
    "    data=accDataBaseline\n",
    "    ).set_title('3 Baseline NN')"
   ]
  },
  {
   "cell_type": "code",
   "execution_count": null,
   "metadata": {},
   "outputs": [],
   "source": [
    "testingLoss, correctCount, allCount = nnPredict(model, testloader, criterion)"
   ]
  },
  {
   "cell_type": "code",
   "execution_count": null,
   "metadata": {},
   "outputs": [],
   "source": [
    "correctCount / allCount"
   ]
  },
  {
   "cell_type": "markdown",
   "execution_count": null,
   "metadata": {},
   "outputs": [],
   "source": [
    "### Simulated Annealing"
   ]
  },
  {
   "cell_type": "code",
   "execution_count": null,
   "metadata": {},
   "outputs": [],
   "source": [
    "input_size = 784\n",
    "hidden_sizes = [128, 64]\n",
    "output_size = 10\n",
    "drop_out = 0.2\n",
    "\n",
    "model = nn.Sequential(\n",
    "    nn.Linear(input_size, hidden_sizes[0]),\n",
    "    nn.ReLU(),\n",
    "    # nn.Dropout(drop_out, inplace=True),\n",
    "    nn.Linear(hidden_sizes[0], hidden_sizes[1]),\n",
    "    nn.ReLU(),\n",
    "    # nn.Dropout(drop_out, inplace=True),\n",
    "    nn.Linear(hidden_sizes[1], output_size),\n",
    "    nn.LogSoftmax(dim=1)\n",
    "    )"
   ]
  },
  {
   "cell_type": "code",
   "execution_count": null,
   "metadata": {},
   "outputs": [],
   "source": [
    "criterion = nn.NLLLoss()\n",
    "images, labels = next(iter(trainloader))\n",
    "images = images.view(images.shape[0], -1)\n",
    "\n",
    "logps = model(images) #log probabilities\n",
    "loss = criterion(logps, labels) #calculate the NLL loss"
   ]
  },
  {
   "cell_type": "code",
   "execution_count": null,
   "metadata": {},
   "outputs": [],
   "source": [
    "def nnPredict(model, valloader, criterion):\n",
    "    correct_count, all_count = 0, 0\n",
    "    running_loss = 0\n",
    "    for images,labels in valloader:\n",
    "        images = images.view(images.shape[0], -1)\n",
    "        with torch.no_grad():\n",
    "            output = model(images)\n",
    "            loss = criterion(output, labels)\n",
    "            running_loss += loss.item()\n",
    "        \n",
    "#         print(images.shape)\n",
    "#         print(labels.shape)\n",
    "\n",
    "        for i in range(len(labels)):\n",
    "            img = images[i].view(1, 784)\n",
    "#             print(img.shape)\n",
    "            with torch.no_grad():\n",
    "                logps = model(img)\n",
    "\n",
    "            ps = torch.exp(logps)\n",
    "            probab = list(ps.numpy()[0])\n",
    "            pred_label = probab.index(max(probab))\n",
    "            true_label = labels.numpy()[i]\n",
    "            if(true_label == pred_label):\n",
    "                correct_count += 1\n",
    "            all_count += 1\n",
    "\n",
    "#     print(\"Number Of Images Tested =\", all_count)\n",
    "#     print(\"Model Accuracy =\", (correct_count/all_count))\n",
    "#     print(\"Testing Loss  =\", (running_loss/len(valloader)))\n",
    "    \n",
    "    return running_loss/len(valloader), correct_count, all_count"
   ]
  },
  {
   "cell_type": "code",
   "execution_count": null,
   "metadata": {},
   "outputs": [],
   "source": [
    "def trainNN_simulated_annealing(model, stdev, max_iter, T, decay):\n",
    "    # optimizer = optim.SGD(model.parameters(), lr=0.001, momentum=0.9)\n",
    "    time0 = time.time()\n",
    "    # epochs = epochs\n",
    "    lossData = []\n",
    "    accData = []\n",
    "    runTime = []\n",
    "    previous_loss = 999\n",
    "    total_iterations = 0\n",
    "    update_ls = True\n",
    "    best_loss_across = 999\n",
    "\n",
    "    best_w1 = model[0].weight\n",
    "    best_w2 = model[2].weight\n",
    "    best_w3 = model[4].weight\n",
    "\n",
    "    for e in range(0, max_iter):\n",
    "        startTime = time.time()\n",
    "        running_loss = 0\n",
    "\n",
    "        # state = np.random.normal(0, stdev, 109184)\n",
    "\n",
    "        l1 = torch.tensor(np.random.normal(0, stdev, (128, 784)).astype(np.float32))\n",
    "        l2 = torch.tensor(np.random.normal(0, stdev, (64, 128)).astype(np.float32))\n",
    "        l3 = torch.tensor(np.random.normal(0, stdev, (10, 64)).astype(np.float32))\n",
    "        # print(l1.shape)\n",
    "        # print(torch.nn.Parameter(l3))\n",
    "\n",
    "        with torch.no_grad():\n",
    "            orig_w1 = model[0].weight\n",
    "            orig_w2 = model[2].weight\n",
    "            orig_w3 = model[4].weight\n",
    "\n",
    "        with torch.no_grad():\n",
    "            model[0].weight = torch.nn.Parameter(model[0].weight + l1)\n",
    "            model[2].weight = torch.nn.Parameter(model[2].weight + l2)\n",
    "            model[4].weight = torch.nn.Parameter(model[4].weight + l3)\n",
    "\n",
    "        for images, labels in trainloader:\n",
    "            # Flatten MNIST images into a 784 long vector\n",
    "            images = images.view(images.shape[0], -1)\n",
    "\n",
    "            with torch.no_grad():\n",
    "                output = model(images)\n",
    "                loss = criterion(output, labels)\n",
    "                running_loss += loss.item()\n",
    "        \n",
    "        else:\n",
    "            current_loss = running_loss/len(trainloader)\n",
    "            # print(\"Epoch {} - Training loss: {}\".format(e, running_loss/len(trainloader)))\n",
    "\n",
    "        print(\n",
    "            'Iteration: ' + str(e), \n",
    "            'Previous loss: ' + str(round(previous_loss, 3)), \n",
    "            'Current loss: ' + str(round(current_loss, 3)),\n",
    "            )\n",
    "        \n",
    "        if current_loss > previous_loss:\n",
    "            loss_difference = current_loss - previous_loss\n",
    "            prob_accept = np.exp(-loss_difference/(T))\n",
    "            prob_uniform = np.random.uniform()\n",
    "            print('Loss difference: ' + str(loss_difference))\n",
    "            print('Prob of accepting the move: ' + str(prob_accept))\n",
    "            print('Prob hurdle: ' + str(prob_uniform))\n",
    "            \n",
    "            if prob_accept > prob_uniform:\n",
    "                print('Accepted worse solution')\n",
    "                previous_loss = current_loss\n",
    "\n",
    "            else:\n",
    "                with torch.no_grad():\n",
    "                    model[0].weight = orig_w1\n",
    "                    model[2].weight = orig_w2\n",
    "                    model[4].weight = orig_w3\n",
    "\n",
    "        else:\n",
    "            previous_loss = current_loss\n",
    "            # best_w1 = model[0].weight\n",
    "            # best_w2 = model[2].weight\n",
    "            # best_w3 = model[4].weight\n",
    "            \n",
    "            \n",
    "        # testingLoss, correctCount, allCount = nnPredict(model, valloader, criterion)\n",
    "        # print(\"Testing Loss  =\", (testingLoss))\n",
    "        \n",
    "        lossData.append([e, running_loss/len(trainloader), 'Training Error'])\n",
    "        # lossData.append([e, testingLoss, 'Testing Error'])\n",
    "        # accData.append([e, correctCount / allCount])\n",
    "\n",
    "        runTime.append(time.time() - startTime)\n",
    "\n",
    "        T *= decay\n",
    "        print('New temp: ' + str(T))\n",
    "\n",
    "        # print(model[0].weight)\n",
    "    \n",
    "    return lossData, accData, runTime    "
   ]
  },
  {
   "cell_type": "code",
   "execution_count": null,
   "metadata": {},
   "outputs": [],
   "source": [
    "lossDataBaseline, accDataBaseline, runtime = trainNN_simulated_annealing(\n",
    "    model, \n",
    "    stdev=0.001, \n",
    "    max_iter=2000, \n",
    "    T=0.01, \n",
    "    decay=0.9999\n",
    "    )"
   ]
  },
  {
   "cell_type": "code",
   "execution_count": null,
   "metadata": {},
   "outputs": [],
   "source": [
    "accDataBaseline = [[row[0], row[1], 'Baseline Accuracy'] for row in accDataBaseline]\n",
    "lossDataBaseline = pd.DataFrame.from_records(lossDataBaseline, columns=[\"Epoch\", \"Loss\", \"Stage\"])\n",
    "accDataBaseline = pd.DataFrame.from_records(accDataBaseline, columns=[\"Epoch\", \"Accuracy\", \"Stage\"])"
   ]
  },
  {
   "cell_type": "code",
   "execution_count": null,
   "metadata": {},
   "outputs": [],
   "source": [
    "# vizualize train and test error across iterations\n",
    "sns.set(\n",
    "    style=\"darkgrid\"\n",
    "    )\n",
    "\n",
    "sns_plot = sns.lineplot(\n",
    "    x=\"Epoch\", y=\"Loss\",\n",
    "    hue=\"Stage\",\n",
    "    data=lossDataBaseline\n",
    "    ).set_title('Baseline NN')\n",
    "# sns_plot.get_figure().savefig(savePath + \"NN_MNIST_baseline_learning-curve.png\", dpi=100)"
   ]
  },
  {
   "cell_type": "code",
   "execution_count": null,
   "metadata": {},
   "outputs": [],
   "source": [
    "sns.set(\n",
    "    style=\"darkgrid\"\n",
    "    )\n",
    "\n",
    "sns.lineplot(\n",
    "    x=\"Epoch\", y=\"Accuracy\",\n",
    "    hue=\"Stage\",\n",
    "    data=accDataBaseline\n",
    "    ).set_title('3 Baseline NN')"
   ]
  },
  {
   "cell_type": "code",
   "execution_count": null,
   "metadata": {},
   "outputs": [],
   "source": [
    "testingLoss, correctCount, allCount = nnPredict(model, testloader, criterion)"
   ]
  },
  {
   "cell_type": "code",
   "execution_count": null,
   "metadata": {},
   "outputs": [],
   "source": [
    "correctCount / allCount"
   ]
  },
  {
   "cell_type": "markdown",
   "execution_count": null,
   "metadata": {},
   "outputs": [],
   "source": [
    "### Genetic Algorithms"
   ]
  },
  {
   "cell_type": "code",
   "execution_count": 172,
   "metadata": {},
   "outputs": [],
   "source": [
    "input_size = 784\n",
    "hidden_sizes = [128, 64]\n",
    "output_size = 10\n",
    "drop_out = 0.2\n",
    "\n",
    "model = nn.Sequential(\n",
    "    nn.Linear(input_size, hidden_sizes[0]),\n",
    "    nn.ReLU(),\n",
    "    # nn.Dropout(drop_out, inplace=True),\n",
    "    nn.Linear(hidden_sizes[0], hidden_sizes[1]),\n",
    "    nn.ReLU(),\n",
    "    # nn.Dropout(drop_out, inplace=True),\n",
    "    nn.Linear(hidden_sizes[1], output_size),\n",
    "    nn.LogSoftmax(dim=1)\n",
    "    )"
   ]
  },
  {
   "cell_type": "code",
   "execution_count": 173,
   "metadata": {},
   "outputs": [],
   "source": [
    "criterion = nn.NLLLoss()\n",
    "images, labels = next(iter(trainloader))\n",
    "images = images.view(images.shape[0], -1)\n",
    "\n",
    "logps = model(images) #log probabilities\n",
    "loss = criterion(logps, labels) #calculate the NLL loss"
   ]
  },
  {
   "cell_type": "code",
   "execution_count": 174,
   "metadata": {},
   "outputs": [],
   "source": [
    "def nnPredict(model, valloader, criterion):\n",
    "    correct_count, all_count = 0, 0\n",
    "    running_loss = 0\n",
    "    for images,labels in valloader:\n",
    "        images = images.view(images.shape[0], -1)\n",
    "        with torch.no_grad():\n",
    "            output = model(images)\n",
    "            loss = criterion(output, labels)\n",
    "            running_loss += loss.item()\n",
    "        \n",
    "#         print(images.shape)\n",
    "#         print(labels.shape)\n",
    "\n",
    "        for i in range(len(labels)):\n",
    "            img = images[i].view(1, 784)\n",
    "#             print(img.shape)\n",
    "            with torch.no_grad():\n",
    "                logps = model(img)\n",
    "\n",
    "            ps = torch.exp(logps)\n",
    "            probab = list(ps.numpy()[0])\n",
    "            pred_label = probab.index(max(probab))\n",
    "            true_label = labels.numpy()[i]\n",
    "            if(true_label == pred_label):\n",
    "                correct_count += 1\n",
    "            all_count += 1\n",
    "\n",
    "#     print(\"Number Of Images Tested =\", all_count)\n",
    "#     print(\"Model Accuracy =\", (correct_count/all_count))\n",
    "#     print(\"Testing Loss  =\", (running_loss/len(valloader)))\n",
    "    \n",
    "    return running_loss/len(valloader), correct_count, all_count"
   ]
  },
  {
   "cell_type": "code",
   "execution_count": 203,
   "metadata": {},
   "outputs": [],
   "source": [
    "def trainNN_GA(individual):\n",
    "   \n",
    "    running_loss = 0\n",
    "\n",
    "    a = individual[0:100352]\n",
    "    b = individual[100352:108544]\n",
    "    c = individual[108544:109184]\n",
    "\n",
    "    l1 = torch.tensor(np.reshape(a, (128, 784)).astype(np.float32))\n",
    "    l2 = torch.tensor(np.reshape(b, (64, 128)).astype(np.float32))\n",
    "    l3 = torch.tensor(np.reshape(c, (10, 64)).astype(np.float32))\n",
    "\n",
    "    with torch.no_grad():\n",
    "        model[0].weight = torch.nn.Parameter(l1)\n",
    "        model[2].weight = torch.nn.Parameter(l2)\n",
    "        model[4].weight = torch.nn.Parameter(l3)\n",
    "\n",
    "    for images, labels in trainloader:\n",
    "        # Flatten MNIST images into a 784 long vector\n",
    "        images = images.view(images.shape[0], -1)\n",
    "\n",
    "        with torch.no_grad():\n",
    "            output = model(images)\n",
    "            loss = criterion(output, labels)\n",
    "            running_loss += loss.item()\n",
    "    \n",
    "    return running_loss/len(trainloader),    "
   ]
  },
  {
   "cell_type": "markdown",
   "execution_count": null,
   "metadata": {},
   "outputs": [],
   "source": [
    "The following code was adpated from https://deap.readthedocs.io/en/master/examples/ga_onemax.html"
   ]
  },
  {
   "cell_type": "code",
   "execution_count": 205,
   "metadata": {},
   "outputs": [
    {
     "name": "stderr",
     "output_type": "stream",
     "text": "/anaconda3/envs/ml/lib/python3.6/site-packages/deap/creator.py:141: RuntimeWarning: A class named 'FitnessMin' has already been created and it will be overwritten. Consider deleting previous creation of that class or rename it.\n  RuntimeWarning)\n/anaconda3/envs/ml/lib/python3.6/site-packages/deap/creator.py:141: RuntimeWarning: A class named 'Individual' has already been created and it will be overwritten. Consider deleting previous creation of that class or rename it.\n  RuntimeWarning)\n"
    }
   ],
   "source": [
    "creator.create(\"FitnessMin\", base.Fitness, weights=(-1.0,))\n",
    "creator.create(\"Individual\", list, fitness=creator.FitnessMin)"
   ]
  },
  {
   "cell_type": "code",
   "execution_count": 206,
   "metadata": {},
   "outputs": [],
   "source": [
    "def model_weights(model):\n",
    "\n",
    "    data = model.state_dict()\n",
    "\n",
    "    l1 = list(np.reshape(np.array(data['0.weight']), 100352))\n",
    "    l2 = list(np.reshape(np.array(data['2.weight']), 8192))\n",
    "    l3 = list(np.reshape(np.array(data['4.weight']), 640))\n",
    "\n",
    "    a = l1 + l2 + l3\n",
    "\n",
    "    # print(len(a))\n",
    "\n",
    "    return a"
   ]
  },
  {
   "cell_type": "code",
   "execution_count": 208,
   "metadata": {},
   "outputs": [],
   "source": [
    "toolbox = base.Toolbox()\n",
    "\n",
    "# Attribute generator \n",
    "# toolbox.register(\"attr_bool\", random.randint, 0, 1)\n",
    "toolbox.register(\"get_weights\", model_weights, model)\n",
    "\n",
    "# Structure initializers\n",
    "toolbox.register(\n",
    "    \"individual\", \n",
    "    tools.initIterate, \n",
    "    creator.Individual, \n",
    "    toolbox.get_weights \n",
    "    )\n",
    "toolbox.register(\n",
    "    \"population\", \n",
    "    tools.initRepeat, \n",
    "    list, \n",
    "    toolbox.individual\n",
    ")\n"
   ]
  },
  {
   "cell_type": "code",
   "execution_count": 209,
   "metadata": {},
   "outputs": [],
   "source": [
    "toolbox.register(\"evaluate\", trainNN_GA)\n",
    "toolbox.register(\"mate\", tools.cxOnePoint)\n",
    "toolbox.register(\"mutate\", tools.mutGaussian, indpb=0.05, mu=0.0, sigma=0.1)\n",
    "toolbox.register(\"select\", tools.selTournament, tournsize=3)"
   ]
  },
  {
   "cell_type": "code",
   "execution_count": 216,
   "metadata": {},
   "outputs": [],
   "source": [
    "def ga():\n",
    "    pop = toolbox.population(n=50)\n",
    "    hof = tools.HallOfFame(1)\n",
    "    stats = tools.Statistics(lambda ind: ind.fitness.values)\n",
    "    stats.register(\"avg\", np.mean)\n",
    "    stats.register(\"std\", np.std)\n",
    "    stats.register(\"min\", np.min)\n",
    "    stats.register(\"max\", np.max)\n",
    "    \n",
    "    pop, log = algorithms.eaSimple(pop, toolbox, cxpb=0.4, mutpb=0.2, ngen=50, \n",
    "                                   stats=stats, halloffame=hof, verbose=True)\n",
    "    \n",
    "    return pop, log"
   ]
  },
  {
   "cell_type": "code",
   "execution_count": 217,
   "metadata": {},
   "outputs": [
    {
     "name": "stdout",
     "output_type": "stream",
     "text": "gen\tnevals\tavg    \tstd       \tmin    \tmax    \n0  \t50    \t2.13477\t0.00387634\t2.12715\t2.14201\n1  \t23    \t2.14379\t0.027666  \t2.12095\t2.24566\n2  \t23    \t2.14372\t0.0280426 \t2.12025\t2.24388\n3  \t26    \t2.1513 \t0.0413196 \t2.12025\t2.27275\n4  \t29    \t2.13793\t0.0183119 \t2.11634\t2.23297\n5  \t35    \t2.14651\t0.0328921 \t2.10766\t2.2605 \n6  \t29    \t2.13822\t0.0236392 \t2.10735\t2.20503\n7  \t30    \t2.14834\t0.0372103 \t2.1058 \t2.23559\n8  \t28    \t2.13805\t0.0407359 \t2.0957 \t2.29048\n9  \t25    \t2.12782\t0.0430916 \t2.08991\t2.27217\n10 \t23    \t2.11001\t0.0210041 \t2.08253\t2.19188\n11 \t22    \t2.1066 \t0.0273961 \t2.0674 \t2.21782\n12 \t22    \t2.09769\t0.0231529 \t2.0674 \t2.19166\n13 \t32    \t2.10089\t0.0299207 \t2.0674 \t2.21773\n14 \t35    \t2.09915\t0.0409442 \t2.04888\t2.23543\n15 \t25    \t2.09   \t0.0317343 \t2.06053\t2.17547\n16 \t21    \t2.08265\t0.0255048 \t2.0582 \t2.15982\n17 \t31    \t2.08739\t0.0405654 \t2.04728\t2.21927\n18 \t21    \t2.08166\t0.0402946 \t2.04321\t2.23159\n19 \t28    \t2.0709 \t0.0363612 \t2.04067\t2.25853\n20 \t25    \t2.06971\t0.0447738 \t2.04067\t2.28901\n21 \t23    \t2.06151\t0.0350056 \t2.04067\t2.20703\n22 \t16    \t2.0558 \t0.02316   \t2.04071\t2.14685\n23 \t14    \t2.05729\t0.036673  \t2.04071\t2.24114\n24 \t20    \t2.06067\t0.0390701 \t2.04071\t2.21155\n25 \t18    \t2.05717\t0.0392327 \t2.03615\t2.2039 \n26 \t27    \t2.06287\t0.0468822 \t2.03615\t2.28943\n27 \t23    \t2.05611\t0.034011  \t2.04071\t2.2234 \n28 \t26    \t2.05808\t0.0324613 \t2.03618\t2.16155\n29 \t28    \t2.05399\t0.024044  \t2.03803\t2.13796\n30 \t28    \t2.05908\t0.0384494 \t2.03741\t2.23973\n31 \t19    \t2.05649\t0.0337748 \t2.0367 \t2.16517\n32 \t23    \t2.06834\t0.0521057 \t2.0367 \t2.28324\n33 \t20    \t2.04718\t0.0194752 \t2.0367 \t2.16593\n34 \t25    \t2.0613 \t0.0414628 \t2.0367 \t2.2398 \n35 \t27    \t2.05789\t0.0380901 \t2.0367 \t2.18503\n36 \t15    \t2.04834\t0.0244318 \t2.0367 \t2.1365 \n37 \t26    \t2.06186\t0.0441001 \t2.0367 \t2.25515\n38 \t27    \t2.05486\t0.0284449 \t2.0367 \t2.16801\n39 \t27    \t2.05975\t0.03644   \t2.0367 \t2.20002\n40 \t32    \t2.05823\t0.0324644 \t2.0367 \t2.18405\n41 \t23    \t2.05926\t0.0306857 \t2.0367 \t2.14631\n42 \t32    \t2.06609\t0.0406323 \t2.0367 \t2.20113\n43 \t25    \t2.06255\t0.0362487 \t2.03499\t2.1574 \n44 \t24    \t2.05805\t0.0317224 \t2.03499\t2.15387\n45 \t27    \t2.0644 \t0.0429158 \t2.03499\t2.19657\n46 \t29    \t2.05801\t0.0304057 \t2.03499\t2.15492\n47 \t28    \t2.05893\t0.0361997 \t2.03499\t2.16225\n48 \t30    \t2.05643\t0.0278194 \t2.03499\t2.1576 \n49 \t17    \t2.04923\t0.0267707 \t2.03499\t2.1629 \n50 \t25    \t2.05159\t0.0266501 \t2.03499\t2.15086\n"
    }
   ],
   "source": [
    "pop, log = ga()"
   ]
  },
  {
   "cell_type": "code",
   "execution_count": 220,
   "metadata": {},
   "outputs": [],
   "source": [
    "data = pd.DataFrame(log)"
   ]
  },
  {
   "cell_type": "code",
   "execution_count": 227,
   "metadata": {},
   "outputs": [
    {
     "data": {
      "image/png": "[encoded data removed]",
      "image/svg+xml": "<?xml version=\"1.0\" encoding=\"utf-8\" standalone=\"no\"?>\n<!DOCTYPE svg PUBLIC \"-//W3C//DTD SVG 1.1//EN\"\n  \"http://www.w3.org/Graphics/SVG/1.1/DTD/svg11.dtd\">\n<!-- Created with matplotlib (https://matplotlib.org/) -->\n<svg height=\"281.109844pt\" version=\"1.1\" viewBox=\"0 0 395.081406 281.109844\" width=\"395.081406pt\" xmlns=\"http://www.w3.org/2000/svg\" xmlns:xlink=\"http://www.w3.org/1999/xlink\">\n <defs>\n  <style type=\"text/css\">\n*{stroke-linecap:butt;stroke-linejoin:round;white-space:pre;}\n  </style>\n </defs>\n <g id=\"figure_1\">\n  <g id=\"patch_1\">\n   <path d=\"M 0 281.109844 \nL 395.081406 281.109844 \nL 395.081406 0 \nL 0 0 \nz\n\" style=\"fill:#ffffff;\"/>\n  </g>\n  <g id=\"axes_1\">\n   <g id=\"patch_2\">\n    <path d=\"M 53.081406 239.375625 \nL 387.881406 239.375625 \nL 387.881406 21.935625 \nL 53.081406 21.935625 \nz\n\" style=\"fill:#eaeaf2;\"/>\n   </g>\n   <g id=\"matplotlib.axis_1\">\n    <g id=\"xtick_1\">\n     <g id=\"line2d_1\">\n      <path clip-path=\"url(#p995b8e76de)\" d=\"M 68.299588 239.375625 \nL 68.299588 21.935625 \n\" style=\"fill:none;stroke:#ffffff;stroke-linecap:round;\"/>\n     </g>\n     <g id=\"text_1\">\n      <!-- 0 -->\n      <defs>\n       <path d=\"M 4.15625 35.296875 \nQ 4.15625 48 6.765625 55.734375 \nQ 9.375 63.484375 14.515625 67.671875 \nQ 19.671875 71.875 27.484375 71.875 \nQ 33.25 71.875 37.59375 69.546875 \nQ 41.9375 67.234375 44.765625 62.859375 \nQ 47.609375 58.5 49.21875 52.21875 \nQ 50.828125 45.953125 50.828125 35.296875 \nQ 50.828125 22.703125 48.234375 14.96875 \nQ 45.65625 7.234375 40.5 3 \nQ 35.359375 -1.21875 27.484375 -1.21875 \nQ 17.140625 -1.21875 11.234375 6.203125 \nQ 4.15625 15.140625 4.15625 35.296875 \nz\nM 13.1875 35.296875 \nQ 13.1875 17.671875 17.3125 11.828125 \nQ 21.4375 6 27.484375 6 \nQ 33.546875 6 37.671875 11.859375 \nQ 41.796875 17.71875 41.796875 35.296875 \nQ 41.796875 52.984375 37.671875 58.78125 \nQ 33.546875 64.59375 27.390625 64.59375 \nQ 21.34375 64.59375 17.71875 59.46875 \nQ 13.1875 52.9375 13.1875 35.296875 \nz\n\" id=\"ArialMT-48\"/>\n      </defs>\n      <g style=\"fill:#262626;\" transform=\"translate(65.241072 256.749219)scale(0.11 -0.11)\">\n       <use xlink:href=\"#ArialMT-48\"/>\n      </g>\n     </g>\n    </g>\n    <g id=\"xtick_2\">\n     <g id=\"line2d_2\">\n      <path clip-path=\"url(#p995b8e76de)\" d=\"M 129.172315 239.375625 \nL 129.172315 21.935625 \n\" style=\"fill:none;stroke:#ffffff;stroke-linecap:round;\"/>\n     </g>\n     <g id=\"text_2\">\n      <!-- 10 -->\n      <defs>\n       <path d=\"M 37.25 0 \nL 28.46875 0 \nL 28.46875 56 \nQ 25.296875 52.984375 20.140625 49.953125 \nQ 14.984375 46.921875 10.890625 45.40625 \nL 10.890625 53.90625 \nQ 18.265625 57.375 23.78125 62.296875 \nQ 29.296875 67.234375 31.59375 71.875 \nL 37.25 71.875 \nz\n\" id=\"ArialMT-49\"/>\n      </defs>\n      <g style=\"fill:#262626;\" transform=\"translate(123.055284 256.749219)scale(0.11 -0.11)\">\n       <use xlink:href=\"#ArialMT-49\"/>\n       <use x=\"55.615234\" xlink:href=\"#ArialMT-48\"/>\n      </g>\n     </g>\n    </g>\n    <g id=\"xtick_3\">\n     <g id=\"line2d_3\">\n      <path clip-path=\"url(#p995b8e76de)\" d=\"M 190.045043 239.375625 \nL 190.045043 21.935625 \n\" style=\"fill:none;stroke:#ffffff;stroke-linecap:round;\"/>\n     </g>\n     <g id=\"text_3\">\n      <!-- 20 -->\n      <defs>\n       <path d=\"M 50.34375 8.453125 \nL 50.34375 0 \nL 3.03125 0 \nQ 2.9375 3.171875 4.046875 6.109375 \nQ 5.859375 10.9375 9.828125 15.625 \nQ 13.8125 20.3125 21.34375 26.46875 \nQ 33.015625 36.03125 37.109375 41.625 \nQ 41.21875 47.21875 41.21875 52.203125 \nQ 41.21875 57.421875 37.46875 61 \nQ 33.734375 64.59375 27.734375 64.59375 \nQ 21.390625 64.59375 17.578125 60.78125 \nQ 13.765625 56.984375 13.71875 50.25 \nL 4.6875 51.171875 \nQ 5.609375 61.28125 11.65625 66.578125 \nQ 17.71875 71.875 27.9375 71.875 \nQ 38.234375 71.875 44.234375 66.15625 \nQ 50.25 60.453125 50.25 52 \nQ 50.25 47.703125 48.484375 43.546875 \nQ 46.734375 39.40625 42.65625 34.8125 \nQ 38.578125 30.21875 29.109375 22.21875 \nQ 21.1875 15.578125 18.9375 13.203125 \nQ 16.703125 10.84375 15.234375 8.453125 \nz\n\" id=\"ArialMT-50\"/>\n      </defs>\n      <g style=\"fill:#262626;\" transform=\"translate(183.928011 256.749219)scale(0.11 -0.11)\">\n       <use xlink:href=\"#ArialMT-50\"/>\n       <use x=\"55.615234\" xlink:href=\"#ArialMT-48\"/>\n      </g>\n     </g>\n    </g>\n    <g id=\"xtick_4\">\n     <g id=\"line2d_4\">\n      <path clip-path=\"url(#p995b8e76de)\" d=\"M 250.91777 239.375625 \nL 250.91777 21.935625 \n\" style=\"fill:none;stroke:#ffffff;stroke-linecap:round;\"/>\n     </g>\n     <g id=\"text_4\">\n      <!-- 30 -->\n      <defs>\n       <path d=\"M 4.203125 18.890625 \nL 12.984375 20.0625 \nQ 14.5 12.59375 18.140625 9.296875 \nQ 21.78125 6 27 6 \nQ 33.203125 6 37.46875 10.296875 \nQ 41.75 14.59375 41.75 20.953125 \nQ 41.75 27 37.796875 30.921875 \nQ 33.84375 34.859375 27.734375 34.859375 \nQ 25.25 34.859375 21.53125 33.890625 \nL 22.515625 41.609375 \nQ 23.390625 41.5 23.921875 41.5 \nQ 29.546875 41.5 34.03125 44.421875 \nQ 38.53125 47.359375 38.53125 53.46875 \nQ 38.53125 58.296875 35.25 61.46875 \nQ 31.984375 64.65625 26.8125 64.65625 \nQ 21.6875 64.65625 18.265625 61.421875 \nQ 14.84375 58.203125 13.875 51.765625 \nL 5.078125 53.328125 \nQ 6.6875 62.15625 12.390625 67.015625 \nQ 18.109375 71.875 26.609375 71.875 \nQ 32.46875 71.875 37.390625 69.359375 \nQ 42.328125 66.84375 44.9375 62.5 \nQ 47.5625 58.15625 47.5625 53.265625 \nQ 47.5625 48.640625 45.0625 44.828125 \nQ 42.578125 41.015625 37.703125 38.765625 \nQ 44.046875 37.3125 47.5625 32.6875 \nQ 51.078125 28.078125 51.078125 21.140625 \nQ 51.078125 11.765625 44.234375 5.25 \nQ 37.40625 -1.265625 26.953125 -1.265625 \nQ 17.53125 -1.265625 11.296875 4.34375 \nQ 5.078125 9.96875 4.203125 18.890625 \nz\n\" id=\"ArialMT-51\"/>\n      </defs>\n      <g style=\"fill:#262626;\" transform=\"translate(244.800739 256.749219)scale(0.11 -0.11)\">\n       <use xlink:href=\"#ArialMT-51\"/>\n       <use x=\"55.615234\" xlink:href=\"#ArialMT-48\"/>\n      </g>\n     </g>\n    </g>\n    <g id=\"xtick_5\">\n     <g id=\"line2d_5\">\n      <path clip-path=\"url(#p995b8e76de)\" d=\"M 311.790497 239.375625 \nL 311.790497 21.935625 \n\" style=\"fill:none;stroke:#ffffff;stroke-linecap:round;\"/>\n     </g>\n     <g id=\"text_5\">\n      <!-- 40 -->\n      <defs>\n       <path d=\"M 32.328125 0 \nL 32.328125 17.140625 \nL 1.265625 17.140625 \nL 1.265625 25.203125 \nL 33.9375 71.578125 \nL 41.109375 71.578125 \nL 41.109375 25.203125 \nL 50.78125 25.203125 \nL 50.78125 17.140625 \nL 41.109375 17.140625 \nL 41.109375 0 \nz\nM 32.328125 25.203125 \nL 32.328125 57.46875 \nL 9.90625 25.203125 \nz\n\" id=\"ArialMT-52\"/>\n      </defs>\n      <g style=\"fill:#262626;\" transform=\"translate(305.673466 256.749219)scale(0.11 -0.11)\">\n       <use xlink:href=\"#ArialMT-52\"/>\n       <use x=\"55.615234\" xlink:href=\"#ArialMT-48\"/>\n      </g>\n     </g>\n    </g>\n    <g id=\"xtick_6\">\n     <g id=\"line2d_6\">\n      <path clip-path=\"url(#p995b8e76de)\" d=\"M 372.663224 239.375625 \nL 372.663224 21.935625 \n\" style=\"fill:none;stroke:#ffffff;stroke-linecap:round;\"/>\n     </g>\n     <g id=\"text_6\">\n      <!-- 50 -->\n      <defs>\n       <path d=\"M 4.15625 18.75 \nL 13.375 19.53125 \nQ 14.40625 12.796875 18.140625 9.390625 \nQ 21.875 6 27.15625 6 \nQ 33.5 6 37.890625 10.78125 \nQ 42.28125 15.578125 42.28125 23.484375 \nQ 42.28125 31 38.0625 35.34375 \nQ 33.84375 39.703125 27 39.703125 \nQ 22.75 39.703125 19.328125 37.765625 \nQ 15.921875 35.84375 13.96875 32.765625 \nL 5.71875 33.84375 \nL 12.640625 70.609375 \nL 48.25 70.609375 \nL 48.25 62.203125 \nL 19.671875 62.203125 \nL 15.828125 42.96875 \nQ 22.265625 47.46875 29.34375 47.46875 \nQ 38.71875 47.46875 45.15625 40.96875 \nQ 51.609375 34.46875 51.609375 24.265625 \nQ 51.609375 14.546875 45.953125 7.46875 \nQ 39.0625 -1.21875 27.15625 -1.21875 \nQ 17.390625 -1.21875 11.203125 4.25 \nQ 5.03125 9.71875 4.15625 18.75 \nz\n\" id=\"ArialMT-53\"/>\n      </defs>\n      <g style=\"fill:#262626;\" transform=\"translate(366.546193 256.749219)scale(0.11 -0.11)\">\n       <use xlink:href=\"#ArialMT-53\"/>\n       <use x=\"55.615234\" xlink:href=\"#ArialMT-48\"/>\n      </g>\n     </g>\n    </g>\n    <g id=\"text_7\">\n     <!-- gen -->\n     <defs>\n      <path d=\"M 4.984375 -4.296875 \nL 13.53125 -5.5625 \nQ 14.0625 -9.515625 16.5 -11.328125 \nQ 19.78125 -13.765625 25.4375 -13.765625 \nQ 31.546875 -13.765625 34.859375 -11.328125 \nQ 38.1875 -8.890625 39.359375 -4.5 \nQ 40.046875 -1.8125 39.984375 6.78125 \nQ 34.234375 0 25.640625 0 \nQ 14.9375 0 9.078125 7.71875 \nQ 3.21875 15.4375 3.21875 26.21875 \nQ 3.21875 33.640625 5.90625 39.90625 \nQ 8.59375 46.1875 13.6875 49.609375 \nQ 18.796875 53.03125 25.6875 53.03125 \nQ 34.859375 53.03125 40.828125 45.609375 \nL 40.828125 51.859375 \nL 48.921875 51.859375 \nL 48.921875 7.03125 \nQ 48.921875 -5.078125 46.453125 -10.125 \nQ 44 -15.1875 38.640625 -18.109375 \nQ 33.296875 -21.046875 25.484375 -21.046875 \nQ 16.21875 -21.046875 10.5 -16.875 \nQ 4.78125 -12.703125 4.984375 -4.296875 \nz\nM 12.25 26.859375 \nQ 12.25 16.65625 16.296875 11.96875 \nQ 20.359375 7.28125 26.46875 7.28125 \nQ 32.515625 7.28125 36.609375 11.9375 \nQ 40.71875 16.609375 40.71875 26.5625 \nQ 40.71875 36.078125 36.5 40.90625 \nQ 32.28125 45.75 26.3125 45.75 \nQ 20.453125 45.75 16.34375 40.984375 \nQ 12.25 36.234375 12.25 26.859375 \nz\n\" id=\"ArialMT-103\"/>\n      <path d=\"M 42.09375 16.703125 \nL 51.171875 15.578125 \nQ 49.03125 7.625 43.21875 3.21875 \nQ 37.40625 -1.171875 28.375 -1.171875 \nQ 17 -1.171875 10.328125 5.828125 \nQ 3.65625 12.84375 3.65625 25.484375 \nQ 3.65625 38.578125 10.390625 45.796875 \nQ 17.140625 53.03125 27.875 53.03125 \nQ 38.28125 53.03125 44.875 45.953125 \nQ 51.46875 38.875 51.46875 26.03125 \nQ 51.46875 25.25 51.421875 23.6875 \nL 12.75 23.6875 \nQ 13.234375 15.140625 17.578125 10.59375 \nQ 21.921875 6.0625 28.421875 6.0625 \nQ 33.25 6.0625 36.671875 8.59375 \nQ 40.09375 11.140625 42.09375 16.703125 \nz\nM 13.234375 30.90625 \nL 42.1875 30.90625 \nQ 41.609375 37.453125 38.875 40.71875 \nQ 34.671875 45.796875 27.984375 45.796875 \nQ 21.921875 45.796875 17.796875 41.75 \nQ 13.671875 37.703125 13.234375 30.90625 \nz\n\" id=\"ArialMT-101\"/>\n      <path d=\"M 6.59375 0 \nL 6.59375 51.859375 \nL 14.5 51.859375 \nL 14.5 44.484375 \nQ 20.21875 53.03125 31 53.03125 \nQ 35.6875 53.03125 39.625 51.34375 \nQ 43.5625 49.65625 45.515625 46.921875 \nQ 47.46875 44.1875 48.25 40.4375 \nQ 48.734375 37.984375 48.734375 31.890625 \nL 48.734375 0 \nL 39.9375 0 \nL 39.9375 31.546875 \nQ 39.9375 36.921875 38.90625 39.578125 \nQ 37.890625 42.234375 35.28125 43.8125 \nQ 32.671875 45.40625 29.15625 45.40625 \nQ 23.53125 45.40625 19.453125 41.84375 \nQ 15.375 38.28125 15.375 28.328125 \nL 15.375 0 \nz\n\" id=\"ArialMT-110\"/>\n     </defs>\n     <g style=\"fill:#262626;\" transform=\"translate(210.471719 271.384219)scale(0.12 -0.12)\">\n      <use xlink:href=\"#ArialMT-103\"/>\n      <use x=\"55.615234\" xlink:href=\"#ArialMT-101\"/>\n      <use x=\"111.230469\" xlink:href=\"#ArialMT-110\"/>\n     </g>\n    </g>\n   </g>\n   <g id=\"matplotlib.axis_2\">\n    <g id=\"ytick_1\">\n     <g id=\"line2d_7\">\n      <path clip-path=\"url(#p995b8e76de)\" d=\"M 53.081406 205.158463 \nL 387.881406 205.158463 \n\" style=\"fill:none;stroke:#ffffff;stroke-linecap:round;\"/>\n     </g>\n     <g id=\"text_8\">\n      <!-- 2.06 -->\n      <defs>\n       <path d=\"M 9.078125 0 \nL 9.078125 10.015625 \nL 19.09375 10.015625 \nL 19.09375 0 \nz\n\" id=\"ArialMT-46\"/>\n       <path d=\"M 49.75 54.046875 \nL 41.015625 53.375 \nQ 39.84375 58.546875 37.703125 60.890625 \nQ 34.125 64.65625 28.90625 64.65625 \nQ 24.703125 64.65625 21.53125 62.3125 \nQ 17.390625 59.28125 14.984375 53.46875 \nQ 12.59375 47.65625 12.5 36.921875 \nQ 15.671875 41.75 20.265625 44.09375 \nQ 24.859375 46.4375 29.890625 46.4375 \nQ 38.671875 46.4375 44.84375 39.96875 \nQ 51.03125 33.5 51.03125 23.25 \nQ 51.03125 16.5 48.125 10.71875 \nQ 45.21875 4.9375 40.140625 1.859375 \nQ 35.0625 -1.21875 28.609375 -1.21875 \nQ 17.625 -1.21875 10.6875 6.859375 \nQ 3.765625 14.9375 3.765625 33.5 \nQ 3.765625 54.25 11.421875 63.671875 \nQ 18.109375 71.875 29.4375 71.875 \nQ 37.890625 71.875 43.28125 67.140625 \nQ 48.6875 62.40625 49.75 54.046875 \nz\nM 13.875 23.1875 \nQ 13.875 18.65625 15.796875 14.5 \nQ 17.71875 10.359375 21.1875 8.171875 \nQ 24.65625 6 28.46875 6 \nQ 34.03125 6 38.03125 10.484375 \nQ 42.046875 14.984375 42.046875 22.703125 \nQ 42.046875 30.125 38.078125 34.390625 \nQ 34.125 38.671875 28.125 38.671875 \nQ 22.171875 38.671875 18.015625 34.390625 \nQ 13.875 30.125 13.875 23.1875 \nz\n\" id=\"ArialMT-54\"/>\n      </defs>\n      <g style=\"fill:#262626;\" transform=\"translate(22.174375 209.09526)scale(0.11 -0.11)\">\n       <use xlink:href=\"#ArialMT-50\"/>\n       <use x=\"55.615234\" xlink:href=\"#ArialMT-46\"/>\n       <use x=\"83.398438\" xlink:href=\"#ArialMT-48\"/>\n       <use x=\"139.013672\" xlink:href=\"#ArialMT-54\"/>\n      </g>\n     </g>\n    </g>\n    <g id=\"ytick_2\">\n     <g id=\"line2d_8\">\n      <path clip-path=\"url(#p995b8e76de)\" d=\"M 53.081406 167.187936 \nL 387.881406 167.187936 \n\" style=\"fill:none;stroke:#ffffff;stroke-linecap:round;\"/>\n     </g>\n     <g id=\"text_9\">\n      <!-- 2.08 -->\n      <defs>\n       <path d=\"M 17.671875 38.8125 \nQ 12.203125 40.828125 9.5625 44.53125 \nQ 6.9375 48.25 6.9375 53.421875 \nQ 6.9375 61.234375 12.546875 66.546875 \nQ 18.171875 71.875 27.484375 71.875 \nQ 36.859375 71.875 42.578125 66.421875 \nQ 48.296875 60.984375 48.296875 53.171875 \nQ 48.296875 48.1875 45.671875 44.5 \nQ 43.0625 40.828125 37.75 38.8125 \nQ 44.34375 36.671875 47.78125 31.875 \nQ 51.21875 27.09375 51.21875 20.453125 \nQ 51.21875 11.28125 44.71875 5.03125 \nQ 38.234375 -1.21875 27.640625 -1.21875 \nQ 17.046875 -1.21875 10.546875 5.046875 \nQ 4.046875 11.328125 4.046875 20.703125 \nQ 4.046875 27.6875 7.59375 32.390625 \nQ 11.140625 37.109375 17.671875 38.8125 \nz\nM 15.921875 53.71875 \nQ 15.921875 48.640625 19.1875 45.40625 \nQ 22.46875 42.1875 27.6875 42.1875 \nQ 32.765625 42.1875 36.015625 45.375 \nQ 39.265625 48.578125 39.265625 53.21875 \nQ 39.265625 58.0625 35.90625 61.359375 \nQ 32.5625 64.65625 27.59375 64.65625 \nQ 22.5625 64.65625 19.234375 61.421875 \nQ 15.921875 58.203125 15.921875 53.71875 \nz\nM 13.09375 20.65625 \nQ 13.09375 16.890625 14.875 13.375 \nQ 16.65625 9.859375 20.171875 7.921875 \nQ 23.6875 6 27.734375 6 \nQ 34.03125 6 38.125 10.046875 \nQ 42.234375 14.109375 42.234375 20.359375 \nQ 42.234375 26.703125 38.015625 30.859375 \nQ 33.796875 35.015625 27.4375 35.015625 \nQ 21.234375 35.015625 17.15625 30.90625 \nQ 13.09375 26.8125 13.09375 20.65625 \nz\n\" id=\"ArialMT-56\"/>\n      </defs>\n      <g style=\"fill:#262626;\" transform=\"translate(22.174375 171.124733)scale(0.11 -0.11)\">\n       <use xlink:href=\"#ArialMT-50\"/>\n       <use x=\"55.615234\" xlink:href=\"#ArialMT-46\"/>\n       <use x=\"83.398438\" xlink:href=\"#ArialMT-48\"/>\n       <use x=\"139.013672\" xlink:href=\"#ArialMT-56\"/>\n      </g>\n     </g>\n    </g>\n    <g id=\"ytick_3\">\n     <g id=\"line2d_9\">\n      <path clip-path=\"url(#p995b8e76de)\" d=\"M 53.081406 129.217409 \nL 387.881406 129.217409 \n\" style=\"fill:none;stroke:#ffffff;stroke-linecap:round;\"/>\n     </g>\n     <g id=\"text_10\">\n      <!-- 2.10 -->\n      <g style=\"fill:#262626;\" transform=\"translate(22.174375 133.154206)scale(0.11 -0.11)\">\n       <use xlink:href=\"#ArialMT-50\"/>\n       <use x=\"55.615234\" xlink:href=\"#ArialMT-46\"/>\n       <use x=\"83.398438\" xlink:href=\"#ArialMT-49\"/>\n       <use x=\"139.013672\" xlink:href=\"#ArialMT-48\"/>\n      </g>\n     </g>\n    </g>\n    <g id=\"ytick_4\">\n     <g id=\"line2d_10\">\n      <path clip-path=\"url(#p995b8e76de)\" d=\"M 53.081406 91.246883 \nL 387.881406 91.246883 \n\" style=\"fill:none;stroke:#ffffff;stroke-linecap:round;\"/>\n     </g>\n     <g id=\"text_11\">\n      <!-- 2.12 -->\n      <g style=\"fill:#262626;\" transform=\"translate(22.174375 95.18368)scale(0.11 -0.11)\">\n       <use xlink:href=\"#ArialMT-50\"/>\n       <use x=\"55.615234\" xlink:href=\"#ArialMT-46\"/>\n       <use x=\"83.398438\" xlink:href=\"#ArialMT-49\"/>\n       <use x=\"139.013672\" xlink:href=\"#ArialMT-50\"/>\n      </g>\n     </g>\n    </g>\n    <g id=\"ytick_5\">\n     <g id=\"line2d_11\">\n      <path clip-path=\"url(#p995b8e76de)\" d=\"M 53.081406 53.276356 \nL 387.881406 53.276356 \n\" style=\"fill:none;stroke:#ffffff;stroke-linecap:round;\"/>\n     </g>\n     <g id=\"text_12\">\n      <!-- 2.14 -->\n      <g style=\"fill:#262626;\" transform=\"translate(22.174375 57.213153)scale(0.11 -0.11)\">\n       <use xlink:href=\"#ArialMT-50\"/>\n       <use x=\"55.615234\" xlink:href=\"#ArialMT-46\"/>\n       <use x=\"83.398438\" xlink:href=\"#ArialMT-49\"/>\n       <use x=\"139.013672\" xlink:href=\"#ArialMT-52\"/>\n      </g>\n     </g>\n    </g>\n    <g id=\"text_13\">\n     <!-- avg -->\n     <defs>\n      <path d=\"M 40.4375 6.390625 \nQ 35.546875 2.25 31.03125 0.53125 \nQ 26.515625 -1.171875 21.34375 -1.171875 \nQ 12.796875 -1.171875 8.203125 3 \nQ 3.609375 7.171875 3.609375 13.671875 \nQ 3.609375 17.484375 5.34375 20.625 \nQ 7.078125 23.78125 9.890625 25.6875 \nQ 12.703125 27.59375 16.21875 28.5625 \nQ 18.796875 29.25 24.03125 29.890625 \nQ 34.671875 31.15625 39.703125 32.90625 \nQ 39.75 34.71875 39.75 35.203125 \nQ 39.75 40.578125 37.25 42.78125 \nQ 33.890625 45.75 27.25 45.75 \nQ 21.046875 45.75 18.09375 43.578125 \nQ 15.140625 41.40625 13.71875 35.890625 \nL 5.125 37.0625 \nQ 6.296875 42.578125 8.984375 45.96875 \nQ 11.671875 49.359375 16.75 51.1875 \nQ 21.828125 53.03125 28.515625 53.03125 \nQ 35.15625 53.03125 39.296875 51.46875 \nQ 43.453125 49.90625 45.40625 47.53125 \nQ 47.359375 45.171875 48.140625 41.546875 \nQ 48.578125 39.3125 48.578125 33.453125 \nL 48.578125 21.734375 \nQ 48.578125 9.46875 49.140625 6.21875 \nQ 49.703125 2.984375 51.375 0 \nL 42.1875 0 \nQ 40.828125 2.734375 40.4375 6.390625 \nz\nM 39.703125 26.03125 \nQ 34.90625 24.078125 25.34375 22.703125 \nQ 19.921875 21.921875 17.671875 20.9375 \nQ 15.4375 19.96875 14.203125 18.09375 \nQ 12.984375 16.21875 12.984375 13.921875 \nQ 12.984375 10.40625 15.640625 8.0625 \nQ 18.3125 5.71875 23.4375 5.71875 \nQ 28.515625 5.71875 32.46875 7.9375 \nQ 36.421875 10.15625 38.28125 14.015625 \nQ 39.703125 17 39.703125 22.796875 \nz\n\" id=\"ArialMT-97\"/>\n      <path d=\"M 21 0 \nL 1.265625 51.859375 \nL 10.546875 51.859375 \nL 21.6875 20.796875 \nQ 23.484375 15.765625 25 10.359375 \nQ 26.171875 14.453125 28.265625 20.21875 \nL 39.796875 51.859375 \nL 48.828125 51.859375 \nL 29.203125 0 \nz\n\" id=\"ArialMT-118\"/>\n     </defs>\n     <g style=\"fill:#262626;\" transform=\"translate(15.64875 140.32875)rotate(-90)scale(0.12 -0.12)\">\n      <use xlink:href=\"#ArialMT-97\"/>\n      <use x=\"55.615234\" xlink:href=\"#ArialMT-118\"/>\n      <use x=\"105.615234\" xlink:href=\"#ArialMT-103\"/>\n     </g>\n    </g>\n   </g>\n   <g id=\"line2d_12\">\n    <path clip-path=\"url(#p995b8e76de)\" d=\"M 68.299588 63.197484 \nL 74.386861 46.080048 \nL 80.474134 46.217957 \nL 86.561406 31.819261 \nL 92.648679 57.215732 \nL 98.735952 40.913591 \nL 104.823224 56.65759 \nL 110.910497 37.445124 \nL 116.99777 56.977095 \nL 123.085043 76.402007 \nL 129.172315 110.2111 \nL 135.259588 116.693964 \nL 141.346861 133.611882 \nL 147.434134 127.533083 \nL 153.521406 130.822418 \nL 159.608679 148.204965 \nL 165.695952 162.158493 \nL 171.783224 153.155923 \nL 177.870497 164.035743 \nL 183.95777 184.467501 \nL 190.045043 186.722397 \nL 196.132315 202.300872 \nL 202.219588 213.129365 \nL 208.306861 210.31247 \nL 214.394134 203.885031 \nL 220.481406 210.537072 \nL 226.568679 199.711032 \nL 232.655952 212.548173 \nL 238.743224 208.797755 \nL 244.830497 216.567869 \nL 250.91777 206.896076 \nL 257.005043 211.818295 \nL 263.092315 189.319024 \nL 269.179588 229.491989 \nL 275.266861 202.686791 \nL 281.354134 209.168872 \nL 287.441406 227.288506 \nL 293.528679 201.626526 \nL 299.615952 214.915744 \nL 305.703224 205.624758 \nL 311.790497 208.527055 \nL 317.87777 206.568367 \nL 323.965043 193.592645 \nL 330.052315 200.314507 \nL 336.139588 208.855165 \nL 342.226861 196.806379 \nL 348.314134 208.943958 \nL 354.401406 207.180568 \nL 360.488679 211.935845 \nL 366.575952 225.601481 \nL 372.663224 221.134433 \n\" style=\"fill:none;stroke:#4c72b0;stroke-linecap:round;stroke-width:1.5;\"/>\n   </g>\n   <g id=\"patch_3\">\n    <path d=\"M 53.081406 239.375625 \nL 53.081406 21.935625 \n\" style=\"fill:none;stroke:#ffffff;stroke-linecap:square;stroke-linejoin:miter;stroke-width:1.25;\"/>\n   </g>\n   <g id=\"patch_4\">\n    <path d=\"M 387.881406 239.375625 \nL 387.881406 21.935625 \n\" style=\"fill:none;stroke:#ffffff;stroke-linecap:square;stroke-linejoin:miter;stroke-width:1.25;\"/>\n   </g>\n   <g id=\"patch_5\">\n    <path d=\"M 53.081406 239.375625 \nL 387.881406 239.375625 \n\" style=\"fill:none;stroke:#ffffff;stroke-linecap:square;stroke-linejoin:miter;stroke-width:1.25;\"/>\n   </g>\n   <g id=\"patch_6\">\n    <path d=\"M 53.081406 21.935625 \nL 387.881406 21.935625 \n\" style=\"fill:none;stroke:#ffffff;stroke-linecap:square;stroke-linejoin:miter;stroke-width:1.25;\"/>\n   </g>\n   <g id=\"text_14\">\n    <!-- Genetic Algorithm -->\n    <defs>\n     <path d=\"M 41.21875 28.078125 \nL 41.21875 36.46875 \nL 71.53125 36.53125 \nL 71.53125 9.96875 \nQ 64.546875 4.390625 57.125 1.578125 \nQ 49.703125 -1.21875 41.890625 -1.21875 \nQ 31.34375 -1.21875 22.71875 3.296875 \nQ 14.109375 7.8125 9.71875 16.359375 \nQ 5.328125 24.90625 5.328125 35.453125 \nQ 5.328125 45.90625 9.6875 54.953125 \nQ 14.0625 64.015625 22.265625 68.40625 \nQ 30.46875 72.796875 41.15625 72.796875 \nQ 48.921875 72.796875 55.1875 70.28125 \nQ 61.46875 67.78125 65.03125 63.28125 \nQ 68.609375 58.796875 70.453125 51.5625 \nL 61.921875 49.21875 \nQ 60.296875 54.6875 57.90625 57.8125 \nQ 55.515625 60.9375 51.0625 62.8125 \nQ 46.625 64.703125 41.21875 64.703125 \nQ 34.71875 64.703125 29.984375 62.71875 \nQ 25.25 60.75 22.34375 57.515625 \nQ 19.4375 54.296875 17.828125 50.4375 \nQ 15.09375 43.796875 15.09375 36.03125 \nQ 15.09375 26.46875 18.390625 20.015625 \nQ 21.6875 13.578125 27.984375 10.453125 \nQ 34.28125 7.328125 41.359375 7.328125 \nQ 47.515625 7.328125 53.375 9.6875 \nQ 59.234375 12.0625 62.25 14.75 \nL 62.25 28.078125 \nz\n\" id=\"ArialMT-71\"/>\n     <path d=\"M 25.78125 7.859375 \nL 27.046875 0.09375 \nQ 23.34375 -0.6875 20.40625 -0.6875 \nQ 15.625 -0.6875 12.984375 0.828125 \nQ 10.359375 2.34375 9.28125 4.8125 \nQ 8.203125 7.28125 8.203125 15.1875 \nL 8.203125 45.015625 \nL 1.765625 45.015625 \nL 1.765625 51.859375 \nL 8.203125 51.859375 \nL 8.203125 64.703125 \nL 16.9375 69.96875 \nL 16.9375 51.859375 \nL 25.78125 51.859375 \nL 25.78125 45.015625 \nL 16.9375 45.015625 \nL 16.9375 14.703125 \nQ 16.9375 10.9375 17.40625 9.859375 \nQ 17.875 8.796875 18.921875 8.15625 \nQ 19.96875 7.515625 21.921875 7.515625 \nQ 23.390625 7.515625 25.78125 7.859375 \nz\n\" id=\"ArialMT-116\"/>\n     <path d=\"M 6.640625 61.46875 \nL 6.640625 71.578125 \nL 15.4375 71.578125 \nL 15.4375 61.46875 \nz\nM 6.640625 0 \nL 6.640625 51.859375 \nL 15.4375 51.859375 \nL 15.4375 0 \nz\n\" id=\"ArialMT-105\"/>\n     <path d=\"M 40.4375 19 \nL 49.078125 17.875 \nQ 47.65625 8.9375 41.8125 3.875 \nQ 35.984375 -1.171875 27.484375 -1.171875 \nQ 16.84375 -1.171875 10.375 5.78125 \nQ 3.90625 12.75 3.90625 25.734375 \nQ 3.90625 34.125 6.6875 40.421875 \nQ 9.46875 46.734375 15.15625 49.875 \nQ 20.84375 53.03125 27.546875 53.03125 \nQ 35.984375 53.03125 41.359375 48.75 \nQ 46.734375 44.484375 48.25 36.625 \nL 39.703125 35.296875 \nQ 38.484375 40.53125 35.375 43.15625 \nQ 32.28125 45.796875 27.875 45.796875 \nQ 21.234375 45.796875 17.078125 41.03125 \nQ 12.9375 36.28125 12.9375 25.984375 \nQ 12.9375 15.53125 16.9375 10.796875 \nQ 20.953125 6.0625 27.390625 6.0625 \nQ 32.5625 6.0625 36.03125 9.234375 \nQ 39.5 12.40625 40.4375 19 \nz\n\" id=\"ArialMT-99\"/>\n     <path id=\"ArialMT-32\"/>\n     <path d=\"M -0.140625 0 \nL 27.34375 71.578125 \nL 37.546875 71.578125 \nL 66.84375 0 \nL 56.0625 0 \nL 47.703125 21.6875 \nL 17.78125 21.6875 \nL 9.90625 0 \nz\nM 20.515625 29.390625 \nL 44.78125 29.390625 \nL 37.3125 49.21875 \nQ 33.890625 58.25 32.234375 64.0625 \nQ 30.859375 57.171875 28.375 50.390625 \nz\n\" id=\"ArialMT-65\"/>\n     <path d=\"M 6.390625 0 \nL 6.390625 71.578125 \nL 15.1875 71.578125 \nL 15.1875 0 \nz\n\" id=\"ArialMT-108\"/>\n     <path d=\"M 3.328125 25.921875 \nQ 3.328125 40.328125 11.328125 47.265625 \nQ 18.015625 53.03125 27.640625 53.03125 \nQ 38.328125 53.03125 45.109375 46.015625 \nQ 51.90625 39.015625 51.90625 26.65625 \nQ 51.90625 16.65625 48.90625 10.90625 \nQ 45.90625 5.171875 40.15625 2 \nQ 34.421875 -1.171875 27.640625 -1.171875 \nQ 16.75 -1.171875 10.03125 5.8125 \nQ 3.328125 12.796875 3.328125 25.921875 \nz\nM 12.359375 25.921875 \nQ 12.359375 15.96875 16.703125 11.015625 \nQ 21.046875 6.0625 27.640625 6.0625 \nQ 34.1875 6.0625 38.53125 11.03125 \nQ 42.875 16.015625 42.875 26.21875 \nQ 42.875 35.84375 38.5 40.796875 \nQ 34.125 45.75 27.640625 45.75 \nQ 21.046875 45.75 16.703125 40.8125 \nQ 12.359375 35.890625 12.359375 25.921875 \nz\n\" id=\"ArialMT-111\"/>\n     <path d=\"M 6.5 0 \nL 6.5 51.859375 \nL 14.40625 51.859375 \nL 14.40625 44 \nQ 17.4375 49.515625 20 51.265625 \nQ 22.5625 53.03125 25.640625 53.03125 \nQ 30.078125 53.03125 34.671875 50.203125 \nL 31.640625 42.046875 \nQ 28.421875 43.953125 25.203125 43.953125 \nQ 22.3125 43.953125 20.015625 42.21875 \nQ 17.71875 40.484375 16.75 37.40625 \nQ 15.28125 32.71875 15.28125 27.15625 \nL 15.28125 0 \nz\n\" id=\"ArialMT-114\"/>\n     <path d=\"M 6.59375 0 \nL 6.59375 71.578125 \nL 15.375 71.578125 \nL 15.375 45.90625 \nQ 21.53125 53.03125 30.90625 53.03125 \nQ 36.671875 53.03125 40.921875 50.75 \nQ 45.171875 48.484375 47 44.484375 \nQ 48.828125 40.484375 48.828125 32.859375 \nL 48.828125 0 \nL 40.046875 0 \nL 40.046875 32.859375 \nQ 40.046875 39.453125 37.1875 42.453125 \nQ 34.328125 45.453125 29.109375 45.453125 \nQ 25.203125 45.453125 21.75 43.421875 \nQ 18.3125 41.40625 16.84375 37.9375 \nQ 15.375 34.46875 15.375 28.375 \nL 15.375 0 \nz\n\" id=\"ArialMT-104\"/>\n     <path d=\"M 6.59375 0 \nL 6.59375 51.859375 \nL 14.453125 51.859375 \nL 14.453125 44.578125 \nQ 16.890625 48.390625 20.9375 50.703125 \nQ 25 53.03125 30.171875 53.03125 \nQ 35.9375 53.03125 39.625 50.640625 \nQ 43.3125 48.25 44.828125 43.953125 \nQ 50.984375 53.03125 60.84375 53.03125 \nQ 68.5625 53.03125 72.703125 48.75 \nQ 76.859375 44.484375 76.859375 35.59375 \nL 76.859375 0 \nL 68.109375 0 \nL 68.109375 32.671875 \nQ 68.109375 37.9375 67.25 40.25 \nQ 66.40625 42.578125 64.15625 43.984375 \nQ 61.921875 45.40625 58.890625 45.40625 \nQ 53.421875 45.40625 49.796875 41.765625 \nQ 46.1875 38.140625 46.1875 30.125 \nL 46.1875 0 \nL 37.40625 0 \nL 37.40625 33.6875 \nQ 37.40625 39.546875 35.25 42.46875 \nQ 33.109375 45.40625 28.21875 45.40625 \nQ 24.515625 45.40625 21.359375 43.453125 \nQ 18.21875 41.5 16.796875 37.734375 \nQ 15.375 33.984375 15.375 26.90625 \nL 15.375 0 \nz\n\" id=\"ArialMT-109\"/>\n    </defs>\n    <g style=\"fill:#262626;\" transform=\"translate(172.802031 15.935625)scale(0.12 -0.12)\">\n     <use xlink:href=\"#ArialMT-71\"/>\n     <use x=\"77.783203\" xlink:href=\"#ArialMT-101\"/>\n     <use x=\"133.398438\" xlink:href=\"#ArialMT-110\"/>\n     <use x=\"189.013672\" xlink:href=\"#ArialMT-101\"/>\n     <use x=\"244.628906\" xlink:href=\"#ArialMT-116\"/>\n     <use x=\"272.412109\" xlink:href=\"#ArialMT-105\"/>\n     <use x=\"294.628906\" xlink:href=\"#ArialMT-99\"/>\n     <use x=\"344.628906\" xlink:href=\"#ArialMT-32\"/>\n     <use x=\"372.333984\" xlink:href=\"#ArialMT-65\"/>\n     <use x=\"439.033203\" xlink:href=\"#ArialMT-108\"/>\n     <use x=\"461.25\" xlink:href=\"#ArialMT-103\"/>\n     <use x=\"516.865234\" xlink:href=\"#ArialMT-111\"/>\n     <use x=\"572.480469\" xlink:href=\"#ArialMT-114\"/>\n     <use x=\"605.78125\" xlink:href=\"#ArialMT-105\"/>\n     <use x=\"627.998047\" xlink:href=\"#ArialMT-116\"/>\n     <use x=\"655.78125\" xlink:href=\"#ArialMT-104\"/>\n     <use x=\"711.396484\" xlink:href=\"#ArialMT-109\"/>\n    </g>\n   </g>\n  </g>\n </g>\n <defs>\n  <clipPath id=\"p995b8e76de\">\n   <rect height=\"217.44\" width=\"334.8\" x=\"53.081406\" y=\"21.935625\"/>\n  </clipPath>\n </defs>\n</svg>\n",
      "text/plain": "<Figure size 432x288 with 1 Axes>"
     },
     "metadata": {},
     "output_type": "display_data"
    }
   ],
   "source": [
    "# vizualize train and test error across iterations\n",
    "sns.set(\n",
    "    style=\"darkgrid\"\n",
    "    )\n",
    "\n",
    "sns_plot = sns.lineplot(\n",
    "    x=\"gen\", y=\"avg\",\n",
    "    data=data\n",
    "    ).set_title('Genetic Algorithm')\n",
    "sns_plot.get_figure().savefig(save_path + \"ga-nn.png\", dpi=100)"
   ]
  },
  {
   "cell_type": "code",
   "execution_count": 223,
   "metadata": {},
   "outputs": [],
   "source": [
    "testingLoss, correctCount, allCount = nnPredict(model, testloader, criterion)"
   ]
  },
  {
   "cell_type": "code",
   "execution_count": 225,
   "metadata": {},
   "outputs": [
    {
     "data": {
      "text/plain": "(0.2509, 2.063757478811179)"
     },
     "execution_count": 225,
     "metadata": {},
     "output_type": "execute_result"
    }
   ],
   "source": [
    "correctCount / allCount, testingLoss"
   ]
  },
  {
   "cell_type": "code",
   "execution_count": null,
   "metadata": {},
   "outputs": [],
   "source": []
  }
 ]
}