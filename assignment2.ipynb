{
 "nbformat": 4,
 "nbformat_minor": 2,
 "metadata": {
  "language_info": {
   "name": "python",
   "codemirror_mode": {
    "name": "ipython",
    "version": 3
   },
   "version": "3.6.10-final"
  },
  "orig_nbformat": 2,
  "file_extension": ".py",
  "mimetype": "text/x-python",
  "name": "python",
  "npconvert_exporter": "python",
  "pygments_lexer": "ipython3",
  "version": 3,
  "kernelspec": {
   "name": "python361064bitmlconda3291cc5c44564875b7e62800a0ae8d21",
   "display_name": "Python 3.6.10 64-bit ('ml': conda)"
  }
 },
 "cells": [
  {
   "cell_type": "markdown",
   "execution_count": null,
   "metadata": {},
   "outputs": [],
   "source": [
    "# Assignment 2 - Randomized Optimization - mkecera3@gatech.edu"
   ]
  },
  {
   "cell_type": "code",
   "execution_count": 1,
   "metadata": {},
   "outputs": [
    {
     "name": "stderr",
     "output_type": "stream",
     "text": "/anaconda3/envs/ml/lib/python3.6/site-packages/sklearn/externals/six.py:31: FutureWarning: The module is deprecated in version 0.21 and will be removed in version 0.23 since we've dropped support for Python 2.7. Please rely on the official version of six (https://pypi.org/project/six/).\n  \"(https://pypi.org/project/six/).\", FutureWarning)\n"
    }
   ],
   "source": [
    "# imports\n",
    "import mlrose\n",
    "import numpy as np\n",
    "import time\n",
    "import itertools\n",
    "import pandas as pd\n",
    "import seaborn as sns\n",
    "save_path = './charts/'"
   ]
  },
  {
   "cell_type": "code",
   "execution_count": 4,
   "metadata": {},
   "outputs": [],
   "source": [
    "import torch\n",
    "import torchvision\n",
    "from torchvision import datasets, transforms\n",
    "from torch import nn, optim\n",
    "import torch.nn.functional as F\n",
    "from imblearn.over_sampling import RandomOverSampler\n",
    "from sklearn import preprocessing\n",
    "from sklearn.model_selection import train_test_split, learning_curve\n",
    "from sklearn.metrics import accuracy_score\n",
    "from sklearn.preprocessing import MinMaxScaler, OneHotEncoder"
   ]
  },
  {
   "cell_type": "markdown",
   "execution_count": null,
   "metadata": {},
   "outputs": [],
   "source": [
    "## 4-peaks"
   ]
  },
  {
   "cell_type": "code",
   "execution_count": null,
   "metadata": {},
   "outputs": [],
   "source": [
    "# define the 4-peaks problem and print an example\n",
    "fitness = mlrose.FourPeaks(t_pct=0.1)\n",
    "state = np.array([1, 1, 1, 0, 1, 0, 0, 1, 0, 0, 0, 0])\n",
    "print(fitness.evaluate(state))\n",
    "problem = mlrose.DiscreteOpt(length = 100, fitness_fn = fitness, maximize = True, max_val = 2)"
   ]
  },
  {
   "cell_type": "code",
   "execution_count": null,
   "metadata": {},
   "outputs": [],
   "source": [
    "def parameter_search(problem, algorithm, **kwargs):\n",
    "    \n",
    "    values = []\n",
    "    names = []\n",
    "    for key, value in kwargs.items():\n",
    "        names.append(key)\n",
    "        values.append(value)\n",
    "    \n",
    "    permutations = [(x, y) for x in values[0] for y in values[1]]\n",
    "    param1 = [x[0] for x in permutations]\n",
    "    param2 = [x[1] for x in permutations]\n",
    "\n",
    "    all_states = []\n",
    "    all_fitness = []\n",
    "    all_curves = []\n",
    "    run_times = []\n",
    "    for permutation in permutations:\n",
    "        start_time = time.time()\n",
    "        param = {}\n",
    "        param[names[0]] = permutation[0]\n",
    "        param[names[1]] = permutation[1]\n",
    "        best_state, best_fitness, curve = algorithm(\n",
    "            problem=problem,\n",
    "            curve=True,\n",
    "            **param\n",
    "            )\n",
    "        end_time = time.time()\n",
    "        run_time = end_time - start_time\n",
    "        \n",
    "        all_states.append(best_state)\n",
    "        all_fitness.append(best_fitness)\n",
    "        run_times.append(run_time)\n",
    "        all_curves.append(curve)\n",
    "\n",
    "    return all_states, all_fitness, all_curves, run_times, param1, param2"
   ]
  },
  {
   "cell_type": "markdown",
   "execution_count": null,
   "metadata": {},
   "outputs": [],
   "source": [
    "### Randomized hill climbing"
   ]
  },
  {
   "cell_type": "code",
   "execution_count": null,
   "metadata": {},
   "outputs": [],
   "source": [
    "# define the size of the testing\n",
    "restart_options = list(np.geomspace(10, 1000, 8))\n",
    "max_attempts_options = list(np.geomspace(10, 500, 8))\n",
    "restart_options = [int(x) for x in restart_options]\n",
    "max_attempts_options = [int(x) for x in max_attempts_options]"
   ]
  },
  {
   "cell_type": "code",
   "execution_count": null,
   "metadata": {},
   "outputs": [],
   "source": [
    "all_states, all_fitness, all_curves, run_times, restart_data, max_attempt_data = parameter_search(\n",
    "    problem=problem, \n",
    "    algorithm=mlrose.random_hill_climb,\n",
    "    restarts=restart_options, \n",
    "    max_attempts=max_attempts_options,\n",
    "    curve=True\n",
    "    )"
   ]
  },
  {
   "cell_type": "code",
   "execution_count": null,
   "metadata": {},
   "outputs": [],
   "source": [
    "chart_data = pd.DataFrame({'Fitness': all_fitness, 'Restarts': restart_data, 'Max Attempts': max_attempt_data})\n",
    "chart_data = chart_data.pivot(index='Restarts', columns='Max Attempts', values='Fitness')\n",
    "sns.set_context(\"paper\")\n",
    "sns_plot = sns.heatmap(chart_data, annot=True, fmt=\"g\", cmap='viridis').set_title('Randomized Hill Climbing')\n",
    "sns_plot.get_figure().savefig(save_path + \"4p_rhc_hyperparam.png\", dpi=100)"
   ]
  },
  {
   "cell_type": "code",
   "execution_count": null,
   "metadata": {},
   "outputs": [],
   "source": [
    "chart_data = pd.DataFrame({'Run Times': [round(x, 2) for x in run_times], 'Restarts': restart_data, 'Max Attempts': max_attempt_data})\n",
    "chart_data = chart_data.pivot(index='Restarts', columns='Max Attempts', values='Run Times')\n",
    "sns.set_context(\"paper\")\n",
    "sns_plot = sns.heatmap(chart_data, annot=True, fmt=\"g\", cmap='viridis').set_title('Randomized Hill Climbing')\n",
    "sns_plot.get_figure().savefig(save_path + \"4p_rhc_hyperparam.png\", dpi=100)"
   ]
  },
  {
   "cell_type": "markdown",
   "execution_count": null,
   "metadata": {},
   "outputs": [],
   "source": [
    "### Simulated annealing"
   ]
  },
  {
   "cell_type": "code",
   "execution_count": null,
   "metadata": {},
   "outputs": [],
   "source": [
    "iters_options = list(np.geomspace(10, 10000, 8))\n",
    "max_attempts_options = list(np.geomspace(10, 10000, 8))\n",
    "iters_options = [int(x) for x in iters_options]\n",
    "max_attempts_options = [int(x) for x in max_attempts_options]"
   ]
  },
  {
   "cell_type": "code",
   "execution_count": null,
   "metadata": {},
   "outputs": [],
   "source": [
    "all_states, all_fitness, all_curves, run_times, max_iter_data, max_attempt_data = parameter_search(\n",
    "    problem=problem, \n",
    "    algorithm=mlrose.simulated_annealing,\n",
    "    max_iters=iters_options, \n",
    "    max_attempts=max_attempts_options,\n",
    "    curve=True\n",
    "    )"
   ]
  },
  {
   "cell_type": "code",
   "execution_count": null,
   "metadata": {},
   "outputs": [],
   "source": [
    "chart_data = pd.DataFrame({'Fitness': all_fitness, 'Max Iterations': max_iter_data, 'Max Attempts': max_attempt_data})\n",
    "chart_data = chart_data.pivot(index='Max Iterations', columns='Max Attempts', values='Fitness')\n",
    "sns.set_context(\"paper\")\n",
    "sns_plot = sns.heatmap(chart_data, annot=True, fmt=\"g\", cmap='viridis').set_title('Simulated Annealing')\n",
    "sns_plot.get_figure().savefig(save_path + \"4p_sa_hyperparam.png\", dpi=100)"
   ]
  },
  {
   "cell_type": "code",
   "execution_count": null,
   "metadata": {},
   "outputs": [],
   "source": [
    "chart_data = pd.DataFrame({'Run Times': [round(x, 2) for x in run_times], 'Max Iterations': max_iter_data, 'Max Attempts': max_attempt_data})\n",
    "chart_data = chart_data.pivot(index='Max Iterations', columns='Max Attempts', values='Run Times')\n",
    "sns.set_context(\"paper\")\n",
    "sns_plot = sns.heatmap(chart_data, annot=True, fmt=\"g\", cmap='viridis').set_title('Simulated Annealing')\n",
    "sns_plot.get_figure().savefig(save_path + \"4p_sa_hyperparam.png\", dpi=100)"
   ]
  },
  {
   "cell_type": "markdown",
   "execution_count": null,
   "metadata": {},
   "outputs": [],
   "source": [
    "### Genetic Algorithm"
   ]
  },
  {
   "cell_type": "code",
   "execution_count": null,
   "metadata": {},
   "outputs": [],
   "source": [
    "pop_size = list(np.geomspace(200, 20000, 8))\n",
    "mut_prob = list(np.linspace(0, 0.5, 8))\n",
    "pop_size = [int(x) for x in pop_size]\n",
    "mut_prob = [round(x, 2) for x in mut_prob]"
   ]
  },
  {
   "cell_type": "code",
   "execution_count": null,
   "metadata": {},
   "outputs": [],
   "source": [
    "all_states, all_fitness, all_curves, run_times, pop_size_data, mut_prob_data = parameter_search(\n",
    "    problem=problem, \n",
    "    algorithm=mlrose.genetic_alg,\n",
    "    pop_size=pop_size, \n",
    "    mutation_prob=mut_prob,\n",
    "    curve=True\n",
    "    )"
   ]
  },
  {
   "cell_type": "code",
   "execution_count": null,
   "metadata": {},
   "outputs": [],
   "source": [
    "chart_data = pd.DataFrame({'Fitness': all_fitness, 'Population Size': pop_size_data, 'Mutation Prob': mut_prob_data})\n",
    "chart_data = chart_data.pivot(index='Population Size', columns='Mutation Prob', values='Fitness')\n",
    "sns.set_context(\"paper\")\n",
    "sns_plot = sns.heatmap(chart_data, annot=True, fmt=\"g\", cmap='viridis').set_title('Genetic Algorithms')\n",
    "sns_plot.get_figure().savefig(save_path + \"4p_ga_hyperparam.png\", dpi=100)"
   ]
  },
  {
   "cell_type": "code",
   "execution_count": null,
   "metadata": {},
   "outputs": [],
   "source": [
    "chart_data = pd.DataFrame({'Run Times': [round(x, 2) for x in run_times], 'Population Size': pop_size_data, 'Mutation Prob': mut_prob_data})\n",
    "chart_data = chart_data.pivot(index='Population Size', columns='Mutation Prob', values='Run Times')\n",
    "sns.set_context(\"paper\")\n",
    "sns_plot = sns.heatmap(chart_data, annot=True, fmt=\"g\", cmap='viridis').set_title('Genetic Algorithms')\n",
    "sns_plot.get_figure().savefig(save_path + \"4p_ga_hyperparam.png\", dpi=100)"
   ]
  },
  {
   "cell_type": "markdown",
   "execution_count": null,
   "metadata": {},
   "outputs": [],
   "source": [
    "### MIMIC"
   ]
  },
  {
   "cell_type": "code",
   "execution_count": null,
   "metadata": {},
   "outputs": [],
   "source": [
    "pop_size = list(np.geomspace(50, 500, 8))\n",
    "keep_pct = list(np.linspace(0.1, 0.4, 8))\n",
    "pop_size = [int(x) for x in pop_size]\n",
    "keep_pct = [round(x, 2) for x in keep_pct]"
   ]
  },
  {
   "cell_type": "code",
   "execution_count": null,
   "metadata": {},
   "outputs": [],
   "source": [
    "all_states, all_fitness, all_curves, run_times, pop_size_data, keep_perc_data = parameter_search(\n",
    "    problem=problem, \n",
    "    algorithm=mlrose.mimic,\n",
    "    pop_size=pop_size, \n",
    "    keep_pct=keep_pct,\n",
    "    curve=True\n",
    "    )"
   ]
  },
  {
   "cell_type": "code",
   "execution_count": null,
   "metadata": {},
   "outputs": [],
   "source": [
    "chart_data = pd.DataFrame({'Fitness': all_fitness, 'Population Size': pop_size_data, 'Keep Percantage': keep_perc_data})\n",
    "chart_data = chart_data.pivot(index='Population Size', columns='Keep Percentage', values='Fitness')\n",
    "sns.set_context(\"paper\")\n",
    "sns_plot = sns.heatmap(chart_data, annot=True, fmt=\"g\", cmap='viridis').set_title('MIMIC')\n",
    "sns_plot.get_figure().savefig(save_path + \"mimic_hyperparam.png\", dpi=100)"
   ]
  },
  {
   "cell_type": "code",
   "execution_count": null,
   "metadata": {},
   "outputs": [],
   "source": [
    "chart_data = pd.DataFrame({'Run Times': [round(x, 2) for x in run_times], 'Population Size': pop_size_data, 'Keep Percentage': keep_perc_data})\n",
    "chart_data = chart_data.pivot(index='Population Size', columns='Keep Percentage', values='Run Times')\n",
    "sns.set_context(\"paper\")\n",
    "sns_plot = sns.heatmap(chart_data, annot=True, fmt=\"g\", cmap='viridis').set_title('MIMIC')\n",
    "sns_plot.get_figure().savefig(save_path + \"mimic_hyperparam.png\", dpi=100)"
   ]
  },
  {
   "cell_type": "markdown",
   "execution_count": null,
   "metadata": {},
   "outputs": [],
   "source": [
    "## Knapsack"
   ]
  },
  {
   "cell_type": "code",
   "execution_count": null,
   "metadata": {},
   "outputs": [],
   "source": [
    "# define the Knapsack problem and print an example\n",
    "value = [1, 5, 10, 20, 5, 1, 10, 5, 8]\n",
    "weight = [5, 5, 15, 7, 12, 10, 20, 1, 7]\n",
    "max_weight = 0.6\n",
    "fitness = mlrose.Knapsack(weights=weight, values=value, max_weight_pct=max_weight)\n",
    "state = np.array([1, 0, 1, 0, 1, 0, 0, 1, 0])\n",
    "print(fitness.evaluate(state))\n",
    "problem = mlrose.DiscreteOpt(length = 9, fitness_fn = fitness, maximize = True, max_val = 2)"
   ]
  },
  {
   "cell_type": "markdown",
   "execution_count": null,
   "metadata": {},
   "outputs": [],
   "source": [
    "### Randomized hill climbing"
   ]
  },
  {
   "cell_type": "code",
   "execution_count": null,
   "metadata": {},
   "outputs": [],
   "source": [
    "# define the size of the testing\n",
    "restart_options = list(np.geomspace(10, 1000, 8))\n",
    "max_attempts_options = list(np.geomspace(10, 500, 8))\n",
    "restart_options = [int(x) for x in restart_options]\n",
    "max_attempts_options = [int(x) for x in max_attempts_options]"
   ]
  },
  {
   "cell_type": "code",
   "execution_count": null,
   "metadata": {},
   "outputs": [],
   "source": [
    "all_states, all_fitness, all_curves, run_times, restart_data, max_attempt_data = parameter_search(\n",
    "    problem=problem, \n",
    "    algorithm=mlrose.random_hill_climb,\n",
    "    restarts=restart_options, \n",
    "    max_attempts=max_attempts_options,\n",
    "    curve=True\n",
    "    )"
   ]
  },
  {
   "cell_type": "code",
   "execution_count": null,
   "metadata": {},
   "outputs": [],
   "source": [
    "chart_data = pd.DataFrame({'Fitness': all_fitness, 'Restarts': restart_data, 'Max Attempts': max_attempt_data})\n",
    "chart_data = chart_data.pivot(index='Restarts', columns='Max Attempts', values='Fitness')\n",
    "sns.set_context(\"paper\")\n",
    "sns_plot = sns.heatmap(chart_data, annot=True, fmt=\"g\", cmap='viridis').set_title('Randomized Hill Climbing')\n",
    "sns_plot.get_figure().savefig(save_path + \"ks_rhc_hyperparam.png\", dpi=100)"
   ]
  },
  {
   "cell_type": "code",
   "execution_count": null,
   "metadata": {},
   "outputs": [],
   "source": [
    "chart_data = pd.DataFrame({'Run Times': [round(x, 2) for x in run_times], 'Restarts': restart_data, 'Max Attempts': max_attempt_data})\n",
    "chart_data = chart_data.pivot(index='Restarts', columns='Max Attempts', values='Run Times')\n",
    "sns.set_context(\"paper\")\n",
    "sns_plot = sns.heatmap(chart_data, annot=True, fmt=\"g\", cmap='viridis').set_title('Randomized Hill Climbing')\n",
    "sns_plot.get_figure().savefig(save_path + \"ks_rhc_hyperparam.png\", dpi=100)"
   ]
  },
  {
   "cell_type": "markdown",
   "execution_count": null,
   "metadata": {},
   "outputs": [],
   "source": [
    "### Simulated Annealing"
   ]
  },
  {
   "cell_type": "code",
   "execution_count": null,
   "metadata": {},
   "outputs": [],
   "source": [
    "iters_options = list(np.geomspace(10, 10000, 8))\n",
    "max_attempts_options = list(np.geomspace(10, 10000, 8))\n",
    "iters_options = [int(x) for x in iters_options]\n",
    "max_attempts_options = [int(x) for x in max_attempts_options]"
   ]
  },
  {
   "cell_type": "code",
   "execution_count": null,
   "metadata": {},
   "outputs": [],
   "source": [
    "all_states, all_fitness, all_curves, run_times, max_iter_data, max_attempt_data = parameter_search(\n",
    "    problem=problem, \n",
    "    algorithm=mlrose.simulated_annealing,\n",
    "    max_iters=iters_options, \n",
    "    max_attempts=max_attempts_options,\n",
    "    curve=True\n",
    "    )"
   ]
  },
  {
   "cell_type": "code",
   "execution_count": null,
   "metadata": {},
   "outputs": [],
   "source": [
    "chart_data = pd.DataFrame({'Fitness': all_fitness, 'Max Iterations': max_iter_data, 'Max Attempts': max_attempt_data})\n",
    "chart_data = chart_data.pivot(index='Max Iterations', columns='Max Attempts', values='Fitness')\n",
    "sns.set_context(\"paper\")\n",
    "sns_plot = sns.heatmap(chart_data, annot=True, fmt=\"g\", cmap='viridis').set_title('Simulated Annealing')\n",
    "sns_plot.get_figure().savefig(save_path + \"ks_sa_hyperparam.png\", dpi=100)"
   ]
  },
  {
   "cell_type": "code",
   "execution_count": null,
   "metadata": {},
   "outputs": [],
   "source": [
    "chart_data = pd.DataFrame({'Run Times': [round(x, 2) for x in run_times], 'Max Iterations': max_iter_data, 'Max Attempts': max_attempt_data})\n",
    "chart_data = chart_data.pivot(index='Max Iterations', columns='Max Attempts', values='Run Times')\n",
    "sns.set_context(\"paper\")\n",
    "sns_plot = sns.heatmap(chart_data, annot=True, fmt=\"g\", cmap='viridis').set_title('Simulated Annealing')\n",
    "sns_plot.get_figure().savefig(save_path + \"ks_sa_hyperparam.png\", dpi=100)"
   ]
  },
  {
   "cell_type": "markdown",
   "execution_count": null,
   "metadata": {},
   "outputs": [],
   "source": [
    "### Genetic Algorithm"
   ]
  },
  {
   "cell_type": "code",
   "execution_count": null,
   "metadata": {},
   "outputs": [],
   "source": [
    "pop_size = list(np.geomspace(200, 20000, 8))\n",
    "mut_prob = list(np.linspace(0, 0.5, 8))\n",
    "pop_size = [int(x) for x in pop_size]\n",
    "mut_prob = [round(x, 2) for x in mut_prob]"
   ]
  },
  {
   "cell_type": "code",
   "execution_count": null,
   "metadata": {},
   "outputs": [],
   "source": [
    "all_states, all_fitness, all_curves, run_times, pop_size_data, mut_prob_data = parameter_search(\n",
    "    problem=problem, \n",
    "    algorithm=mlrose.genetic_alg,\n",
    "    pop_size=pop_size, \n",
    "    mutation_prob=mut_prob,\n",
    "    curve=True\n",
    "    )"
   ]
  },
  {
   "cell_type": "code",
   "execution_count": null,
   "metadata": {},
   "outputs": [],
   "source": [
    "chart_data = pd.DataFrame({'Fitness': all_fitness, 'Population Size': pop_size_data, 'Mutation Prob': mut_prob_data})\n",
    "chart_data = chart_data.pivot(index='Population Size', columns='Mutation Prob', values='Fitness')\n",
    "sns.set_context(\"paper\")\n",
    "sns_plot = sns.heatmap(chart_data, annot=True, fmt=\"g\", cmap='viridis').set_title('Genetic Algorithms')\n",
    "sns_plot.get_figure().savefig(save_path + \"ks_ga_hyperparam.png\", dpi=100)"
   ]
  },
  {
   "cell_type": "code",
   "execution_count": null,
   "metadata": {},
   "outputs": [],
   "source": [
    "chart_data = pd.DataFrame({'Run Times': [round(x, 2) for x in run_times], 'Population Size': pop_size_data, 'Mutation Prob': mut_prob_data})\n",
    "chart_data = chart_data.pivot(index='Population Size', columns='Mutation Prob', values='Run Times')\n",
    "sns.set_context(\"paper\")\n",
    "sns_plot = sns.heatmap(chart_data, annot=True, fmt=\"g\", cmap='viridis').set_title('Genetic Algorithms')\n",
    "sns_plot.get_figure().savefig(save_path + \"ks_ga_hyperparam.png\", dpi=100)"
   ]
  },
  {
   "cell_type": "markdown",
   "execution_count": null,
   "metadata": {},
   "outputs": [],
   "source": [
    "### MIMIC"
   ]
  },
  {
   "cell_type": "code",
   "execution_count": null,
   "metadata": {},
   "outputs": [],
   "source": [
    "pop_size = list(np.geomspace(500, 500, 8))\n",
    "keep_pct = list(np.linspace(0.1, 0.4, 8))\n",
    "pop_size = [int(x) for x in pop_size]\n",
    "keep_pct = [round(x, 2) for x in keep_pct]"
   ]
  },
  {
   "cell_type": "code",
   "execution_count": null,
   "metadata": {},
   "outputs": [],
   "source": [
    "all_states, all_fitness, all_curves, run_times, pop_size_data, keep_perc_data = parameter_search(\n",
    "    problem=problem, \n",
    "    algorithm=mlrose.mimic,\n",
    "    pop_size=pop_size, \n",
    "    keep_pct=keep_pct,\n",
    "    curve=True\n",
    "    )"
   ]
  },
  {
   "cell_type": "code",
   "execution_count": null,
   "metadata": {},
   "outputs": [],
   "source": [
    "chart_data = pd.DataFrame({'Fitness': all_fitness, 'Population Size': pop_size_data, 'Keep Percantage': keep_perc_data})\n",
    "chart_data = chart_data.pivot(index='Population Size', columns='Keep Percentage', values='Fitness')\n",
    "sns.set_context(\"paper\")\n",
    "sns_plot = sns.heatmap(chart_data, annot=True, fmt=\"g\", cmap='viridis').set_title('MIMIC')\n",
    "sns_plot.get_figure().savefig(save_path + \"ks_mimic_hyperparam.png\", dpi=100)"
   ]
  },
  {
   "cell_type": "code",
   "execution_count": null,
   "metadata": {},
   "outputs": [],
   "source": [
    "chart_data = pd.DataFrame({'Run Times': [round(x, 2) for x in run_times], 'Population Size': pop_size_data, 'Keep Percentage': keep_perc_data})\n",
    "chart_data = chart_data.pivot(index='Population Size', columns='Keep Percentage', values='Run Times')\n",
    "sns.set_context(\"paper\")\n",
    "sns_plot = sns.heatmap(chart_data, annot=True, fmt=\"g\", cmap='viridis').set_title('MIMIC')\n",
    "sns_plot.get_figure().savefig(save_path + \"ks_mimic_hyperparam.png\", dpi=100)"
   ]
  },
  {
   "cell_type": "markdown",
   "execution_count": null,
   "metadata": {},
   "outputs": [],
   "source": [
    "## Count ones"
   ]
  },
  {
   "cell_type": "code",
   "execution_count": null,
   "metadata": {},
   "outputs": [],
   "source": [
    "# define the Count ones problem and print an example\n",
    "fitness = mlrose.OneMax()\n",
    "state = np.random.choice([0, 1], size=100, p=[0.5, 0.5])\n",
    "print(fitness.evaluate(state))\n",
    "problem = mlrose.DiscreteOpt(length = 100, fitness_fn = fitness, maximize = True, max_val = 2)"
   ]
  },
  {
   "cell_type": "markdown",
   "execution_count": null,
   "metadata": {},
   "outputs": [],
   "source": [
    "### Randomized hill climbing"
   ]
  },
  {
   "cell_type": "code",
   "execution_count": null,
   "metadata": {},
   "outputs": [],
   "source": [
    "# define the size of the testing\n",
    "restart_options = list(np.geomspace(10, 1000, 8))\n",
    "max_attempts_options = list(np.geomspace(10, 500, 8))\n",
    "restart_options = [int(x) for x in restart_options]\n",
    "max_attempts_options = [int(x) for x in max_attempts_options]"
   ]
  },
  {
   "cell_type": "code",
   "execution_count": null,
   "metadata": {},
   "outputs": [],
   "source": [
    "all_states, all_fitness, all_curves, run_times, restart_data, max_attempt_data = parameter_search(\n",
    "    problem=problem, \n",
    "    algorithm=mlrose.random_hill_climb,\n",
    "    restarts=restart_options, \n",
    "    max_attempts=max_attempts_options,\n",
    "    curve=True\n",
    "    )"
   ]
  },
  {
   "cell_type": "code",
   "execution_count": null,
   "metadata": {},
   "outputs": [],
   "source": [
    "chart_data = pd.DataFrame({'Fitness': all_fitness, 'Restarts': restart_data, 'Max Attempts': max_attempt_data})\n",
    "chart_data = chart_data.pivot(index='Restarts', columns='Max Attempts', values='Fitness')\n",
    "sns.set_context(\"paper\")\n",
    "sns_plot = sns.heatmap(chart_data, annot=True, fmt=\"g\", cmap='viridis').set_title('Randomized Hill Climbing')\n",
    "sns_plot.get_figure().savefig(save_path + \"co_rhc_hyperparam.png\", dpi=100)"
   ]
  },
  {
   "cell_type": "code",
   "execution_count": null,
   "metadata": {},
   "outputs": [],
   "source": [
    "chart_data = pd.DataFrame({'Run Times': [round(x, 2) for x in run_times], 'Restarts': restart_data, 'Max Attempts': max_attempt_data})\n",
    "chart_data = chart_data.pivot(index='Restarts', columns='Max Attempts', values='Run Times')\n",
    "sns.set_context(\"paper\")\n",
    "sns_plot = sns.heatmap(chart_data, annot=True, fmt=\"g\", cmap='viridis').set_title('Randomized Hill Climbing')\n",
    "sns_plot.get_figure().savefig(save_path + \"co_rhc_hyperparam.png\", dpi=100)"
   ]
  },
  {
   "cell_type": "markdown",
   "execution_count": null,
   "metadata": {},
   "outputs": [],
   "source": [
    "### Simulated Annealing"
   ]
  },
  {
   "cell_type": "code",
   "execution_count": null,
   "metadata": {},
   "outputs": [],
   "source": [
    "iters_options = list(np.geomspace(10, 10000, 8))\n",
    "max_attempts_options = list(np.geomspace(10, 10000, 8))\n",
    "iters_options = [int(x) for x in iters_options]\n",
    "max_attempts_options = [int(x) for x in max_attempts_options]"
   ]
  },
  {
   "cell_type": "code",
   "execution_count": null,
   "metadata": {},
   "outputs": [],
   "source": [
    "all_states, all_fitness, all_curves, run_times, max_iter_data, max_attempt_data = parameter_search(\n",
    "    problem=problem, \n",
    "    algorithm=mlrose.simulated_annealing,\n",
    "    max_iters=iters_options, \n",
    "    max_attempts=max_attempts_options,\n",
    "    curve=True\n",
    "    )"
   ]
  },
  {
   "cell_type": "code",
   "execution_count": null,
   "metadata": {},
   "outputs": [],
   "source": [
    "chart_data = pd.DataFrame({'Fitness': all_fitness, 'Max Iterations': max_iter_data, 'Max Attempts': max_attempt_data})\n",
    "chart_data = chart_data.pivot(index='Max Iterations', columns='Max Attempts', values='Fitness')\n",
    "sns.set_context(\"paper\")\n",
    "sns_plot = sns.heatmap(chart_data, annot=True, fmt=\"g\", cmap='viridis').set_title('Simulated Annealing')\n",
    "sns_plot.get_figure().savefig(save_path + \"co_sa_hyperparam.png\", dpi=100)"
   ]
  },
  {
   "cell_type": "code",
   "execution_count": null,
   "metadata": {},
   "outputs": [],
   "source": [
    "chart_data = pd.DataFrame({'Run Times': [round(x, 2) for x in run_times], 'Max Iterations': max_iter_data, 'Max Attempts': max_attempt_data})\n",
    "chart_data = chart_data.pivot(index='Max Iterations', columns='Max Attempts', values='Run Times')\n",
    "sns.set_context(\"paper\")\n",
    "sns_plot = sns.heatmap(chart_data, annot=True, fmt=\"g\", cmap='viridis').set_title('Simulated Annealing')\n",
    "sns_plot.get_figure().savefig(save_path + \"co_sa_hyperparam.png\", dpi=100)"
   ]
  },
  {
   "cell_type": "markdown",
   "execution_count": null,
   "metadata": {},
   "outputs": [],
   "source": [
    "### Genetic Algorithm"
   ]
  },
  {
   "cell_type": "code",
   "execution_count": null,
   "metadata": {},
   "outputs": [],
   "source": [
    "all_states, all_fitness, all_curves, run_times, pop_size_data, mut_prob_data = parameter_search(\n",
    "    problem=problem, \n",
    "    algorithm=mlrose.genetic_alg,\n",
    "    pop_size=pop_size, \n",
    "    mutation_prob=mut_prob,\n",
    "    curve=True\n",
    "    )"
   ]
  },
  {
   "cell_type": "code",
   "execution_count": null,
   "metadata": {},
   "outputs": [],
   "source": [
    "chart_data = pd.DataFrame({'Fitness': all_fitness, 'Population Size': pop_size_data, 'Mutation Prob': mut_prob_data})\n",
    "chart_data = chart_data.pivot(index='Population Size', columns='Mutation Prob', values='Fitness')\n",
    "sns.set_context(\"paper\")\n",
    "sns_plot = sns.heatmap(chart_data, annot=True, fmt=\"g\", cmap='viridis').set_title('Genetic Algorithms')\n",
    "sns_plot.get_figure().savefig(save_path + \"co_ga_hyperparam.png\", dpi=100)"
   ]
  },
  {
   "cell_type": "code",
   "execution_count": null,
   "metadata": {},
   "outputs": [],
   "source": [
    "chart_data = pd.DataFrame({'Run Times': [round(x, 2) for x in run_times], 'Population Size': pop_size_data, 'Mutation Prob': mut_prob_data})\n",
    "chart_data = chart_data.pivot(index='Population Size', columns='Mutation Prob', values='Run Times')\n",
    "sns.set_context(\"paper\")\n",
    "sns_plot = sns.heatmap(chart_data, annot=True, fmt=\"g\", cmap='viridis').set_title('Genetic Algorithms')\n",
    "sns_plot.get_figure().savefig(save_path + \"co_ga_hyperparam.png\", dpi=100)"
   ]
  },
  {
   "cell_type": "markdown",
   "execution_count": null,
   "metadata": {},
   "outputs": [],
   "source": [
    "### MIMIC"
   ]
  },
  {
   "cell_type": "code",
   "execution_count": null,
   "metadata": {},
   "outputs": [],
   "source": [
    "pop_size = list(np.geomspace(50, 500, 8))\n",
    "keep_pct = list(np.linspace(0.1, 0.4, 8))\n",
    "pop_size = [int(x) for x in pop_size]\n",
    "keep_pct = [round(x, 2) for x in keep_pct]"
   ]
  },
  {
   "cell_type": "code",
   "execution_count": null,
   "metadata": {},
   "outputs": [],
   "source": [
    "all_states, all_fitness, all_curves, run_times, pop_size_data, keep_perc_data = parameter_search(\n",
    "    problem=problem, \n",
    "    algorithm=mlrose.mimic,\n",
    "    pop_size=pop_size, \n",
    "    keep_pct=keep_pct,\n",
    "    curve=True\n",
    "    )"
   ]
  },
  {
   "cell_type": "code",
   "execution_count": null,
   "metadata": {},
   "outputs": [],
   "source": [
    "chart_data = pd.DataFrame({'Fitness': all_fitness, 'Population Size': pop_size_data, 'Keep Percantage': keep_perc_data})\n",
    "chart_data = chart_data.pivot(index='Population Size', columns='Keep Percentage', values='Fitness')\n",
    "sns.set_context(\"paper\")\n",
    "sns_plot = sns.heatmap(chart_data, annot=True, fmt=\"g\", cmap='viridis').set_title('MIMIC')\n",
    "sns_plot.get_figure().savefig(save_path + \"ks_mimic_hyperparam.png\", dpi=100)"
   ]
  },
  {
   "cell_type": "code",
   "execution_count": null,
   "metadata": {},
   "outputs": [],
   "source": [
    "chart_data = pd.DataFrame({'Run Times': [round(x, 2) for x in run_times], 'Population Size': pop_size_data, 'Keep Percentage': keep_perc_data})\n",
    "chart_data = chart_data.pivot(index='Population Size', columns='Keep Percentage', values='Run Times')\n",
    "sns.set_context(\"paper\")\n",
    "sns_plot = sns.heatmap(chart_data, annot=True, fmt=\"g\", cmap='viridis').set_title('MIMIC')\n",
    "sns_plot.get_figure().savefig(save_path + \"ks_mimic_hyperparam.png\", dpi=100)"
   ]
  },
  {
   "cell_type": "markdown",
   "execution_count": null,
   "metadata": {},
   "outputs": [],
   "source": [
    "# Neural Network"
   ]
  },
  {
   "cell_type": "markdown",
   "execution_count": null,
   "metadata": {},
   "outputs": [],
   "source": [
    "## Dataset"
   ]
  },
  {
   "cell_type": "code",
   "execution_count": null,
   "metadata": {},
   "outputs": [],
   "source": [
    "# load dataset\n",
    "creditDataDf = pd.read_excel('./data/default of credit card clients.xls', header=1)\n",
    "creditDataDf = creditDataDf.drop(columns=['ID'])\n",
    "\n",
    "# create dummy variables from categorical\n",
    "creditDataDf = pd.get_dummies(creditDataDf, prefix=['SEX', 'EDUCATION', 'MARRIAGE'], columns=['SEX', 'EDUCATION', 'MARRIAGE'])\n",
    "\n",
    "# drop last mummy variable\n",
    "creditDataDf = creditDataDf.drop(columns=['SEX_2', 'EDUCATION_6', 'MARRIAGE_3'])\n",
    "\n",
    "y = creditDataDf['default payment next month']\n",
    "creditDataDf = creditDataDf.drop(columns=['default payment next month'])\n",
    "dfColumns = creditDataDf.columns\n",
    "\n",
    "# balance the dataset\n",
    "ros = RandomOverSampler(random_state=37)\n",
    "creditDataDf, y = ros.fit_resample(creditDataDf, y)\n",
    "\n",
    "creditDataDf = pd.DataFrame(creditDataDf, columns=dfColumns)\n",
    "\n",
    "# normalize the data\n",
    "x = creditDataDf.values #returns a numpy array\n",
    "min_max_scaler = preprocessing.StandardScaler()\n",
    "x_scaled = min_max_scaler.fit_transform(x)\n",
    "creditDataDf = pd.DataFrame(x_scaled, columns=creditDataDf.columns)"
   ]
  },
  {
   "cell_type": "code",
   "execution_count": null,
   "metadata": {},
   "outputs": [],
   "source": [
    "X_train, X_test, y_train, y_test = train_test_split(creditDataDf, y, test_size=0.2, random_state=37)\n",
    "X_train, X_val, y_train, y_val = train_test_split(X_train, y_train, test_size=0.2, random_state=37)"
   ]
  },
  {
   "cell_type": "code",
   "execution_count": null,
   "metadata": {},
   "outputs": [],
   "source": [
    "print(X_train.columns)\n",
    "print(len(X_train.columns))\n",
    "print(sum(y_train)/len(y_train))"
   ]
  },
  {
   "cell_type": "code",
   "execution_count": null,
   "metadata": {},
   "outputs": [],
   "source": [
    "y_train"
   ]
  },
  {
   "cell_type": "code",
   "execution_count": null,
   "metadata": {},
   "outputs": [],
   "source": [
    "# The following code was adapted from https://mlrose.readthedocs.io/en/stable/source/tutorial3.html\n",
    "# Initialize neural network object and fit object\n",
    "nn_model = mlrose.NeuralNetwork(\n",
    "    hidden_nodes = [25, 15], \n",
    "    activation = 'relu',\n",
    "    algorithm = 'gradient_descent', \n",
    "    max_iters = 10000,\n",
    "    bias = False, \n",
    "    is_classifier = True, \n",
    "    learning_rate = 0.0001,\n",
    "    early_stopping = True, \n",
    "    clip_max = 50, \n",
    "    max_attempts = 1000,\n",
    "    random_state = 3,\n",
    "    restarts=10\n",
    "    )\n",
    "\n",
    "nn_model.fit(X_train, y_train)"
   ]
  },
  {
   "cell_type": "code",
   "execution_count": null,
   "metadata": {},
   "outputs": [],
   "source": [
    "# Predict labels for train set and assess accuracy\n",
    "y_train_pred = nn_model.predict(X_train)\n",
    "y_train_accuracy = accuracy_score(y_train, y_train_pred)\n",
    "print(y_train_accuracy)"
   ]
  },
  {
   "cell_type": "code",
   "execution_count": null,
   "metadata": {},
   "outputs": [],
   "source": [
    "# convert data to tensors\n",
    "X_train_tensor = torch.tensor(X_train.values.astype(np.float32))\n",
    "X_test_tensor = torch.tensor(X_test.values.astype(np.float32))\n",
    "X_val_tensor = torch.tensor(X_val.values.astype(np.float32))\n",
    "\n",
    "y_train_tensor = torch.tensor(y_train.values.astype(np.int))\n",
    "y_test_tensor = torch.tensor(y_test.values.astype(np.int))\n",
    "y_val_tensor = torch.tensor(y_val.values.astype(np.int))"
   ]
  },
  {
   "cell_type": "code",
   "execution_count": null,
   "metadata": {},
   "outputs": [],
   "source": [
    "trainTorchDataset = torch.utils.data.TensorDataset(X_train_tensor, y_train_tensor)\n",
    "valTorchDataset = torch.utils.data.TensorDataset(X_val_tensor, y_val_tensor)\n",
    "testTorchDataset = torch.utils.data.TensorDataset(X_test_tensor, y_test_tensor)"
   ]
  },
  {
   "cell_type": "code",
   "execution_count": null,
   "metadata": {},
   "outputs": [],
   "source": [
    "print(len(valTorchDataset), len(testTorchDataset), len(trainTorchDataset))"
   ]
  },
  {
   "cell_type": "code",
   "execution_count": null,
   "metadata": {},
   "outputs": [],
   "source": [
    "trainloader2 = torch.utils.data.DataLoader(trainTorchDataset, batch_size=64, shuffle=True)\n",
    "valloader2 = torch.utils.data.DataLoader(valTorchDataset, batch_size=len(valTorchDataset), shuffle=True)\n",
    "testloader2 = torch.utils.data.DataLoader(testTorchDataset, batch_size=len(testTorchDataset), shuffle=True)"
   ]
  },
  {
   "cell_type": "code",
   "execution_count": null,
   "metadata": {},
   "outputs": [],
   "source": [
    "def nnPredictTabular(model2, valloader2, criterion):\n",
    "    correct_count, all_count = 0, 0\n",
    "    running_loss = 0\n",
    "    probList = []\n",
    "    for rows,labels in valloader2:\n",
    "        \n",
    "#         print(rows.shape)\n",
    "#         print(labels.shape)\n",
    "        \n",
    "        with torch.no_grad():\n",
    "            print(rows.float())\n",
    "            output = model2(rows)\n",
    "            loss = criterion(output, labels)\n",
    "            running_loss += loss.item()\n",
    "\n",
    "\n",
    "        for i in range(len(labels)):\n",
    "            row = rows[i].view(1, 30)\n",
    "#             print(row.shape)\n",
    "            with torch.no_grad():\n",
    "                logps = model2(row)\n",
    "\n",
    "            ps = torch.exp(logps)\n",
    "            probab = list(ps.numpy()[0])\n",
    "            probList.append(probab)\n",
    "            pred_label = probab.index(max(probab))\n",
    "            true_label = labels.numpy()[i]\n",
    "            if(true_label == pred_label):\n",
    "                correct_count += 1\n",
    "            all_count += 1\n",
    "\n",
    "#     print(\"Number Of Images Tested =\", all_count)\n",
    "#     print(\"Model Accuracy =\", (correct_count/all_count))\n",
    "#     print(\"Testing Loss  =\", (running_loss/len(valloader2)))\n",
    "    \n",
    "    return running_loss/len(valloader2), correct_count, all_count, probList"
   ]
  },
  {
   "cell_type": "code",
   "execution_count": null,
   "metadata": {},
   "outputs": [],
   "source": [
    "input_size = 30\n",
    "hidden_sizes = [2]\n",
    "output_size = 2\n",
    "\n",
    "modelTabBaseline = nn.Sequential(\n",
    "    nn.Linear(input_size, hidden_sizes[0]),\n",
    "    # nn.ReLU(),\n",
    "    # nn.Linear(hidden_sizes[0], hidden_sizes[1]),\n",
    "    # nn.ReLU(),\n",
    "    # nn.Linear(hidden_sizes[1], output_size),\n",
    "    nn.LogSoftmax(dim=1)\n",
    "    )\n",
    "criterion = nn.NLLLoss()"
   ]
  },
  {
   "cell_type": "code",
   "execution_count": null,
   "metadata": {},
   "outputs": [],
   "source": [
    "def trainTabNN(model):\n",
    "    optimizer = optim.SGD(model.parameters(), lr=0.01, momentum=0.5)\n",
    "    # optimizer = optim.Adam(model.parameters(), lr=0.01)\n",
    "    time0 = time.time()\n",
    "    epochs = 100\n",
    "    lossData = []\n",
    "    accData=[]\n",
    "    runTime = []\n",
    "    for e in range(epochs):\n",
    "        startTime = time.time()\n",
    "        running_loss = 0\n",
    "        for rows, labels in trainloader2:\n",
    "                \n",
    "            # Training pass\n",
    "            optimizer.zero_grad()\n",
    "            \n",
    "            output = model(rows)\n",
    "            loss = criterion(output, labels)\n",
    "            \n",
    "            #This is where the model learns by backpropagating\n",
    "            loss.backward()\n",
    "            \n",
    "            #And optimizes its weights here\n",
    "            optimizer.step()\n",
    "            \n",
    "            running_loss += loss.item()\n",
    "        else:\n",
    "            print(\"Epoch {} - Training loss: {}\".format(e, running_loss/len(trainloader2)))\n",
    "            \n",
    "        testingLoss, correctCount, allCount, proba = nnPredictTabular(model, valloader2, criterion)\n",
    "        print(\"Testing Loss  =\", (testingLoss))\n",
    "        print(\"Testing Accuracy  =\", (correctCount / allCount))\n",
    "        \n",
    "        lossData.append([e, running_loss/len(trainloader2), 'Training Loss'])\n",
    "        lossData.append([e, testingLoss, 'Testing Loss'])\n",
    "        accData.append([e, correctCount / allCount])\n",
    "\n",
    "        runTime.append(time.time() - startTime)\n",
    "    \n",
    "    return lossData, accData, runTime\n",
    "        \n",
    "    print(\"\\nTraining Time (in minutes) =\",(time.time()-time0)/60)"
   ]
  },
  {
   "cell_type": "code",
   "execution_count": null,
   "metadata": {},
   "outputs": [],
   "source": []
  },
  {
   "cell_type": "markdown",
   "execution_count": null,
   "metadata": {},
   "outputs": [],
   "source": []
  },
  {
   "cell_type": "code",
   "execution_count": null,
   "metadata": {},
   "outputs": [],
   "source": []
  },
  {
   "cell_type": "code",
   "execution_count": null,
   "metadata": {},
   "outputs": [],
   "source": []
  },
  {
   "cell_type": "code",
   "execution_count": null,
   "metadata": {},
   "outputs": [],
   "source": [
    "def NN_fitness_function(state, model):\n",
    "    time0 = time.time()\n",
    "    lossData = []\n",
    "    accData=[]\n",
    "    runTime = []\n",
    "    startTime = time.time()\n",
    "\n",
    "    l1 = torch.tensor(np.reshape(state[0:60], (2, 30)).astype(np.float32))\n",
    "    # l2 = torch.tensor(np.reshape(state[750:1125], (15, 25)).astype(np.float32))\n",
    "    # l3 = torch.tensor(np.reshape(state[1125:1155], (2, 15)).astype(np.float32))\n",
    "    # print(model[4].weight)\n",
    "    # print(torch.nn.Parameter(l3))\n",
    "\n",
    "    with torch.no_grad():\n",
    "        model[0].weight = torch.nn.Parameter(l1)\n",
    "        # model[2].weight = torch.nn.Parameter(l2)\n",
    "        # model[4].weight = torch.nn.Parameter(l3)\n",
    "        \n",
    "    testingLoss, correctCount, allCount, proba = nnPredictTabular(model, trainloader2, criterion)\n",
    "    print(\"Loss  =\", (testingLoss))\n",
    "    # print(\"Accuracy  =\", (correctCount / allCount))\n",
    "    \n",
    "    # lossData.append([e, running_loss/len(trainloader2), 'Training Loss'])\n",
    "    # lossData.append([e, testingLoss, 'Testing Loss'])\n",
    "    # accData.append([e, correctCount / allCount])\n",
    "\n",
    "    # runTime.append(time.time() - startTime)\n",
    "    \n",
    "    return testingLoss"
   ]
  },
  {
   "cell_type": "code",
   "execution_count": null,
   "metadata": {},
   "outputs": [],
   "source": [
    "fitnessNN = mlrose.CustomFitness(NN_fitness_function, model=modelTabBaseline)"
   ]
  },
  {
   "cell_type": "code",
   "execution_count": null,
   "metadata": {},
   "outputs": [],
   "source": [
    "state = list(np.random.uniform(-0.1, 0.1, 60))\n",
    "fitnessNN.evaluate(state)"
   ]
  },
  {
   "cell_type": "code",
   "execution_count": null,
   "metadata": {},
   "outputs": [],
   "source": [
    "problem = mlrose.ContinuousOpt(\n",
    "    length = 60, \n",
    "    fitness_fn = fitnessNN, \n",
    "    maximize = False, \n",
    "    min_val=-0.1, \n",
    "    max_val = 0.1,\n",
    "    step=0.0001\n",
    "    )"
   ]
  },
  {
   "cell_type": "code",
   "execution_count": null,
   "metadata": {},
   "outputs": [],
   "source": [
    "# Define decay schedule\n",
    "schedule = mlrose.ExpDecay()\n",
    "\n",
    "best_state, best_fitness = mlrose.random_hill_climb(\n",
    "    problem, \n",
    "    # schedule = schedule,\n",
    "    max_attempts = 10, \n",
    "    max_iters = 1000,\n",
    "    init_state = state, \n",
    "    random_state = 1)"
   ]
  },
  {
   "cell_type": "code",
   "execution_count": null,
   "metadata": {},
   "outputs": [],
   "source": []
  },
  {
   "cell_type": "code",
   "execution_count": null,
   "metadata": {},
   "outputs": [],
   "source": [
    "lossDataBaseline, accDataBaseline, runtime = trainTabNN(modelTabBaseline)"
   ]
  },
  {
   "cell_type": "code",
   "execution_count": null,
   "metadata": {},
   "outputs": [],
   "source": [
    "testingLoss, correctCount, allCount, proba = nnPredictTabular(modelTabBaseline, testloader2, criterion)"
   ]
  },
  {
   "cell_type": "code",
   "execution_count": null,
   "metadata": {},
   "outputs": [],
   "source": [
    "correctCount/allCount"
   ]
  },
  {
   "cell_type": "code",
   "execution_count": null,
   "metadata": {},
   "outputs": [],
   "source": [
    "accDataBaseline = [[row[0], row[1], 'Baseline Accuracy'] for row in accDataBaseline]\n",
    "lossDataBaseline = pd.DataFrame.from_records(lossDataBaseline, columns=[\"Epoch\", \"Loss\", \"Stage\"])\n",
    "accDataBaseline = pd.DataFrame.from_records(accDataBaseline, columns=[\"Epoch\", \"Accuracy\", \"Stage\"])"
   ]
  },
  {
   "cell_type": "code",
   "execution_count": null,
   "metadata": {},
   "outputs": [],
   "source": [
    "sns.set(\n",
    "    style=\"darkgrid\"\n",
    "    )\n",
    "\n",
    "sns_plot = sns.lineplot(\n",
    "    x=\"Epoch\", y=\"Loss\",\n",
    "    hue=\"Stage\",\n",
    "    data=lossDataBaseline\n",
    "    ).set_title('NN')\n",
    "# sns_plot.get_figure().savefig(savePath + \"NN_CREDIT_baseline_learning-curve.png\", dpi=100)"
   ]
  },
  {
   "cell_type": "code",
   "execution_count": null,
   "metadata": {},
   "outputs": [],
   "source": [
    "sns.set(\n",
    "    style=\"darkgrid\"\n",
    "    )\n",
    "    \n",
    "sns.lineplot(\n",
    "    x=\"Epoch\", y=\"Accuracy\",\n",
    "    hue=\"Stage\",\n",
    "    data=accDataBaseline\n",
    "    ).set_title('NN')"
   ]
  },
  {
   "cell_type": "code",
   "execution_count": null,
   "metadata": {},
   "outputs": [],
   "source": []
  },
  {
   "cell_type": "code",
   "execution_count": null,
   "metadata": {},
   "outputs": [],
   "source": []
  },
  {
   "cell_type": "code",
   "execution_count": null,
   "metadata": {},
   "outputs": [],
   "source": []
  },
  {
   "cell_type": "markdown",
   "execution_count": null,
   "metadata": {},
   "outputs": [],
   "source": [
    "## MNIST"
   ]
  },
  {
   "cell_type": "code",
   "execution_count": 5,
   "metadata": {},
   "outputs": [],
   "source": [
    "transform = transforms.Compose([transforms.ToTensor(),\n",
    "                              transforms.Normalize((0.5,), (0.5,)),\n",
    "                              ])\n",
    "# transform = transforms.Compose([transforms.ToTensor()])\n",
    "\n",
    "trainset = datasets.MNIST('./data', download=True, train=True, transform=transform)\n",
    "testset = datasets.MNIST('./data', download=True, train=False, transform=transform)\n",
    "trainset, valset = torch.utils.data.random_split(trainset, [50000, 10000])\n",
    "\n",
    "train_sampler = torch.utils.data.sampler.RandomSampler(trainset, replacement=True, num_samples=5000)\n",
    "val_sampler = torch.utils.data.sampler.RandomSampler(valset, replacement=True, num_samples=5000)\n",
    "\n",
    "trainloader = torch.utils.data.DataLoader(trainset, batch_size=64, sampler=train_sampler)\n",
    "testloader = torch.utils.data.DataLoader(testset, batch_size=64, shuffle=True)\n",
    "valloader = torch.utils.data.DataLoader(valset, batch_size=64, sampler=val_sampler)"
   ]
  },
  {
   "cell_type": "code",
   "execution_count": 6,
   "metadata": {},
   "outputs": [],
   "source": [
    "def nnPredict(model, valloader, criterion):\n",
    "    correct_count, all_count = 0, 0\n",
    "    running_loss = 0\n",
    "    for images,labels in valloader:\n",
    "        images = images.view(images.shape[0], -1)\n",
    "        with torch.no_grad():\n",
    "            output = model(images)\n",
    "            loss = criterion(output, labels)\n",
    "            running_loss += loss.item()\n",
    "        \n",
    "#         print(images.shape)\n",
    "#         print(labels.shape)\n",
    "\n",
    "        for i in range(len(labels)):\n",
    "            img = images[i].view(1, 784)\n",
    "#             print(img.shape)\n",
    "            with torch.no_grad():\n",
    "                logps = model(img)\n",
    "\n",
    "            ps = torch.exp(logps)\n",
    "            probab = list(ps.numpy()[0])\n",
    "            pred_label = probab.index(max(probab))\n",
    "            true_label = labels.numpy()[i]\n",
    "            if(true_label == pred_label):\n",
    "                correct_count += 1\n",
    "            all_count += 1\n",
    "\n",
    "#     print(\"Number Of Images Tested =\", all_count)\n",
    "#     print(\"Model Accuracy =\", (correct_count/all_count))\n",
    "#     print(\"Testing Loss  =\", (running_loss/len(valloader)))\n",
    "    \n",
    "    return running_loss/len(valloader), correct_count, all_count"
   ]
  },
  {
   "cell_type": "code",
   "execution_count": 87,
   "metadata": {},
   "outputs": [],
   "source": [
    "input_size = 784\n",
    "hidden_sizes = [128, 64]\n",
    "output_size = 10\n",
    "drop_out = 0.2\n",
    "\n",
    "model = nn.Sequential(\n",
    "    nn.Linear(input_size, hidden_sizes[0]),\n",
    "    nn.ReLU(),\n",
    "    # nn.Dropout(drop_out, inplace=True),\n",
    "    nn.Linear(hidden_sizes[0], hidden_sizes[1]),\n",
    "    nn.ReLU(),\n",
    "    # nn.Dropout(drop_out, inplace=True),\n",
    "    nn.Linear(hidden_sizes[1], output_size),\n",
    "    nn.LogSoftmax(dim=1)\n",
    "    )"
   ]
  },
  {
   "cell_type": "code",
   "execution_count": 88,
   "metadata": {},
   "outputs": [],
   "source": [
    "criterion = nn.NLLLoss()\n",
    "images, labels = next(iter(trainloader))\n",
    "images = images.view(images.shape[0], -1)\n",
    "\n",
    "logps = model(images) #log probabilities\n",
    "loss = criterion(logps, labels) #calculate the NLL loss"
   ]
  },
  {
   "cell_type": "code",
   "execution_count": 89,
   "metadata": {},
   "outputs": [],
   "source": [
    "def trainNN(model):\n",
    "    optimizer = optim.SGD(model.parameters(), lr=0.001, momentum=0.9)\n",
    "    time0 = time.time()\n",
    "    epochs = 30\n",
    "    lossData = []\n",
    "    accData = []\n",
    "    runTime = []\n",
    "    for e in range(epochs):\n",
    "        startTime = time.time()\n",
    "        running_loss = 0\n",
    "        for images, labels in trainloader:\n",
    "            # Flatten MNIST images into a 784 long vector\n",
    "            images = images.view(images.shape[0], -1)\n",
    "        \n",
    "            # Training pass\n",
    "            optimizer.zero_grad()\n",
    "            \n",
    "            output = model(images)\n",
    "            loss = criterion(output, labels)\n",
    "            \n",
    "            #This is where the model learns by backpropagating\n",
    "            loss.backward()\n",
    "            \n",
    "            #And optimizes its weights here\n",
    "            optimizer.step()\n",
    "            \n",
    "            running_loss += loss.item()\n",
    "        else:\n",
    "            print(\"Epoch {} - Training loss: {}\".format(e, running_loss/len(trainloader)))\n",
    "            \n",
    "        testingLoss, correctCount, allCount = nnPredict(model, valloader, criterion)\n",
    "        print(\"Testing Loss  =\", (testingLoss))\n",
    "        \n",
    "        lossData.append([e, running_loss/len(trainloader), 'Training Error'])\n",
    "        lossData.append([e, testingLoss, 'Testing Error'])\n",
    "        accData.append([e, correctCount / allCount])\n",
    "\n",
    "        runTime.append(time.time() - startTime)\n",
    "    \n",
    "    return lossData, accData, runTime    \n",
    "    print(\"\\nTraining Time (in minutes) =\",(time.time()-time0)/60)"
   ]
  },
  {
   "cell_type": "code",
   "execution_count": 90,
   "metadata": {},
   "outputs": [],
   "source": [
    "def trainNN_randomized_hill_climbing(model, stdev, restarts, max_iter):\n",
    "    # optimizer = optim.SGD(model.parameters(), lr=0.001, momentum=0.9)\n",
    "    time0 = time.time()\n",
    "    # epochs = epochs\n",
    "    lossData = []\n",
    "    accData = []\n",
    "    runTime = []\n",
    "    previous_loss = 999\n",
    "    run = True\n",
    "    iteration = 0\n",
    "    restarted = 0\n",
    "    total_iterations = 0\n",
    "    update_ls = True\n",
    "    best_loss_across = 999\n",
    "\n",
    "    best_w1 = model[0].weight\n",
    "    best_w2 = model[2].weight\n",
    "    best_w3 = model[4].weight\n",
    "\n",
    "    while run:\n",
    "        startTime = time.time()\n",
    "        running_loss = 0\n",
    "\n",
    "        state = np.random.normal(0, stdev, 109184)\n",
    "\n",
    "        l1 = torch.tensor(np.reshape(state[0:100352], (128, 784)).astype(np.float32))\n",
    "        l2 = torch.tensor(np.reshape(state[100352:108544], (64, 128)).astype(np.float32))\n",
    "        l3 = torch.tensor(np.reshape(state[108544:109184], (10, 64)).astype(np.float32))\n",
    "        # print(l1.shape)\n",
    "        # print(torch.nn.Parameter(l3))\n",
    "\n",
    "        with torch.no_grad():\n",
    "            orig_w1 = model[0].weight\n",
    "            orig_w2 = model[2].weight\n",
    "            orig_w3 = model[4].weight\n",
    "\n",
    "        with torch.no_grad():\n",
    "            model[0].weight = torch.nn.Parameter(model[0].weight + l1)\n",
    "            model[2].weight = torch.nn.Parameter(model[2].weight + l2)\n",
    "            model[4].weight = torch.nn.Parameter(model[4].weight + l3)\n",
    "\n",
    "        for images, labels in trainloader:\n",
    "            # Flatten MNIST images into a 784 long vector\n",
    "            images = images.view(images.shape[0], -1)\n",
    "\n",
    "            with torch.no_grad():\n",
    "                output = model(images)\n",
    "                loss = criterion(output, labels)\n",
    "                running_loss += loss.item()\n",
    "        \n",
    "        else:\n",
    "            current_loss = running_loss/len(trainloader)\n",
    "            # print(\"Epoch {} - Training loss: {}\".format(e, running_loss/len(trainloader)))\n",
    "\n",
    "        print(\n",
    "            'Restarted: ' + str(restarted),\n",
    "            'Iteration: ' + str(iteration), \n",
    "            'Previous loss: ' + str(round(previous_loss, 3)), \n",
    "            'Current loss: ' + str(round(current_loss, 3)),\n",
    "            'Best loss: ' + str(round(best_loss_across, 3))\n",
    "            )\n",
    "        \n",
    "        if current_loss > previous_loss:\n",
    "            iteration += 1\n",
    "            with torch.no_grad():\n",
    "                model[0].weight = orig_w1\n",
    "                model[2].weight = orig_w2\n",
    "                model[4].weight = orig_w3\n",
    "            \n",
    "            if iteration > max_iter:\n",
    "\n",
    "                restarted += 1\n",
    "\n",
    "                if previous_loss < best_loss_across:\n",
    "                    best_w1 = model[0].weight\n",
    "                    best_w2 = model[2].weight\n",
    "                    best_w3 = model[4].weight\n",
    "                    best_loss_across = previous_loss\n",
    "                    previous_loss = 999\n",
    "\n",
    "                new_weights = np.random.normal(0, 0.01, 109184)\n",
    "                n1 = torch.tensor(np.reshape(new_weights[0:100352], (128, 784)).astype(np.float32))\n",
    "                n2 = torch.tensor(np.reshape(new_weights[100352:108544], (64, 128)).astype(np.float32))\n",
    "                n3 = torch.tensor(np.reshape(new_weights[108544:109184], (10, 64)).astype(np.float32))\n",
    "\n",
    "                model[0].weight = torch.nn.Parameter(n1)\n",
    "                model[2].weight = torch.nn.Parameter(n2)\n",
    "                model[4].weight = torch.nn.Parameter(n3)\n",
    "\n",
    "                iteration = 0\n",
    "\n",
    "                if restarted > restarts:\n",
    "                    run = False\n",
    "                    model[0].weight = best_w1\n",
    "                    model[2].weight = best_w2\n",
    "                    model[4].weight = best_w3\n",
    "        else:\n",
    "            previous_loss = current_loss\n",
    "            # best_w1 = model[0].weight\n",
    "            # best_w2 = model[2].weight\n",
    "            # best_w3 = model[4].weight\n",
    "            \n",
    "            \n",
    "        testingLoss, correctCount, allCount = nnPredict(model, valloader, criterion)\n",
    "        # print(\"Testing Loss  =\", (testingLoss))\n",
    "        \n",
    "        lossData.append([total_iterations, running_loss/len(trainloader), 'Training Error'])\n",
    "        lossData.append([total_iterations, testingLoss, 'Testing Error'])\n",
    "        accData.append([total_iterations, correctCount / allCount])\n",
    "\n",
    "        runTime.append(time.time() - startTime)\n",
    "        total_iterations += 1\n",
    "\n",
    "        # print(model[0].weight)\n",
    "    \n",
    "    return lossData, accData, runTime    "
   ]
  },
  {
   "cell_type": "code",
   "execution_count": 91,
   "metadata": {},
   "outputs": [
    {
     "name": "stdout",
     "output_type": "stream",
     "text": ".601 Current loss: 2.304 Best loss: 1.563\nRestarted: 5 Iteration: 1871 Previous loss: 1.601 Current loss: 2.302 Best loss: 1.563\nRestarted: 5 Iteration: 1872 Previous loss: 1.601 Current loss: 2.303 Best loss: 1.563\nRestarted: 5 Iteration: 1873 Previous loss: 1.601 Current loss: 2.301 Best loss: 1.563\nRestarted: 5 Iteration: 1874 Previous loss: 1.601 Current loss: 2.301 Best loss: 1.563\nRestarted: 5 Iteration: 1875 Previous loss: 1.601 Current loss: 2.302 Best loss: 1.563\nRestarted: 5 Iteration: 1876 Previous loss: 1.601 Current loss: 2.302 Best loss: 1.563\nRestarted: 5 Iteration: 1877 Previous loss: 1.601 Current loss: 2.301 Best loss: 1.563\nRestarted: 5 Iteration: 1878 Previous loss: 1.601 Current loss: 2.303 Best loss: 1.563\nRestarted: 5 Iteration: 1879 Previous loss: 1.601 Current loss: 2.301 Best loss: 1.563\nRestarted: 5 Iteration: 1880 Previous loss: 1.601 Current loss: 2.303 Best loss: 1.563\nRestarted: 5 Iteration: 1881 Previous loss: 1.601 Current loss: 2.301 Best loss: 1.563\nRestarted: 5 Iteration: 1882 Previous loss: 1.601 Current loss: 2.303 Best loss: 1.563\nRestarted: 5 Iteration: 1883 Previous loss: 1.601 Current loss: 2.302 Best loss: 1.563\nRestarted: 5 Iteration: 1884 Previous loss: 1.601 Current loss: 2.301 Best loss: 1.563\nRestarted: 5 Iteration: 1885 Previous loss: 1.601 Current loss: 2.302 Best loss: 1.563\nRestarted: 5 Iteration: 1886 Previous loss: 1.601 Current loss: 2.304 Best loss: 1.563\nRestarted: 5 Iteration: 1887 Previous loss: 1.601 Current loss: 2.302 Best loss: 1.563\nRestarted: 5 Iteration: 1888 Previous loss: 1.601 Current loss: 2.303 Best loss: 1.563\nRestarted: 5 Iteration: 1889 Previous loss: 1.601 Current loss: 2.302 Best loss: 1.563\nRestarted: 5 Iteration: 1890 Previous loss: 1.601 Current loss: 2.302 Best loss: 1.563\nRestarted: 5 Iteration: 1891 Previous loss: 1.601 Current loss: 2.303 Best loss: 1.563\nRestarted: 5 Iteration: 1892 Previous loss: 1.601 Current loss: 2.302 Best loss: 1.563\nRestarted: 5 Iteration: 1893 Previous loss: 1.601 Current loss: 2.302 Best loss: 1.563\nRestarted: 5 Iteration: 1894 Previous loss: 1.601 Current loss: 2.303 Best loss: 1.563\nRestarted: 5 Iteration: 1895 Previous loss: 1.601 Current loss: 2.301 Best loss: 1.563\nRestarted: 5 Iteration: 1896 Previous loss: 1.601 Current loss: 2.303 Best loss: 1.563\nRestarted: 5 Iteration: 1897 Previous loss: 1.601 Current loss: 2.302 Best loss: 1.563\nRestarted: 5 Iteration: 1898 Previous loss: 1.601 Current loss: 2.301 Best loss: 1.563\nRestarted: 5 Iteration: 1899 Previous loss: 1.601 Current loss: 2.302 Best loss: 1.563\nRestarted: 5 Iteration: 1900 Previous loss: 1.601 Current loss: 2.303 Best loss: 1.563\nRestarted: 5 Iteration: 1901 Previous loss: 1.601 Current loss: 2.303 Best loss: 1.563\nRestarted: 5 Iteration: 1902 Previous loss: 1.601 Current loss: 2.301 Best loss: 1.563\nRestarted: 5 Iteration: 1903 Previous loss: 1.601 Current loss: 2.302 Best loss: 1.563\nRestarted: 5 Iteration: 1904 Previous loss: 1.601 Current loss: 2.301 Best loss: 1.563\nRestarted: 5 Iteration: 1905 Previous loss: 1.601 Current loss: 2.303 Best loss: 1.563\nRestarted: 5 Iteration: 1906 Previous loss: 1.601 Current loss: 2.302 Best loss: 1.563\nRestarted: 5 Iteration: 1907 Previous loss: 1.601 Current loss: 2.3 Best loss: 1.563\nRestarted: 5 Iteration: 1908 Previous loss: 1.601 Current loss: 2.302 Best loss: 1.563\nRestarted: 5 Iteration: 1909 Previous loss: 1.601 Current loss: 2.302 Best loss: 1.563\nRestarted: 5 Iteration: 1910 Previous loss: 1.601 Current loss: 2.302 Best loss: 1.563\nRestarted: 5 Iteration: 1911 Previous loss: 1.601 Current loss: 2.301 Best loss: 1.563\nRestarted: 5 Iteration: 1912 Previous loss: 1.601 Current loss: 2.302 Best loss: 1.563\nRestarted: 5 Iteration: 1913 Previous loss: 1.601 Current loss: 2.303 Best loss: 1.563\nRestarted: 5 Iteration: 1914 Previous loss: 1.601 Current loss: 2.303 Best loss: 1.563\nRestarted: 5 Iteration: 1915 Previous loss: 1.601 Current loss: 2.301 Best loss: 1.563\nRestarted: 5 Iteration: 1916 Previous loss: 1.601 Current loss: 2.301 Best loss: 1.563\nRestarted: 5 Iteration: 1917 Previous loss: 1.601 Current loss: 2.302 Best loss: 1.563\nRestarted: 5 Iteration: 1918 Previous loss: 1.601 Current loss: 2.301 Best loss: 1.563\nRestarted: 5 Iteration: 1919 Previous loss: 1.601 Current loss: 2.302 Best loss: 1.563\nRestarted: 5 Iteration: 1920 Previous loss: 1.601 Current loss: 2.302 Best loss: 1.563\nRestarted: 5 Iteration: 1921 Previous loss: 1.601 Current loss: 2.302 Best loss: 1.563\nRestarted: 5 Iteration: 1922 Previous loss: 1.601 Current loss: 2.3 Best loss: 1.563\nRestarted: 5 Iteration: 1923 Previous loss: 1.601 Current loss: 2.302 Best loss: 1.563\nRestarted: 5 Iteration: 1924 Previous loss: 1.601 Current loss: 2.303 Best loss: 1.563\nRestarted: 5 Iteration: 1925 Previous loss: 1.601 Current loss: 2.302 Best loss: 1.563\nRestarted: 5 Iteration: 1926 Previous loss: 1.601 Current loss: 2.301 Best loss: 1.563\nRestarted: 5 Iteration: 1927 Previous loss: 1.601 Current loss: 2.303 Best loss: 1.563\nRestarted: 5 Iteration: 1928 Previous loss: 1.601 Current loss: 2.302 Best loss: 1.563\nRestarted: 5 Iteration: 1929 Previous loss: 1.601 Current loss: 2.302 Best loss: 1.563\nRestarted: 5 Iteration: 1930 Previous loss: 1.601 Current loss: 2.303 Best loss: 1.563\nRestarted: 5 Iteration: 1931 Previous loss: 1.601 Current loss: 2.302 Best loss: 1.563\nRestarted: 5 Iteration: 1932 Previous loss: 1.601 Current loss: 2.303 Best loss: 1.563\nRestarted: 5 Iteration: 1933 Previous loss: 1.601 Current loss: 2.302 Best loss: 1.563\nRestarted: 5 Iteration: 1934 Previous loss: 1.601 Current loss: 2.303 Best loss: 1.563\nRestarted: 5 Iteration: 1935 Previous loss: 1.601 Current loss: 2.302 Best loss: 1.563\nRestarted: 5 Iteration: 1936 Previous loss: 1.601 Current loss: 2.301 Best loss: 1.563\nRestarted: 5 Iteration: 1937 Previous loss: 1.601 Current loss: 2.302 Best loss: 1.563\nRestarted: 5 Iteration: 1938 Previous loss: 1.601 Current loss: 2.301 Best loss: 1.563\nRestarted: 5 Iteration: 1939 Previous loss: 1.601 Current loss: 2.301 Best loss: 1.563\nRestarted: 5 Iteration: 1940 Previous loss: 1.601 Current loss: 2.303 Best loss: 1.563\nRestarted: 5 Iteration: 1941 Previous loss: 1.601 Current loss: 2.302 Best loss: 1.563\nRestarted: 5 Iteration: 1942 Previous loss: 1.601 Current loss: 2.302 Best loss: 1.563\nRestarted: 5 Iteration: 1943 Previous loss: 1.601 Current loss: 2.301 Best loss: 1.563\nRestarted: 5 Iteration: 1944 Previous loss: 1.601 Current loss: 2.302 Best loss: 1.563\nRestarted: 5 Iteration: 1945 Previous loss: 1.601 Current loss: 2.302 Best loss: 1.563\nRestarted: 5 Iteration: 1946 Previous loss: 1.601 Current loss: 2.301 Best loss: 1.563\nRestarted: 5 Iteration: 1947 Previous loss: 1.601 Current loss: 2.301 Best loss: 1.563\nRestarted: 5 Iteration: 1948 Previous loss: 1.601 Current loss: 2.302 Best loss: 1.563\nRestarted: 5 Iteration: 1949 Previous loss: 1.601 Current loss: 2.304 Best loss: 1.563\nRestarted: 5 Iteration: 1950 Previous loss: 1.601 Current loss: 2.303 Best loss: 1.563\nRestarted: 5 Iteration: 1951 Previous loss: 1.601 Current loss: 2.302 Best loss: 1.563\nRestarted: 5 Iteration: 1952 Previous loss: 1.601 Current loss: 2.303 Best loss: 1.563\nRestarted: 5 Iteration: 1953 Previous loss: 1.601 Current loss: 2.301 Best loss: 1.563\nRestarted: 5 Iteration: 1954 Previous loss: 1.601 Current loss: 2.302 Best loss: 1.563\nRestarted: 5 Iteration: 1955 Previous loss: 1.601 Current loss: 2.301 Best loss: 1.563\nRestarted: 5 Iteration: 1956 Previous loss: 1.601 Current loss: 2.302 Best loss: 1.563\nRestarted: 5 Iteration: 1957 Previous loss: 1.601 Current loss: 2.302 Best loss: 1.563\nRestarted: 5 Iteration: 1958 Previous loss: 1.601 Current loss: 2.303 Best loss: 1.563\nRestarted: 5 Iteration: 1959 Previous loss: 1.601 Current loss: 2.303 Best loss: 1.563\nRestarted: 5 Iteration: 1960 Previous loss: 1.601 Current loss: 2.301 Best loss: 1.563\nRestarted: 5 Iteration: 1961 Previous loss: 1.601 Current loss: 2.303 Best loss: 1.563\nRestarted: 5 Iteration: 1962 Previous loss: 1.601 Current loss: 2.302 Best loss: 1.563\nRestarted: 5 Iteration: 1963 Previous loss: 1.601 Current loss: 2.301 Best loss: 1.563\nRestarted: 5 Iteration: 1964 Previous loss: 1.601 Current loss: 2.302 Best loss: 1.563\nRestarted: 5 Iteration: 1965 Previous loss: 1.601 Current loss: 2.303 Best loss: 1.563\nRestarted: 5 Iteration: 1966 Previous loss: 1.601 Current loss: 2.301 Best loss: 1.563\nRestarted: 5 Iteration: 1967 Previous loss: 1.601 Current loss: 2.301 Best loss: 1.563\nRestarted: 5 Iteration: 1968 Previous loss: 1.601 Current loss: 2.302 Best loss: 1.563\nRestarted: 5 Iteration: 1969 Previous loss: 1.601 Current loss: 2.303 Best loss: 1.563\nRestarted: 5 Iteration: 1970 Previous loss: 1.601 Current loss: 2.302 Best loss: 1.563\nRestarted: 5 Iteration: 1971 Previous loss: 1.601 Current loss: 2.302 Best loss: 1.563\nRestarted: 5 Iteration: 1972 Previous loss: 1.601 Current loss: 2.302 Best loss: 1.563\nRestarted: 5 Iteration: 1973 Previous loss: 1.601 Current loss: 2.302 Best loss: 1.563\nRestarted: 5 Iteration: 1974 Previous loss: 1.601 Current loss: 2.301 Best loss: 1.563\nRestarted: 5 Iteration: 1975 Previous loss: 1.601 Current loss: 2.3 Best loss: 1.563\nRestarted: 5 Iteration: 1976 Previous loss: 1.601 Current loss: 2.303 Best loss: 1.563\nRestarted: 5 Iteration: 1977 Previous loss: 1.601 Current loss: 2.303 Best loss: 1.563\nRestarted: 5 Iteration: 1978 Previous loss: 1.601 Current loss: 2.302 Best loss: 1.563\nRestarted: 5 Iteration: 1979 Previous loss: 1.601 Current loss: 2.3 Best loss: 1.563\nRestarted: 5 Iteration: 1980 Previous loss: 1.601 Current loss: 2.302 Best loss: 1.563\nRestarted: 5 Iteration: 1981 Previous loss: 1.601 Current loss: 2.303 Best loss: 1.563\nRestarted: 5 Iteration: 1982 Previous loss: 1.601 Current loss: 2.304 Best loss: 1.563\nRestarted: 5 Iteration: 1983 Previous loss: 1.601 Current loss: 2.303 Best loss: 1.563\nRestarted: 5 Iteration: 1984 Previous loss: 1.601 Current loss: 2.302 Best loss: 1.563\nRestarted: 5 Iteration: 1985 Previous loss: 1.601 Current loss: 2.304 Best loss: 1.563\nRestarted: 5 Iteration: 1986 Previous loss: 1.601 Current loss: 2.301 Best loss: 1.563\nRestarted: 5 Iteration: 1987 Previous loss: 1.601 Current loss: 2.302 Best loss: 1.563\nRestarted: 5 Iteration: 1988 Previous loss: 1.601 Current loss: 2.303 Best loss: 1.563\nRestarted: 5 Iteration: 1989 Previous loss: 1.601 Current loss: 2.302 Best loss: 1.563\nRestarted: 5 Iteration: 1990 Previous loss: 1.601 Current loss: 2.302 Best loss: 1.563\nRestarted: 5 Iteration: 1991 Previous loss: 1.601 Current loss: 2.303 Best loss: 1.563\nRestarted: 5 Iteration: 1992 Previous loss: 1.601 Current loss: 2.304 Best loss: 1.563\nRestarted: 5 Iteration: 1993 Previous loss: 1.601 Current loss: 2.303 Best loss: 1.563\nRestarted: 5 Iteration: 1994 Previous loss: 1.601 Current loss: 2.3 Best loss: 1.563\nRestarted: 5 Iteration: 1995 Previous loss: 1.601 Current loss: 2.302 Best loss: 1.563\nRestarted: 5 Iteration: 1996 Previous loss: 1.601 Current loss: 2.303 Best loss: 1.563\nRestarted: 5 Iteration: 1997 Previous loss: 1.601 Current loss: 2.304 Best loss: 1.563\nRestarted: 5 Iteration: 1998 Previous loss: 1.601 Current loss: 2.301 Best loss: 1.563\nRestarted: 5 Iteration: 1999 Previous loss: 1.601 Current loss: 2.303 Best loss: 1.563\nRestarted: 5 Iteration: 2000 Previous loss: 1.601 Current loss: 2.303 Best loss: 1.563\nRestarted: 6 Iteration: 0 Previous loss: 1.601 Current loss: 2.302 Best loss: 1.563\nRestarted: 6 Iteration: 1 Previous loss: 1.601 Current loss: 2.301 Best loss: 1.563\nRestarted: 6 Iteration: 2 Previous loss: 1.601 Current loss: 2.302 Best loss: 1.563\nRestarted: 6 Iteration: 3 Previous loss: 1.601 Current loss: 2.302 Best loss: 1.563\nRestarted: 6 Iteration: 4 Previous loss: 1.601 Current loss: 2.302 Best loss: 1.563\nRestarted: 6 Iteration: 5 Previous loss: 1.601 Current loss: 2.301 Best loss: 1.563\nRestarted: 6 Iteration: 6 Previous loss: 1.601 Current loss: 2.302 Best loss: 1.563\nRestarted: 6 Iteration: 7 Previous loss: 1.601 Current loss: 2.302 Best loss: 1.563\nRestarted: 6 Iteration: 8 Previous loss: 1.601 Current loss: 2.303 Best loss: 1.563\nRestarted: 6 Iteration: 9 Previous loss: 1.601 Current loss: 2.302 Best loss: 1.563\nRestarted: 6 Iteration: 10 Previous loss: 1.601 Current loss: 2.302 Best loss: 1.563\nRestarted: 6 Iteration: 11 Previous loss: 1.601 Current loss: 2.302 Best loss: 1.563\nRestarted: 6 Iteration: 12 Previous loss: 1.601 Current loss: 2.302 Best loss: 1.563\nRestarted: 6 Iteration: 13 Previous loss: 1.601 Current loss: 2.301 Best loss: 1.563\nRestarted: 6 Iteration: 14 Previous loss: 1.601 Current loss: 2.303 Best loss: 1.563\nRestarted: 6 Iteration: 15 Previous loss: 1.601 Current loss: 2.302 Best loss: 1.563\nRestarted: 6 Iteration: 16 Previous loss: 1.601 Current loss: 2.302 Best loss: 1.563\nRestarted: 6 Iteration: 17 Previous loss: 1.601 Current loss: 2.303 Best loss: 1.563\nRestarted: 6 Iteration: 18 Previous loss: 1.601 Current loss: 2.303 Best loss: 1.563\nRestarted: 6 Iteration: 19 Previous loss: 1.601 Current loss: 2.301 Best loss: 1.563\nRestarted: 6 Iteration: 20 Previous loss: 1.601 Current loss: 2.303 Best loss: 1.563\nRestarted: 6 Iteration: 21 Previous loss: 1.601 Current loss: 2.3 Best loss: 1.563\nRestarted: 6 Iteration: 22 Previous loss: 1.601 Current loss: 2.303 Best loss: 1.563\nRestarted: 6 Iteration: 23 Previous loss: 1.601 Current loss: 2.301 Best loss: 1.563\nRestarted: 6 Iteration: 24 Previous loss: 1.601 Current loss: 2.302 Best loss: 1.563\nRestarted: 6 Iteration: 25 Previous loss: 1.601 Current loss: 2.304 Best loss: 1.563\nRestarted: 6 Iteration: 26 Previous loss: 1.601 Current loss: 2.303 Best loss: 1.563\nRestarted: 6 Iteration: 27 Previous loss: 1.601 Current loss: 2.299 Best loss: 1.563\nRestarted: 6 Iteration: 28 Previous loss: 1.601 Current loss: 2.302 Best loss: 1.563\nRestarted: 6 Iteration: 29 Previous loss: 1.601 Current loss: 2.302 Best loss: 1.563\nRestarted: 6 Iteration: 30 Previous loss: 1.601 Current loss: 2.303 Best loss: 1.563\nRestarted: 6 Iteration: 31 Previous loss: 1.601 Current loss: 2.303 Best loss: 1.563\nRestarted: 6 Iteration: 32 Previous loss: 1.601 Current loss: 2.301 Best loss: 1.563\nRestarted: 6 Iteration: 33 Previous loss: 1.601 Current loss: 2.302 Best loss: 1.563\nRestarted: 6 Iteration: 34 Previous loss: 1.601 Current loss: 2.304 Best loss: 1.563\nRestarted: 6 Iteration: 35 Previous loss: 1.601 Current loss: 2.303 Best loss: 1.563\nRestarted: 6 Iteration: 36 Previous loss: 1.601 Current loss: 2.303 Best loss: 1.563\nRestarted: 6 Iteration: 37 Previous loss: 1.601 Current loss: 2.301 Best loss: 1.563\nRestarted: 6 Iteration: 38 Previous loss: 1.601 Current loss: 2.301 Best loss: 1.563\nRestarted: 6 Iteration: 39 Previous loss: 1.601 Current loss: 2.304 Best loss: 1.563\nRestarted: 6 Iteration: 40 Previous loss: 1.601 Current loss: 2.302 Best loss: 1.563\nRestarted: 6 Iteration: 41 Previous loss: 1.601 Current loss: 2.302 Best loss: 1.563\nRestarted: 6 Iteration: 42 Previous loss: 1.601 Current loss: 2.302 Best loss: 1.563\nRestarted: 6 Iteration: 43 Previous loss: 1.601 Current loss: 2.302 Best loss: 1.563\nRestarted: 6 Iteration: 44 Previous loss: 1.601 Current loss: 2.302 Best loss: 1.563\nRestarted: 6 Iteration: 45 Previous loss: 1.601 Current loss: 2.303 Best loss: 1.563\nRestarted: 6 Iteration: 46 Previous loss: 1.601 Current loss: 2.303 Best loss: 1.563\nRestarted: 6 Iteration: 47 Previous loss: 1.601 Current loss: 2.302 Best loss: 1.563\nRestarted: 6 Iteration: 48 Previous loss: 1.601 Current loss: 2.302 Best loss: 1.563\nRestarted: 6 Iteration: 49 Previous loss: 1.601 Current loss: 2.303 Best loss: 1.563\nRestarted: 6 Iteration: 50 Previous loss: 1.601 Current loss: 2.304 Best loss: 1.563\nRestarted: 6 Iteration: 51 Previous loss: 1.601 Current loss: 2.302 Best loss: 1.563\nRestarted: 6 Iteration: 52 Previous loss: 1.601 Current loss: 2.301 Best loss: 1.563\nRestarted: 6 Iteration: 53 Previous loss: 1.601 Current loss: 2.3 Best loss: 1.563\nRestarted: 6 Iteration: 54 Previous loss: 1.601 Current loss: 2.303 Best loss: 1.563\nRestarted: 6 Iteration: 55 Previous loss: 1.601 Current loss: 2.301 Best loss: 1.563\nRestarted: 6 Iteration: 56 Previous loss: 1.601 Current loss: 2.303 Best loss: 1.563\nRestarted: 6 Iteration: 57 Previous loss: 1.601 Current loss: 2.303 Best loss: 1.563\nRestarted: 6 Iteration: 58 Previous loss: 1.601 Current loss: 2.303 Best loss: 1.563\nRestarted: 6 Iteration: 59 Previous loss: 1.601 Current loss: 2.303 Best loss: 1.563\nRestarted: 6 Iteration: 60 Previous loss: 1.601 Current loss: 2.301 Best loss: 1.563\nRestarted: 6 Iteration: 61 Previous loss: 1.601 Current loss: 2.302 Best loss: 1.563\nRestarted: 6 Iteration: 62 Previous loss: 1.601 Current loss: 2.302 Best loss: 1.563\nRestarted: 6 Iteration: 63 Previous loss: 1.601 Current loss: 2.303 Best loss: 1.563\nRestarted: 6 Iteration: 64 Previous loss: 1.601 Current loss: 2.302 Best loss: 1.563\nRestarted: 6 Iteration: 65 Previous loss: 1.601 Current loss: 2.304 Best loss: 1.563\nRestarted: 6 Iteration: 66 Previous loss: 1.601 Current loss: 2.302 Best loss: 1.563\nRestarted: 6 Iteration: 67 Previous loss: 1.601 Current loss: 2.302 Best loss: 1.563\nRestarted: 6 Iteration: 68 Previous loss: 1.601 Current loss: 2.304 Best loss: 1.563\nRestarted: 6 Iteration: 69 Previous loss: 1.601 Current loss: 2.302 Best loss: 1.563\nRestarted: 6 Iteration: 70 Previous loss: 1.601 Current loss: 2.303 Best loss: 1.563\nRestarted: 6 Iteration: 71 Previous loss: 1.601 Current loss: 2.302 Best loss: 1.563\nRestarted: 6 Iteration: 72 Previous loss: 1.601 Current loss: 2.301 Best loss: 1.563\nRestarted: 6 Iteration: 73 Previous loss: 1.601 Current loss: 2.301 Best loss: 1.563\nRestarted: 6 Iteration: 74 Previous loss: 1.601 Current loss: 2.302 Best loss: 1.563\nRestarted: 6 Iteration: 75 Previous loss: 1.601 Current loss: 2.302 Best loss: 1.563\nRestarted: 6 Iteration: 76 Previous loss: 1.601 Current loss: 2.302 Best loss: 1.563\nRestarted: 6 Iteration: 77 Previous loss: 1.601 Current loss: 2.304 Best loss: 1.563\nRestarted: 6 Iteration: 78 Previous loss: 1.601 Current loss: 2.302 Best loss: 1.563\nRestarted: 6 Iteration: 79 Previous loss: 1.601 Current loss: 2.302 Best loss: 1.563\nRestarted: 6 Iteration: 80 Previous loss: 1.601 Current loss: 2.301 Best loss: 1.563\nRestarted: 6 Iteration: 81 Previous loss: 1.601 Current loss: 2.301 Best loss: 1.563\nRestarted: 6 Iteration: 82 Previous loss: 1.601 Current loss: 2.302 Best loss: 1.563\nRestarted: 6 Iteration: 83 Previous loss: 1.601 Current loss: 2.302 Best loss: 1.563\nRestarted: 6 Iteration: 84 Previous loss: 1.601 Current loss: 2.301 Best loss: 1.563\nRestarted: 6 Iteration: 85 Previous loss: 1.601 Current loss: 2.301 Best loss: 1.563\nRestarted: 6 Iteration: 86 Previous loss: 1.601 Current loss: 2.303 Best loss: 1.563\nRestarted: 6 Iteration: 87 Previous loss: 1.601 Current loss: 2.302 Best loss: 1.563\nRestarted: 6 Iteration: 88 Previous loss: 1.601 Current loss: 2.303 Best loss: 1.563\nRestarted: 6 Iteration: 89 Previous loss: 1.601 Current loss: 2.302 Best loss: 1.563\nRestarted: 6 Iteration: 90 Previous loss: 1.601 Current loss: 2.304 Best loss: 1.563\nRestarted: 6 Iteration: 91 Previous loss: 1.601 Current loss: 2.302 Best loss: 1.563\nRestarted: 6 Iteration: 92 Previous loss: 1.601 Current loss: 2.302 Best loss: 1.563\nRestarted: 6 Iteration: 93 Previous loss: 1.601 Current loss: 2.304 Best loss: 1.563\nRestarted: 6 Iteration: 94 Previous loss: 1.601 Current loss: 2.301 Best loss: 1.563\nRestarted: 6 Iteration: 95 Previous loss: 1.601 Current loss: 2.301 Best loss: 1.563\nRestarted: 6 Iteration: 96 Previous loss: 1.601 Current loss: 2.303 Best loss: 1.563\nRestarted: 6 Iteration: 97 Previous loss: 1.601 Current loss: 2.302 Best loss: 1.563\nRestarted: 6 Iteration: 98 Previous loss: 1.601 Current loss: 2.302 Best loss: 1.563\nRestarted: 6 Iteration: 99 Previous loss: 1.601 Current loss: 2.302 Best loss: 1.563\nRestarted: 6 Iteration: 100 Previous loss: 1.601 Current loss: 2.302 Best loss: 1.563\nRestarted: 6 Iteration: 101 Previous loss: 1.601 Current loss: 2.301 Best loss: 1.563\n"
    },
    {
     "ename": "KeyboardInterrupt",
     "evalue": "",
     "output_type": "error",
     "traceback": [
      "\u001b[0;31m---------------------------------------------------------------------------\u001b[0m",
      "\u001b[0;31mKeyboardInterrupt\u001b[0m                         Traceback (most recent call last)",
      "\u001b[0;32m<ipython-input-91-0f262be6a7ca>\u001b[0m in \u001b[0;36m<module>\u001b[0;34m\u001b[0m\n\u001b[0;32m----> 1\u001b[0;31m \u001b[0mlossDataBaseline\u001b[0m\u001b[0;34m,\u001b[0m \u001b[0maccDataBaseline\u001b[0m\u001b[0;34m,\u001b[0m \u001b[0mruntime\u001b[0m \u001b[0;34m=\u001b[0m \u001b[0mtrainNN_randomized_hill_climbing\u001b[0m\u001b[0;34m(\u001b[0m\u001b[0mmodel\u001b[0m\u001b[0;34m,\u001b[0m \u001b[0;36m0.01\u001b[0m\u001b[0;34m,\u001b[0m \u001b[0;36m10\u001b[0m\u001b[0;34m,\u001b[0m \u001b[0;36m2000\u001b[0m\u001b[0;34m)\u001b[0m\u001b[0;34m\u001b[0m\u001b[0;34m\u001b[0m\u001b[0m\n\u001b[0m",
      "\u001b[0;32m<ipython-input-90-b2708a334ae6>\u001b[0m in \u001b[0;36mtrainNN_randomized_hill_climbing\u001b[0;34m(model, stdev, restarts, max_iter)\u001b[0m\n\u001b[1;32m    102\u001b[0m \u001b[0;34m\u001b[0m\u001b[0m\n\u001b[1;32m    103\u001b[0m \u001b[0;34m\u001b[0m\u001b[0m\n\u001b[0;32m--> 104\u001b[0;31m         \u001b[0mtestingLoss\u001b[0m\u001b[0;34m,\u001b[0m \u001b[0mcorrectCount\u001b[0m\u001b[0;34m,\u001b[0m \u001b[0mallCount\u001b[0m \u001b[0;34m=\u001b[0m \u001b[0mnnPredict\u001b[0m\u001b[0;34m(\u001b[0m\u001b[0mmodel\u001b[0m\u001b[0;34m,\u001b[0m \u001b[0mvalloader\u001b[0m\u001b[0;34m,\u001b[0m \u001b[0mcriterion\u001b[0m\u001b[0;34m)\u001b[0m\u001b[0;34m\u001b[0m\u001b[0;34m\u001b[0m\u001b[0m\n\u001b[0m\u001b[1;32m    105\u001b[0m         \u001b[0;31m# print(\"Testing Loss  =\", (testingLoss))\u001b[0m\u001b[0;34m\u001b[0m\u001b[0;34m\u001b[0m\u001b[0;34m\u001b[0m\u001b[0m\n\u001b[1;32m    106\u001b[0m \u001b[0;34m\u001b[0m\u001b[0m\n",
      "\u001b[0;32m<ipython-input-6-d092fcc85575>\u001b[0m in \u001b[0;36mnnPredict\u001b[0;34m(model, valloader, criterion)\u001b[0m\n\u001b[1;32m     13\u001b[0m \u001b[0;34m\u001b[0m\u001b[0m\n\u001b[1;32m     14\u001b[0m         \u001b[0;32mfor\u001b[0m \u001b[0mi\u001b[0m \u001b[0;32min\u001b[0m \u001b[0mrange\u001b[0m\u001b[0;34m(\u001b[0m\u001b[0mlen\u001b[0m\u001b[0;34m(\u001b[0m\u001b[0mlabels\u001b[0m\u001b[0;34m)\u001b[0m\u001b[0;34m)\u001b[0m\u001b[0;34m:\u001b[0m\u001b[0;34m\u001b[0m\u001b[0;34m\u001b[0m\u001b[0m\n\u001b[0;32m---> 15\u001b[0;31m             \u001b[0mimg\u001b[0m \u001b[0;34m=\u001b[0m \u001b[0mimages\u001b[0m\u001b[0;34m[\u001b[0m\u001b[0mi\u001b[0m\u001b[0;34m]\u001b[0m\u001b[0;34m.\u001b[0m\u001b[0mview\u001b[0m\u001b[0;34m(\u001b[0m\u001b[0;36m1\u001b[0m\u001b[0;34m,\u001b[0m \u001b[0;36m784\u001b[0m\u001b[0;34m)\u001b[0m\u001b[0;34m\u001b[0m\u001b[0;34m\u001b[0m\u001b[0m\n\u001b[0m\u001b[1;32m     16\u001b[0m \u001b[0;31m#             print(img.shape)\u001b[0m\u001b[0;34m\u001b[0m\u001b[0;34m\u001b[0m\u001b[0;34m\u001b[0m\u001b[0m\n\u001b[1;32m     17\u001b[0m             \u001b[0;32mwith\u001b[0m \u001b[0mtorch\u001b[0m\u001b[0;34m.\u001b[0m\u001b[0mno_grad\u001b[0m\u001b[0;34m(\u001b[0m\u001b[0;34m)\u001b[0m\u001b[0;34m:\u001b[0m\u001b[0;34m\u001b[0m\u001b[0;34m\u001b[0m\u001b[0m\n",
      "\u001b[0;31mKeyboardInterrupt\u001b[0m: "
     ]
    }
   ],
   "source": [
    "lossDataBaseline, accDataBaseline, runtime = trainNN_randomized_hill_climbing(model, 0.01, 10, 2000)"
   ]
  },
  {
   "cell_type": "code",
   "execution_count": 39,
   "metadata": {},
   "outputs": [],
   "source": [
    "accDataBaseline = [[row[0], row[1], 'Baseline Accuracy'] for row in accDataBaseline]"
   ]
  },
  {
   "cell_type": "code",
   "execution_count": 40,
   "metadata": {},
   "outputs": [],
   "source": [
    "lossDataBaseline = pd.DataFrame.from_records(lossDataBaseline, columns=[\"Epoch\", \"Loss\", \"Stage\"])\n",
    "accDataBaseline = pd.DataFrame.from_records(accDataBaseline, columns=[\"Epoch\", \"Accuracy\", \"Stage\"])"
   ]
  },
  {
   "cell_type": "code",
   "execution_count": 41,
   "metadata": {},
   "outputs": [
    {
     "data": {
      "image/png": "[encoded data removed]",
      "image/svg+xml": "<?xml version=\"1.0\" encoding=\"utf-8\" standalone=\"no\"?>\n<!DOCTYPE svg PUBLIC \"-//W3C//DTD SVG 1.1//EN\"\n  \"http://www.w3.org/Graphics/SVG/1.1/DTD/svg11.dtd\">\n<!-- Created with matplotlib (https://matplotlib.org/) -->\n<svg height=\"280.963594pt\" version=\"1.1\" viewBox=\"0 0 407.315469 280.963594\" width=\"407.315469pt\" xmlns=\"http://www.w3.org/2000/svg\" xmlns:xlink=\"http://www.w3.org/1999/xlink\">\n <defs>\n  <style type=\"text/css\">\n*{stroke-linecap:butt;stroke-linejoin:round;white-space:pre;}\n  </style>\n </defs>\n <g id=\"figure_1\">\n  <g id=\"patch_1\">\n   <path d=\"M 0 280.963594 \nL 407.315469 280.963594 \nL 407.315469 0 \nL 0 0 \nz\n\" style=\"fill:#ffffff;\"/>\n  </g>\n  <g id=\"axes_1\">\n   <g id=\"patch_2\">\n    <path d=\"M 65.315469 239.229375 \nL 400.115469 239.229375 \nL 400.115469 21.789375 \nL 65.315469 21.789375 \nz\n\" style=\"fill:#eaeaf2;\"/>\n   </g>\n   <g id=\"matplotlib.axis_1\">\n    <g id=\"xtick_1\">\n     <g id=\"line2d_1\">\n      <path clip-path=\"url(#pbe175ab736)\" d=\"M 80.533651 239.229375 \nL 80.533651 21.789375 \n\" style=\"fill:none;stroke:#ffffff;stroke-linecap:round;\"/>\n     </g>\n     <g id=\"text_1\">\n      <!-- 0 -->\n      <defs>\n       <path d=\"M 4.15625 35.296875 \nQ 4.15625 48 6.765625 55.734375 \nQ 9.375 63.484375 14.515625 67.671875 \nQ 19.671875 71.875 27.484375 71.875 \nQ 33.25 71.875 37.59375 69.546875 \nQ 41.9375 67.234375 44.765625 62.859375 \nQ 47.609375 58.5 49.21875 52.21875 \nQ 50.828125 45.953125 50.828125 35.296875 \nQ 50.828125 22.703125 48.234375 14.96875 \nQ 45.65625 7.234375 40.5 3 \nQ 35.359375 -1.21875 27.484375 -1.21875 \nQ 17.140625 -1.21875 11.234375 6.203125 \nQ 4.15625 15.140625 4.15625 35.296875 \nz\nM 13.1875 35.296875 \nQ 13.1875 17.671875 17.3125 11.828125 \nQ 21.4375 6 27.484375 6 \nQ 33.546875 6 37.671875 11.859375 \nQ 41.796875 17.71875 41.796875 35.296875 \nQ 41.796875 52.984375 37.671875 58.78125 \nQ 33.546875 64.59375 27.390625 64.59375 \nQ 21.34375 64.59375 17.71875 59.46875 \nQ 13.1875 52.9375 13.1875 35.296875 \nz\n\" id=\"ArialMT-48\"/>\n      </defs>\n      <g style=\"fill:#262626;\" transform=\"translate(77.475135 256.602969)scale(0.11 -0.11)\">\n       <use xlink:href=\"#ArialMT-48\"/>\n      </g>\n     </g>\n    </g>\n    <g id=\"xtick_2\">\n     <g id=\"line2d_2\">\n      <path clip-path=\"url(#pbe175ab736)\" d=\"M 127.001381 239.229375 \nL 127.001381 21.789375 \n\" style=\"fill:none;stroke:#ffffff;stroke-linecap:round;\"/>\n     </g>\n     <g id=\"text_2\">\n      <!-- 20 -->\n      <defs>\n       <path d=\"M 50.34375 8.453125 \nL 50.34375 0 \nL 3.03125 0 \nQ 2.9375 3.171875 4.046875 6.109375 \nQ 5.859375 10.9375 9.828125 15.625 \nQ 13.8125 20.3125 21.34375 26.46875 \nQ 33.015625 36.03125 37.109375 41.625 \nQ 41.21875 47.21875 41.21875 52.203125 \nQ 41.21875 57.421875 37.46875 61 \nQ 33.734375 64.59375 27.734375 64.59375 \nQ 21.390625 64.59375 17.578125 60.78125 \nQ 13.765625 56.984375 13.71875 50.25 \nL 4.6875 51.171875 \nQ 5.609375 61.28125 11.65625 66.578125 \nQ 17.71875 71.875 27.9375 71.875 \nQ 38.234375 71.875 44.234375 66.15625 \nQ 50.25 60.453125 50.25 52 \nQ 50.25 47.703125 48.484375 43.546875 \nQ 46.734375 39.40625 42.65625 34.8125 \nQ 38.578125 30.21875 29.109375 22.21875 \nQ 21.1875 15.578125 18.9375 13.203125 \nQ 16.703125 10.84375 15.234375 8.453125 \nz\n\" id=\"ArialMT-50\"/>\n      </defs>\n      <g style=\"fill:#262626;\" transform=\"translate(120.88435 256.602969)scale(0.11 -0.11)\">\n       <use xlink:href=\"#ArialMT-50\"/>\n       <use x=\"55.615234\" xlink:href=\"#ArialMT-48\"/>\n      </g>\n     </g>\n    </g>\n    <g id=\"xtick_3\">\n     <g id=\"line2d_3\">\n      <path clip-path=\"url(#pbe175ab736)\" d=\"M 173.469112 239.229375 \nL 173.469112 21.789375 \n\" style=\"fill:none;stroke:#ffffff;stroke-linecap:round;\"/>\n     </g>\n     <g id=\"text_3\">\n      <!-- 40 -->\n      <defs>\n       <path d=\"M 32.328125 0 \nL 32.328125 17.140625 \nL 1.265625 17.140625 \nL 1.265625 25.203125 \nL 33.9375 71.578125 \nL 41.109375 71.578125 \nL 41.109375 25.203125 \nL 50.78125 25.203125 \nL 50.78125 17.140625 \nL 41.109375 17.140625 \nL 41.109375 0 \nz\nM 32.328125 25.203125 \nL 32.328125 57.46875 \nL 9.90625 25.203125 \nz\n\" id=\"ArialMT-52\"/>\n      </defs>\n      <g style=\"fill:#262626;\" transform=\"translate(167.352081 256.602969)scale(0.11 -0.11)\">\n       <use xlink:href=\"#ArialMT-52\"/>\n       <use x=\"55.615234\" xlink:href=\"#ArialMT-48\"/>\n      </g>\n     </g>\n    </g>\n    <g id=\"xtick_4\">\n     <g id=\"line2d_4\">\n      <path clip-path=\"url(#pbe175ab736)\" d=\"M 219.936843 239.229375 \nL 219.936843 21.789375 \n\" style=\"fill:none;stroke:#ffffff;stroke-linecap:round;\"/>\n     </g>\n     <g id=\"text_4\">\n      <!-- 60 -->\n      <defs>\n       <path d=\"M 49.75 54.046875 \nL 41.015625 53.375 \nQ 39.84375 58.546875 37.703125 60.890625 \nQ 34.125 64.65625 28.90625 64.65625 \nQ 24.703125 64.65625 21.53125 62.3125 \nQ 17.390625 59.28125 14.984375 53.46875 \nQ 12.59375 47.65625 12.5 36.921875 \nQ 15.671875 41.75 20.265625 44.09375 \nQ 24.859375 46.4375 29.890625 46.4375 \nQ 38.671875 46.4375 44.84375 39.96875 \nQ 51.03125 33.5 51.03125 23.25 \nQ 51.03125 16.5 48.125 10.71875 \nQ 45.21875 4.9375 40.140625 1.859375 \nQ 35.0625 -1.21875 28.609375 -1.21875 \nQ 17.625 -1.21875 10.6875 6.859375 \nQ 3.765625 14.9375 3.765625 33.5 \nQ 3.765625 54.25 11.421875 63.671875 \nQ 18.109375 71.875 29.4375 71.875 \nQ 37.890625 71.875 43.28125 67.140625 \nQ 48.6875 62.40625 49.75 54.046875 \nz\nM 13.875 23.1875 \nQ 13.875 18.65625 15.796875 14.5 \nQ 17.71875 10.359375 21.1875 8.171875 \nQ 24.65625 6 28.46875 6 \nQ 34.03125 6 38.03125 10.484375 \nQ 42.046875 14.984375 42.046875 22.703125 \nQ 42.046875 30.125 38.078125 34.390625 \nQ 34.125 38.671875 28.125 38.671875 \nQ 22.171875 38.671875 18.015625 34.390625 \nQ 13.875 30.125 13.875 23.1875 \nz\n\" id=\"ArialMT-54\"/>\n      </defs>\n      <g style=\"fill:#262626;\" transform=\"translate(213.819812 256.602969)scale(0.11 -0.11)\">\n       <use xlink:href=\"#ArialMT-54\"/>\n       <use x=\"55.615234\" xlink:href=\"#ArialMT-48\"/>\n      </g>\n     </g>\n    </g>\n    <g id=\"xtick_5\">\n     <g id=\"line2d_5\">\n      <path clip-path=\"url(#pbe175ab736)\" d=\"M 266.404574 239.229375 \nL 266.404574 21.789375 \n\" style=\"fill:none;stroke:#ffffff;stroke-linecap:round;\"/>\n     </g>\n     <g id=\"text_5\">\n      <!-- 80 -->\n      <defs>\n       <path d=\"M 17.671875 38.8125 \nQ 12.203125 40.828125 9.5625 44.53125 \nQ 6.9375 48.25 6.9375 53.421875 \nQ 6.9375 61.234375 12.546875 66.546875 \nQ 18.171875 71.875 27.484375 71.875 \nQ 36.859375 71.875 42.578125 66.421875 \nQ 48.296875 60.984375 48.296875 53.171875 \nQ 48.296875 48.1875 45.671875 44.5 \nQ 43.0625 40.828125 37.75 38.8125 \nQ 44.34375 36.671875 47.78125 31.875 \nQ 51.21875 27.09375 51.21875 20.453125 \nQ 51.21875 11.28125 44.71875 5.03125 \nQ 38.234375 -1.21875 27.640625 -1.21875 \nQ 17.046875 -1.21875 10.546875 5.046875 \nQ 4.046875 11.328125 4.046875 20.703125 \nQ 4.046875 27.6875 7.59375 32.390625 \nQ 11.140625 37.109375 17.671875 38.8125 \nz\nM 15.921875 53.71875 \nQ 15.921875 48.640625 19.1875 45.40625 \nQ 22.46875 42.1875 27.6875 42.1875 \nQ 32.765625 42.1875 36.015625 45.375 \nQ 39.265625 48.578125 39.265625 53.21875 \nQ 39.265625 58.0625 35.90625 61.359375 \nQ 32.5625 64.65625 27.59375 64.65625 \nQ 22.5625 64.65625 19.234375 61.421875 \nQ 15.921875 58.203125 15.921875 53.71875 \nz\nM 13.09375 20.65625 \nQ 13.09375 16.890625 14.875 13.375 \nQ 16.65625 9.859375 20.171875 7.921875 \nQ 23.6875 6 27.734375 6 \nQ 34.03125 6 38.125 10.046875 \nQ 42.234375 14.109375 42.234375 20.359375 \nQ 42.234375 26.703125 38.015625 30.859375 \nQ 33.796875 35.015625 27.4375 35.015625 \nQ 21.234375 35.015625 17.15625 30.90625 \nQ 13.09375 26.8125 13.09375 20.65625 \nz\n\" id=\"ArialMT-56\"/>\n      </defs>\n      <g style=\"fill:#262626;\" transform=\"translate(260.287542 256.602969)scale(0.11 -0.11)\">\n       <use xlink:href=\"#ArialMT-56\"/>\n       <use x=\"55.615234\" xlink:href=\"#ArialMT-48\"/>\n      </g>\n     </g>\n    </g>\n    <g id=\"xtick_6\">\n     <g id=\"line2d_6\">\n      <path clip-path=\"url(#pbe175ab736)\" d=\"M 312.872304 239.229375 \nL 312.872304 21.789375 \n\" style=\"fill:none;stroke:#ffffff;stroke-linecap:round;\"/>\n     </g>\n     <g id=\"text_6\">\n      <!-- 100 -->\n      <defs>\n       <path d=\"M 37.25 0 \nL 28.46875 0 \nL 28.46875 56 \nQ 25.296875 52.984375 20.140625 49.953125 \nQ 14.984375 46.921875 10.890625 45.40625 \nL 10.890625 53.90625 \nQ 18.265625 57.375 23.78125 62.296875 \nQ 29.296875 67.234375 31.59375 71.875 \nL 37.25 71.875 \nz\n\" id=\"ArialMT-49\"/>\n      </defs>\n      <g style=\"fill:#262626;\" transform=\"translate(303.696757 256.602969)scale(0.11 -0.11)\">\n       <use xlink:href=\"#ArialMT-49\"/>\n       <use x=\"55.615234\" xlink:href=\"#ArialMT-48\"/>\n       <use x=\"111.230469\" xlink:href=\"#ArialMT-48\"/>\n      </g>\n     </g>\n    </g>\n    <g id=\"xtick_7\">\n     <g id=\"line2d_7\">\n      <path clip-path=\"url(#pbe175ab736)\" d=\"M 359.340035 239.229375 \nL 359.340035 21.789375 \n\" style=\"fill:none;stroke:#ffffff;stroke-linecap:round;\"/>\n     </g>\n     <g id=\"text_7\">\n      <!-- 120 -->\n      <g style=\"fill:#262626;\" transform=\"translate(350.164488 256.602969)scale(0.11 -0.11)\">\n       <use xlink:href=\"#ArialMT-49\"/>\n       <use x=\"55.615234\" xlink:href=\"#ArialMT-50\"/>\n       <use x=\"111.230469\" xlink:href=\"#ArialMT-48\"/>\n      </g>\n     </g>\n    </g>\n    <g id=\"text_8\">\n     <!-- Epoch -->\n     <defs>\n      <path d=\"M 7.90625 0 \nL 7.90625 71.578125 \nL 59.671875 71.578125 \nL 59.671875 63.140625 \nL 17.390625 63.140625 \nL 17.390625 41.21875 \nL 56.984375 41.21875 \nL 56.984375 32.8125 \nL 17.390625 32.8125 \nL 17.390625 8.453125 \nL 61.328125 8.453125 \nL 61.328125 0 \nz\n\" id=\"ArialMT-69\"/>\n      <path d=\"M 6.59375 -19.875 \nL 6.59375 51.859375 \nL 14.59375 51.859375 \nL 14.59375 45.125 \nQ 17.4375 49.078125 21 51.046875 \nQ 24.5625 53.03125 29.640625 53.03125 \nQ 36.28125 53.03125 41.359375 49.609375 \nQ 46.4375 46.1875 49.015625 39.953125 \nQ 51.609375 33.734375 51.609375 26.3125 \nQ 51.609375 18.359375 48.75 11.984375 \nQ 45.90625 5.609375 40.453125 2.21875 \nQ 35.015625 -1.171875 29 -1.171875 \nQ 24.609375 -1.171875 21.109375 0.6875 \nQ 17.625 2.546875 15.375 5.375 \nL 15.375 -19.875 \nz\nM 14.546875 25.640625 \nQ 14.546875 15.625 18.59375 10.84375 \nQ 22.65625 6.0625 28.421875 6.0625 \nQ 34.28125 6.0625 38.453125 11.015625 \nQ 42.625 15.96875 42.625 26.375 \nQ 42.625 36.28125 38.546875 41.203125 \nQ 34.46875 46.140625 28.8125 46.140625 \nQ 23.1875 46.140625 18.859375 40.890625 \nQ 14.546875 35.640625 14.546875 25.640625 \nz\n\" id=\"ArialMT-112\"/>\n      <path d=\"M 3.328125 25.921875 \nQ 3.328125 40.328125 11.328125 47.265625 \nQ 18.015625 53.03125 27.640625 53.03125 \nQ 38.328125 53.03125 45.109375 46.015625 \nQ 51.90625 39.015625 51.90625 26.65625 \nQ 51.90625 16.65625 48.90625 10.90625 \nQ 45.90625 5.171875 40.15625 2 \nQ 34.421875 -1.171875 27.640625 -1.171875 \nQ 16.75 -1.171875 10.03125 5.8125 \nQ 3.328125 12.796875 3.328125 25.921875 \nz\nM 12.359375 25.921875 \nQ 12.359375 15.96875 16.703125 11.015625 \nQ 21.046875 6.0625 27.640625 6.0625 \nQ 34.1875 6.0625 38.53125 11.03125 \nQ 42.875 16.015625 42.875 26.21875 \nQ 42.875 35.84375 38.5 40.796875 \nQ 34.125 45.75 27.640625 45.75 \nQ 21.046875 45.75 16.703125 40.8125 \nQ 12.359375 35.890625 12.359375 25.921875 \nz\n\" id=\"ArialMT-111\"/>\n      <path d=\"M 40.4375 19 \nL 49.078125 17.875 \nQ 47.65625 8.9375 41.8125 3.875 \nQ 35.984375 -1.171875 27.484375 -1.171875 \nQ 16.84375 -1.171875 10.375 5.78125 \nQ 3.90625 12.75 3.90625 25.734375 \nQ 3.90625 34.125 6.6875 40.421875 \nQ 9.46875 46.734375 15.15625 49.875 \nQ 20.84375 53.03125 27.546875 53.03125 \nQ 35.984375 53.03125 41.359375 48.75 \nQ 46.734375 44.484375 48.25 36.625 \nL 39.703125 35.296875 \nQ 38.484375 40.53125 35.375 43.15625 \nQ 32.28125 45.796875 27.875 45.796875 \nQ 21.234375 45.796875 17.078125 41.03125 \nQ 12.9375 36.28125 12.9375 25.984375 \nQ 12.9375 15.53125 16.9375 10.796875 \nQ 20.953125 6.0625 27.390625 6.0625 \nQ 32.5625 6.0625 36.03125 9.234375 \nQ 39.5 12.40625 40.4375 19 \nz\n\" id=\"ArialMT-99\"/>\n      <path d=\"M 6.59375 0 \nL 6.59375 71.578125 \nL 15.375 71.578125 \nL 15.375 45.90625 \nQ 21.53125 53.03125 30.90625 53.03125 \nQ 36.671875 53.03125 40.921875 50.75 \nQ 45.171875 48.484375 47 44.484375 \nQ 48.828125 40.484375 48.828125 32.859375 \nL 48.828125 0 \nL 40.046875 0 \nL 40.046875 32.859375 \nQ 40.046875 39.453125 37.1875 42.453125 \nQ 34.328125 45.453125 29.109375 45.453125 \nQ 25.203125 45.453125 21.75 43.421875 \nQ 18.3125 41.40625 16.84375 37.9375 \nQ 15.375 34.46875 15.375 28.375 \nL 15.375 0 \nz\n\" id=\"ArialMT-104\"/>\n     </defs>\n     <g style=\"fill:#262626;\" transform=\"translate(215.703594 271.378594)scale(0.12 -0.12)\">\n      <use xlink:href=\"#ArialMT-69\"/>\n      <use x=\"66.699219\" xlink:href=\"#ArialMT-112\"/>\n      <use x=\"122.314453\" xlink:href=\"#ArialMT-111\"/>\n      <use x=\"177.929688\" xlink:href=\"#ArialMT-99\"/>\n      <use x=\"227.929688\" xlink:href=\"#ArialMT-104\"/>\n     </g>\n    </g>\n   </g>\n   <g id=\"matplotlib.axis_2\">\n    <g id=\"ytick_1\">\n     <g id=\"line2d_8\">\n      <path clip-path=\"url(#pbe175ab736)\" d=\"M 65.315469 224.873361 \nL 400.115469 224.873361 \n\" style=\"fill:none;stroke:#ffffff;stroke-linecap:round;\"/>\n     </g>\n     <g id=\"text_9\">\n      <!-- 2.3000 -->\n      <defs>\n       <path d=\"M 9.078125 0 \nL 9.078125 10.015625 \nL 19.09375 10.015625 \nL 19.09375 0 \nz\n\" id=\"ArialMT-46\"/>\n       <path d=\"M 4.203125 18.890625 \nL 12.984375 20.0625 \nQ 14.5 12.59375 18.140625 9.296875 \nQ 21.78125 6 27 6 \nQ 33.203125 6 37.46875 10.296875 \nQ 41.75 14.59375 41.75 20.953125 \nQ 41.75 27 37.796875 30.921875 \nQ 33.84375 34.859375 27.734375 34.859375 \nQ 25.25 34.859375 21.53125 33.890625 \nL 22.515625 41.609375 \nQ 23.390625 41.5 23.921875 41.5 \nQ 29.546875 41.5 34.03125 44.421875 \nQ 38.53125 47.359375 38.53125 53.46875 \nQ 38.53125 58.296875 35.25 61.46875 \nQ 31.984375 64.65625 26.8125 64.65625 \nQ 21.6875 64.65625 18.265625 61.421875 \nQ 14.84375 58.203125 13.875 51.765625 \nL 5.078125 53.328125 \nQ 6.6875 62.15625 12.390625 67.015625 \nQ 18.109375 71.875 26.609375 71.875 \nQ 32.46875 71.875 37.390625 69.359375 \nQ 42.328125 66.84375 44.9375 62.5 \nQ 47.5625 58.15625 47.5625 53.265625 \nQ 47.5625 48.640625 45.0625 44.828125 \nQ 42.578125 41.015625 37.703125 38.765625 \nQ 44.046875 37.3125 47.5625 32.6875 \nQ 51.078125 28.078125 51.078125 21.140625 \nQ 51.078125 11.765625 44.234375 5.25 \nQ 37.40625 -1.265625 26.953125 -1.265625 \nQ 17.53125 -1.265625 11.296875 4.34375 \nQ 5.078125 9.96875 4.203125 18.890625 \nz\n\" id=\"ArialMT-51\"/>\n      </defs>\n      <g style=\"fill:#262626;\" transform=\"translate(22.174375 228.810158)scale(0.11 -0.11)\">\n       <use xlink:href=\"#ArialMT-50\"/>\n       <use x=\"55.615234\" xlink:href=\"#ArialMT-46\"/>\n       <use x=\"83.398438\" xlink:href=\"#ArialMT-51\"/>\n       <use x=\"139.013672\" xlink:href=\"#ArialMT-48\"/>\n       <use x=\"194.628906\" xlink:href=\"#ArialMT-48\"/>\n       <use x=\"250.244141\" xlink:href=\"#ArialMT-48\"/>\n      </g>\n     </g>\n    </g>\n    <g id=\"ytick_2\">\n     <g id=\"line2d_9\">\n      <path clip-path=\"url(#pbe175ab736)\" d=\"M 65.315469 198.853321 \nL 400.115469 198.853321 \n\" style=\"fill:none;stroke:#ffffff;stroke-linecap:round;\"/>\n     </g>\n     <g id=\"text_10\">\n      <!-- 2.3025 -->\n      <defs>\n       <path d=\"M 4.15625 18.75 \nL 13.375 19.53125 \nQ 14.40625 12.796875 18.140625 9.390625 \nQ 21.875 6 27.15625 6 \nQ 33.5 6 37.890625 10.78125 \nQ 42.28125 15.578125 42.28125 23.484375 \nQ 42.28125 31 38.0625 35.34375 \nQ 33.84375 39.703125 27 39.703125 \nQ 22.75 39.703125 19.328125 37.765625 \nQ 15.921875 35.84375 13.96875 32.765625 \nL 5.71875 33.84375 \nL 12.640625 70.609375 \nL 48.25 70.609375 \nL 48.25 62.203125 \nL 19.671875 62.203125 \nL 15.828125 42.96875 \nQ 22.265625 47.46875 29.34375 47.46875 \nQ 38.71875 47.46875 45.15625 40.96875 \nQ 51.609375 34.46875 51.609375 24.265625 \nQ 51.609375 14.546875 45.953125 7.46875 \nQ 39.0625 -1.21875 27.15625 -1.21875 \nQ 17.390625 -1.21875 11.203125 4.25 \nQ 5.03125 9.71875 4.15625 18.75 \nz\n\" id=\"ArialMT-53\"/>\n      </defs>\n      <g style=\"fill:#262626;\" transform=\"translate(22.174375 202.790118)scale(0.11 -0.11)\">\n       <use xlink:href=\"#ArialMT-50\"/>\n       <use x=\"55.615234\" xlink:href=\"#ArialMT-46\"/>\n       <use x=\"83.398438\" xlink:href=\"#ArialMT-51\"/>\n       <use x=\"139.013672\" xlink:href=\"#ArialMT-48\"/>\n       <use x=\"194.628906\" xlink:href=\"#ArialMT-50\"/>\n       <use x=\"250.244141\" xlink:href=\"#ArialMT-53\"/>\n      </g>\n     </g>\n    </g>\n    <g id=\"ytick_3\">\n     <g id=\"line2d_10\">\n      <path clip-path=\"url(#pbe175ab736)\" d=\"M 65.315469 172.833282 \nL 400.115469 172.833282 \n\" style=\"fill:none;stroke:#ffffff;stroke-linecap:round;\"/>\n     </g>\n     <g id=\"text_11\">\n      <!-- 2.3050 -->\n      <g style=\"fill:#262626;\" transform=\"translate(22.174375 176.770079)scale(0.11 -0.11)\">\n       <use xlink:href=\"#ArialMT-50\"/>\n       <use x=\"55.615234\" xlink:href=\"#ArialMT-46\"/>\n       <use x=\"83.398438\" xlink:href=\"#ArialMT-51\"/>\n       <use x=\"139.013672\" xlink:href=\"#ArialMT-48\"/>\n       <use x=\"194.628906\" xlink:href=\"#ArialMT-53\"/>\n       <use x=\"250.244141\" xlink:href=\"#ArialMT-48\"/>\n      </g>\n     </g>\n    </g>\n    <g id=\"ytick_4\">\n     <g id=\"line2d_11\">\n      <path clip-path=\"url(#pbe175ab736)\" d=\"M 65.315469 146.813242 \nL 400.115469 146.813242 \n\" style=\"fill:none;stroke:#ffffff;stroke-linecap:round;\"/>\n     </g>\n     <g id=\"text_12\">\n      <!-- 2.3075 -->\n      <defs>\n       <path d=\"M 4.734375 62.203125 \nL 4.734375 70.65625 \nL 51.078125 70.65625 \nL 51.078125 63.8125 \nQ 44.234375 56.546875 37.515625 44.484375 \nQ 30.8125 32.421875 27.15625 19.671875 \nQ 24.515625 10.6875 23.78125 0 \nL 14.75 0 \nQ 14.890625 8.453125 18.0625 20.40625 \nQ 21.234375 32.375 27.171875 43.484375 \nQ 33.109375 54.59375 39.796875 62.203125 \nz\n\" id=\"ArialMT-55\"/>\n      </defs>\n      <g style=\"fill:#262626;\" transform=\"translate(22.174375 150.750039)scale(0.11 -0.11)\">\n       <use xlink:href=\"#ArialMT-50\"/>\n       <use x=\"55.615234\" xlink:href=\"#ArialMT-46\"/>\n       <use x=\"83.398438\" xlink:href=\"#ArialMT-51\"/>\n       <use x=\"139.013672\" xlink:href=\"#ArialMT-48\"/>\n       <use x=\"194.628906\" xlink:href=\"#ArialMT-55\"/>\n       <use x=\"250.244141\" xlink:href=\"#ArialMT-53\"/>\n      </g>\n     </g>\n    </g>\n    <g id=\"ytick_5\">\n     <g id=\"line2d_12\">\n      <path clip-path=\"url(#pbe175ab736)\" d=\"M 65.315469 120.793203 \nL 400.115469 120.793203 \n\" style=\"fill:none;stroke:#ffffff;stroke-linecap:round;\"/>\n     </g>\n     <g id=\"text_13\">\n      <!-- 2.3100 -->\n      <g style=\"fill:#262626;\" transform=\"translate(22.174375 124.729999)scale(0.11 -0.11)\">\n       <use xlink:href=\"#ArialMT-50\"/>\n       <use x=\"55.615234\" xlink:href=\"#ArialMT-46\"/>\n       <use x=\"83.398438\" xlink:href=\"#ArialMT-51\"/>\n       <use x=\"139.013672\" xlink:href=\"#ArialMT-49\"/>\n       <use x=\"194.628906\" xlink:href=\"#ArialMT-48\"/>\n       <use x=\"250.244141\" xlink:href=\"#ArialMT-48\"/>\n      </g>\n     </g>\n    </g>\n    <g id=\"ytick_6\">\n     <g id=\"line2d_13\">\n      <path clip-path=\"url(#pbe175ab736)\" d=\"M 65.315469 94.773163 \nL 400.115469 94.773163 \n\" style=\"fill:none;stroke:#ffffff;stroke-linecap:round;\"/>\n     </g>\n     <g id=\"text_14\">\n      <!-- 2.3125 -->\n      <g style=\"fill:#262626;\" transform=\"translate(22.174375 98.70996)scale(0.11 -0.11)\">\n       <use xlink:href=\"#ArialMT-50\"/>\n       <use x=\"55.615234\" xlink:href=\"#ArialMT-46\"/>\n       <use x=\"83.398438\" xlink:href=\"#ArialMT-51\"/>\n       <use x=\"139.013672\" xlink:href=\"#ArialMT-49\"/>\n       <use x=\"194.628906\" xlink:href=\"#ArialMT-50\"/>\n       <use x=\"250.244141\" xlink:href=\"#ArialMT-53\"/>\n      </g>\n     </g>\n    </g>\n    <g id=\"ytick_7\">\n     <g id=\"line2d_14\">\n      <path clip-path=\"url(#pbe175ab736)\" d=\"M 65.315469 68.753123 \nL 400.115469 68.753123 \n\" style=\"fill:none;stroke:#ffffff;stroke-linecap:round;\"/>\n     </g>\n     <g id=\"text_15\">\n      <!-- 2.3150 -->\n      <g style=\"fill:#262626;\" transform=\"translate(22.174375 72.68992)scale(0.11 -0.11)\">\n       <use xlink:href=\"#ArialMT-50\"/>\n       <use x=\"55.615234\" xlink:href=\"#ArialMT-46\"/>\n       <use x=\"83.398438\" xlink:href=\"#ArialMT-51\"/>\n       <use x=\"139.013672\" xlink:href=\"#ArialMT-49\"/>\n       <use x=\"194.628906\" xlink:href=\"#ArialMT-53\"/>\n       <use x=\"250.244141\" xlink:href=\"#ArialMT-48\"/>\n      </g>\n     </g>\n    </g>\n    <g id=\"ytick_8\">\n     <g id=\"line2d_15\">\n      <path clip-path=\"url(#pbe175ab736)\" d=\"M 65.315469 42.733084 \nL 400.115469 42.733084 \n\" style=\"fill:none;stroke:#ffffff;stroke-linecap:round;\"/>\n     </g>\n     <g id=\"text_16\">\n      <!-- 2.3175 -->\n      <g style=\"fill:#262626;\" transform=\"translate(22.174375 46.669881)scale(0.11 -0.11)\">\n       <use xlink:href=\"#ArialMT-50\"/>\n       <use x=\"55.615234\" xlink:href=\"#ArialMT-46\"/>\n       <use x=\"83.398438\" xlink:href=\"#ArialMT-51\"/>\n       <use x=\"139.013672\" xlink:href=\"#ArialMT-49\"/>\n       <use x=\"194.628906\" xlink:href=\"#ArialMT-55\"/>\n       <use x=\"250.244141\" xlink:href=\"#ArialMT-53\"/>\n      </g>\n     </g>\n    </g>\n    <g id=\"text_17\">\n     <!-- Loss -->\n     <defs>\n      <path d=\"M 7.328125 0 \nL 7.328125 71.578125 \nL 16.796875 71.578125 \nL 16.796875 8.453125 \nL 52.046875 8.453125 \nL 52.046875 0 \nz\n\" id=\"ArialMT-76\"/>\n      <path d=\"M 3.078125 15.484375 \nL 11.765625 16.84375 \nQ 12.5 11.625 15.84375 8.84375 \nQ 19.1875 6.0625 25.203125 6.0625 \nQ 31.25 6.0625 34.171875 8.515625 \nQ 37.109375 10.984375 37.109375 14.3125 \nQ 37.109375 17.28125 34.515625 19 \nQ 32.71875 20.171875 25.53125 21.96875 \nQ 15.875 24.421875 12.140625 26.203125 \nQ 8.40625 27.984375 6.46875 31.125 \nQ 4.546875 34.28125 4.546875 38.09375 \nQ 4.546875 41.546875 6.125 44.5 \nQ 7.71875 47.46875 10.453125 49.421875 \nQ 12.5 50.921875 16.03125 51.96875 \nQ 19.578125 53.03125 23.640625 53.03125 \nQ 29.734375 53.03125 34.34375 51.265625 \nQ 38.96875 49.515625 41.15625 46.5 \nQ 43.359375 43.5 44.1875 38.484375 \nL 35.59375 37.3125 \nQ 35.015625 41.3125 32.203125 43.546875 \nQ 29.390625 45.796875 24.265625 45.796875 \nQ 18.21875 45.796875 15.625 43.796875 \nQ 13.03125 41.796875 13.03125 39.109375 \nQ 13.03125 37.40625 14.109375 36.03125 \nQ 15.1875 34.625 17.484375 33.6875 \nQ 18.796875 33.203125 25.25 31.453125 \nQ 34.578125 28.953125 38.25 27.359375 \nQ 41.9375 25.78125 44.03125 22.75 \nQ 46.140625 19.734375 46.140625 15.234375 \nQ 46.140625 10.84375 43.578125 6.953125 \nQ 41.015625 3.078125 36.171875 0.953125 \nQ 31.34375 -1.171875 25.25 -1.171875 \nQ 15.140625 -1.171875 9.84375 3.03125 \nQ 4.546875 7.234375 3.078125 15.484375 \nz\n\" id=\"ArialMT-115\"/>\n     </defs>\n     <g style=\"fill:#262626;\" transform=\"translate(15.789375 143.1825)rotate(-90)scale(0.12 -0.12)\">\n      <use xlink:href=\"#ArialMT-76\"/>\n      <use x=\"55.615234\" xlink:href=\"#ArialMT-111\"/>\n      <use x=\"111.230469\" xlink:href=\"#ArialMT-115\"/>\n      <use x=\"161.230469\" xlink:href=\"#ArialMT-115\"/>\n     </g>\n    </g>\n   </g>\n   <g id=\"line2d_16\">\n    <path clip-path=\"url(#pbe175ab736)\" d=\"M 80.533651 137.672467 \nL 82.857037 81.481121 \nL 85.180424 63.559357 \nL 87.50381 85.29444 \nL 89.827197 60.38792 \nL 92.150583 107.680767 \nL 94.47397 100.728646 \nL 96.797356 86.27308 \nL 99.120743 122.389286 \nL 101.444129 99.728836 \nL 106.090902 86.20919 \nL 108.414289 86.281686 \nL 110.737676 116.747504 \nL 113.061062 141.567864 \nL 115.384449 106.78744 \nL 117.707835 105.998208 \nL 120.031222 115.822797 \nL 122.354608 80.464977 \nL 124.677995 109.517176 \nL 127.001381 107.362982 \nL 129.324768 136.711261 \nL 131.648154 111.449546 \nL 133.971541 90.569751 \nL 136.294927 84.22672 \nL 138.618314 99.374049 \nL 140.941701 120.361992 \nL 143.265087 132.955486 \nL 145.588474 103.384033 \nL 147.91186 75.427698 \nL 150.235247 90.497506 \nL 152.558633 92.129398 \nL 154.88202 64.856629 \nL 157.205406 120.50086 \nL 159.528793 122.842168 \nL 161.852179 117.464301 \nL 164.175566 111.359176 \nL 166.498952 142.639479 \nL 168.822339 130.419367 \nL 171.145726 88.288908 \nL 173.469112 86.660345 \nL 175.792499 70.804542 \nL 178.115885 116.083853 \nL 180.439272 131.712587 \nL 182.762658 102.157121 \nL 185.086045 124.302589 \nL 187.409431 126.874454 \nL 189.732818 110.403373 \nL 192.056204 84.551446 \nL 194.379591 90.493202 \nL 199.026364 124.52347 \nL 201.34975 142.170577 \nL 203.673137 92.863095 \nL 205.996524 69.970236 \nL 208.31991 131.65523 \nL 210.643297 97.271338 \nL 212.966683 108.906139 \nL 215.29007 81.400929 \nL 217.613456 113.984283 \nL 219.936843 68.081213 \nL 222.260229 61.928878 \nL 224.583616 126.524881 \nL 226.907002 90.015536 \nL 229.230389 98.962911 \nL 231.553775 87.699482 \nL 233.877162 65.535388 \nL 236.200549 112.963302 \nL 238.523935 93.354017 \nL 240.847322 65.0608 \nL 243.170708 132.286496 \nL 245.494095 93.690522 \nL 247.817481 122.083092 \nL 250.140868 98.068611 \nL 252.464254 124.108501 \nL 254.787641 139.177837 \nL 257.111027 116.161501 \nL 259.434414 107.882394 \nL 261.7578 128.470412 \nL 264.081187 31.673011 \nL 266.404574 41.714304 \nL 268.72796 71.717784 \nL 271.051347 116.787615 \nL 273.374733 119.340257 \nL 275.69812 132.353904 \nL 278.021506 148.852344 \nL 280.344893 109.427623 \nL 282.668279 110.173068 \nL 284.991666 162.320224 \nL 287.315052 82.463372 \nL 289.638439 72.679335 \nL 291.961825 160.027037 \nL 294.285212 125.559372 \nL 296.608599 101.551958 \nL 298.931985 137.987488 \nL 301.255372 85.5086 \nL 303.578758 137.062373 \nL 305.902145 102.061349 \nL 308.225531 151.771111 \nL 310.548918 99.484207 \nL 312.872304 121.270082 \nL 315.195691 114.849874 \nL 317.519077 127.531539 \nL 319.842464 130.162174 \nL 322.16585 97.862084 \nL 324.489237 79.685232 \nL 326.812624 180.444714 \nL 329.13601 196.384259 \nL 331.459397 200.596247 \nL 333.782783 203.956903 \nL 336.10617 189.805677 \nL 338.429556 172.090409 \nL 340.752943 157.621744 \nL 343.076329 181.9471 \nL 345.399716 185.999268 \nL 347.723102 196.048539 \nL 350.046489 150.83183 \nL 352.369875 183.731744 \nL 354.693262 200.56738 \nL 357.016648 197.423647 \nL 359.340035 126.222488 \nL 361.663422 173.056264 \nL 363.986808 171.511506 \nL 366.310195 219.931754 \nL 368.633581 222.635074 \nL 370.956968 218.89001 \nL 373.280354 198.837956 \nL 375.603741 132.932902 \nL 377.927127 134.164211 \nL 380.250514 174.608185 \nL 382.5739 207.181331 \nL 384.897287 187.835458 \nL 384.897287 187.835458 \n\" style=\"fill:none;stroke:#4c72b0;stroke-linecap:round;stroke-width:1.5;\"/>\n   </g>\n   <g id=\"line2d_17\">\n    <path clip-path=\"url(#pbe175ab736)\" d=\"M 80.533651 151.378506 \nL 82.857037 115.65123 \nL 85.180424 124.801363 \nL 87.50381 106.380637 \nL 89.827197 124.82467 \nL 92.150583 114.014846 \nL 94.47397 124.93954 \nL 96.797356 84.750811 \nL 99.120743 130.108995 \nL 101.444129 104.790709 \nL 103.767516 117.196209 \nL 106.090902 137.975552 \nL 108.414289 96.903987 \nL 110.737676 113.82616 \nL 113.061062 92.525176 \nL 115.384449 104.545861 \nL 117.707835 69.678585 \nL 120.031222 114.980387 \nL 122.354608 72.488702 \nL 124.677995 134.423445 \nL 127.001381 131.755211 \nL 129.324768 106.218022 \nL 131.648154 131.314265 \nL 133.971541 162.264533 \nL 136.294927 129.404291 \nL 138.618314 117.225013 \nL 140.941701 112.926834 \nL 143.265087 68.664514 \nL 145.588474 141.995398 \nL 147.91186 109.172504 \nL 150.235247 107.865714 \nL 152.558633 110.60946 \nL 154.88202 143.863784 \nL 157.205406 114.082379 \nL 159.528793 100.533961 \nL 161.852179 94.396169 \nL 164.175566 94.238957 \nL 166.498952 93.661875 \nL 168.822339 78.463597 \nL 171.145726 129.737781 \nL 173.469112 136.896554 \nL 175.792499 88.209376 \nL 178.115885 103.624452 \nL 180.439272 120.232485 \nL 182.762658 143.23679 \nL 185.086045 164.037963 \nL 187.409431 134.169425 \nL 189.732818 133.906987 \nL 192.056204 109.803393 \nL 194.379591 123.135044 \nL 196.702977 168.628766 \nL 199.026364 134.892725 \nL 201.34975 82.387075 \nL 203.673137 108.832889 \nL 205.996524 140.282717 \nL 208.31991 97.361833 \nL 210.643297 152.504996 \nL 212.966683 60.030495 \nL 215.29007 141.909458 \nL 217.613456 131.21843 \nL 219.936843 94.245271 \nL 222.260229 102.208949 \nL 224.583616 55.541809 \nL 226.907002 105.128439 \nL 229.230389 124.230563 \nL 231.553775 141.347202 \nL 233.877162 60.592814 \nL 236.200549 106.896687 \nL 238.523935 113.68723 \nL 240.847322 87.53426 \nL 243.170708 49.995956 \nL 245.494095 110.641876 \nL 247.817481 56.890155 \nL 250.140868 88.300342 \nL 252.464254 140.000269 \nL 254.787641 108.544819 \nL 257.111027 156.267305 \nL 259.434414 142.032118 \nL 261.7578 107.3872 \nL 264.081187 111.553045 \nL 266.404574 98.248313 \nL 268.72796 120.071975 \nL 271.051347 106.234639 \nL 273.374733 154.87514 \nL 275.69812 112.186007 \nL 278.021506 131.110062 \nL 280.344893 131.578933 \nL 282.668279 121.024731 \nL 284.991666 139.822107 \nL 287.315052 117.382601 \nL 291.961825 121.611079 \nL 294.285212 111.569316 \nL 296.608599 84.28684 \nL 298.931985 101.543006 \nL 301.255372 122.000952 \nL 303.578758 127.039298 \nL 305.902145 113.061681 \nL 308.225531 168.325871 \nL 310.548918 105.220379 \nL 312.872304 130.685323 \nL 315.195691 90.634583 \nL 317.519077 117.803477 \nL 319.842464 157.925897 \nL 322.16585 170.143057 \nL 324.489237 211.773704 \nL 326.812624 209.825723 \nL 329.13601 200.716174 \nL 331.459397 204.892038 \nL 333.782783 224.857021 \nL 336.10617 172.099958 \nL 338.429556 187.626952 \nL 340.752943 186.739561 \nL 343.076329 197.489642 \nL 345.399716 209.412418 \nL 347.723102 189.457299 \nL 350.046489 184.796009 \nL 352.369875 199.024349 \nL 354.693262 179.130198 \nL 357.016648 129.512407 \nL 359.340035 173.692273 \nL 361.663422 187.765694 \nL 363.986808 222.741745 \nL 366.310195 218.050207 \nL 368.633581 229.345739 \nL 370.956968 209.682898 \nL 373.280354 133.051038 \nL 375.603741 149.84471 \nL 377.927127 179.984638 \nL 380.250514 202.529119 \nL 384.897287 174.317508 \nL 384.897287 174.317508 \n\" style=\"fill:none;stroke:#dd8452;stroke-linecap:round;stroke-width:1.5;\"/>\n   </g>\n   <g id=\"line2d_18\"/>\n   <g id=\"line2d_19\"/>\n   <g id=\"line2d_20\"/>\n   <g id=\"patch_3\">\n    <path d=\"M 65.315469 239.229375 \nL 65.315469 21.789375 \n\" style=\"fill:none;stroke:#ffffff;stroke-linecap:square;stroke-linejoin:miter;stroke-width:1.25;\"/>\n   </g>\n   <g id=\"patch_4\">\n    <path d=\"M 400.115469 239.229375 \nL 400.115469 21.789375 \n\" style=\"fill:none;stroke:#ffffff;stroke-linecap:square;stroke-linejoin:miter;stroke-width:1.25;\"/>\n   </g>\n   <g id=\"patch_5\">\n    <path d=\"M 65.315469 239.229375 \nL 400.115469 239.229375 \n\" style=\"fill:none;stroke:#ffffff;stroke-linecap:square;stroke-linejoin:miter;stroke-width:1.25;\"/>\n   </g>\n   <g id=\"patch_6\">\n    <path d=\"M 65.315469 21.789375 \nL 400.115469 21.789375 \n\" style=\"fill:none;stroke:#ffffff;stroke-linecap:square;stroke-linejoin:miter;stroke-width:1.25;\"/>\n   </g>\n   <g id=\"text_18\">\n    <!-- Baseline NN -->\n    <defs>\n     <path d=\"M 7.328125 0 \nL 7.328125 71.578125 \nL 34.1875 71.578125 \nQ 42.390625 71.578125 47.34375 69.40625 \nQ 52.296875 67.234375 55.09375 62.71875 \nQ 57.90625 58.203125 57.90625 53.265625 \nQ 57.90625 48.6875 55.421875 44.625 \nQ 52.9375 40.578125 47.90625 38.09375 \nQ 54.390625 36.1875 57.875 31.59375 \nQ 61.375 27 61.375 20.75 \nQ 61.375 15.71875 59.25 11.390625 \nQ 57.125 7.078125 54 4.734375 \nQ 50.875 2.390625 46.15625 1.1875 \nQ 41.453125 0 34.625 0 \nz\nM 16.796875 41.5 \nL 32.28125 41.5 \nQ 38.578125 41.5 41.3125 42.328125 \nQ 44.921875 43.40625 46.75 45.890625 \nQ 48.578125 48.390625 48.578125 52.15625 \nQ 48.578125 55.71875 46.875 58.421875 \nQ 45.171875 61.140625 41.984375 62.140625 \nQ 38.8125 63.140625 31.109375 63.140625 \nL 16.796875 63.140625 \nz\nM 16.796875 8.453125 \nL 34.625 8.453125 \nQ 39.203125 8.453125 41.0625 8.796875 \nQ 44.34375 9.375 46.53125 10.734375 \nQ 48.734375 12.109375 50.140625 14.71875 \nQ 51.5625 17.328125 51.5625 20.75 \nQ 51.5625 24.75 49.515625 27.703125 \nQ 47.46875 30.671875 43.828125 31.859375 \nQ 40.1875 33.0625 33.34375 33.0625 \nL 16.796875 33.0625 \nz\n\" id=\"ArialMT-66\"/>\n     <path d=\"M 40.4375 6.390625 \nQ 35.546875 2.25 31.03125 0.53125 \nQ 26.515625 -1.171875 21.34375 -1.171875 \nQ 12.796875 -1.171875 8.203125 3 \nQ 3.609375 7.171875 3.609375 13.671875 \nQ 3.609375 17.484375 5.34375 20.625 \nQ 7.078125 23.78125 9.890625 25.6875 \nQ 12.703125 27.59375 16.21875 28.5625 \nQ 18.796875 29.25 24.03125 29.890625 \nQ 34.671875 31.15625 39.703125 32.90625 \nQ 39.75 34.71875 39.75 35.203125 \nQ 39.75 40.578125 37.25 42.78125 \nQ 33.890625 45.75 27.25 45.75 \nQ 21.046875 45.75 18.09375 43.578125 \nQ 15.140625 41.40625 13.71875 35.890625 \nL 5.125 37.0625 \nQ 6.296875 42.578125 8.984375 45.96875 \nQ 11.671875 49.359375 16.75 51.1875 \nQ 21.828125 53.03125 28.515625 53.03125 \nQ 35.15625 53.03125 39.296875 51.46875 \nQ 43.453125 49.90625 45.40625 47.53125 \nQ 47.359375 45.171875 48.140625 41.546875 \nQ 48.578125 39.3125 48.578125 33.453125 \nL 48.578125 21.734375 \nQ 48.578125 9.46875 49.140625 6.21875 \nQ 49.703125 2.984375 51.375 0 \nL 42.1875 0 \nQ 40.828125 2.734375 40.4375 6.390625 \nz\nM 39.703125 26.03125 \nQ 34.90625 24.078125 25.34375 22.703125 \nQ 19.921875 21.921875 17.671875 20.9375 \nQ 15.4375 19.96875 14.203125 18.09375 \nQ 12.984375 16.21875 12.984375 13.921875 \nQ 12.984375 10.40625 15.640625 8.0625 \nQ 18.3125 5.71875 23.4375 5.71875 \nQ 28.515625 5.71875 32.46875 7.9375 \nQ 36.421875 10.15625 38.28125 14.015625 \nQ 39.703125 17 39.703125 22.796875 \nz\n\" id=\"ArialMT-97\"/>\n     <path d=\"M 42.09375 16.703125 \nL 51.171875 15.578125 \nQ 49.03125 7.625 43.21875 3.21875 \nQ 37.40625 -1.171875 28.375 -1.171875 \nQ 17 -1.171875 10.328125 5.828125 \nQ 3.65625 12.84375 3.65625 25.484375 \nQ 3.65625 38.578125 10.390625 45.796875 \nQ 17.140625 53.03125 27.875 53.03125 \nQ 38.28125 53.03125 44.875 45.953125 \nQ 51.46875 38.875 51.46875 26.03125 \nQ 51.46875 25.25 51.421875 23.6875 \nL 12.75 23.6875 \nQ 13.234375 15.140625 17.578125 10.59375 \nQ 21.921875 6.0625 28.421875 6.0625 \nQ 33.25 6.0625 36.671875 8.59375 \nQ 40.09375 11.140625 42.09375 16.703125 \nz\nM 13.234375 30.90625 \nL 42.1875 30.90625 \nQ 41.609375 37.453125 38.875 40.71875 \nQ 34.671875 45.796875 27.984375 45.796875 \nQ 21.921875 45.796875 17.796875 41.75 \nQ 13.671875 37.703125 13.234375 30.90625 \nz\n\" id=\"ArialMT-101\"/>\n     <path d=\"M 6.390625 0 \nL 6.390625 71.578125 \nL 15.1875 71.578125 \nL 15.1875 0 \nz\n\" id=\"ArialMT-108\"/>\n     <path d=\"M 6.640625 61.46875 \nL 6.640625 71.578125 \nL 15.4375 71.578125 \nL 15.4375 61.46875 \nz\nM 6.640625 0 \nL 6.640625 51.859375 \nL 15.4375 51.859375 \nL 15.4375 0 \nz\n\" id=\"ArialMT-105\"/>\n     <path d=\"M 6.59375 0 \nL 6.59375 51.859375 \nL 14.5 51.859375 \nL 14.5 44.484375 \nQ 20.21875 53.03125 31 53.03125 \nQ 35.6875 53.03125 39.625 51.34375 \nQ 43.5625 49.65625 45.515625 46.921875 \nQ 47.46875 44.1875 48.25 40.4375 \nQ 48.734375 37.984375 48.734375 31.890625 \nL 48.734375 0 \nL 39.9375 0 \nL 39.9375 31.546875 \nQ 39.9375 36.921875 38.90625 39.578125 \nQ 37.890625 42.234375 35.28125 43.8125 \nQ 32.671875 45.40625 29.15625 45.40625 \nQ 23.53125 45.40625 19.453125 41.84375 \nQ 15.375 38.28125 15.375 28.328125 \nL 15.375 0 \nz\n\" id=\"ArialMT-110\"/>\n     <path id=\"ArialMT-32\"/>\n     <path d=\"M 7.625 0 \nL 7.625 71.578125 \nL 17.328125 71.578125 \nL 54.9375 15.375 \nL 54.9375 71.578125 \nL 64.015625 71.578125 \nL 64.015625 0 \nL 54.296875 0 \nL 16.703125 56.25 \nL 16.703125 0 \nz\n\" id=\"ArialMT-78\"/>\n    </defs>\n    <g style=\"fill:#262626;\" transform=\"translate(199.367656 15.789375)scale(0.12 -0.12)\">\n     <use xlink:href=\"#ArialMT-66\"/>\n     <use x=\"66.699219\" xlink:href=\"#ArialMT-97\"/>\n     <use x=\"122.314453\" xlink:href=\"#ArialMT-115\"/>\n     <use x=\"172.314453\" xlink:href=\"#ArialMT-101\"/>\n     <use x=\"227.929688\" xlink:href=\"#ArialMT-108\"/>\n     <use x=\"250.146484\" xlink:href=\"#ArialMT-105\"/>\n     <use x=\"272.363281\" xlink:href=\"#ArialMT-110\"/>\n     <use x=\"327.978516\" xlink:href=\"#ArialMT-101\"/>\n     <use x=\"383.59375\" xlink:href=\"#ArialMT-32\"/>\n     <use x=\"411.376953\" xlink:href=\"#ArialMT-78\"/>\n     <use x=\"483.59375\" xlink:href=\"#ArialMT-78\"/>\n    </g>\n   </g>\n   <g id=\"legend_1\">\n    <g id=\"patch_7\">\n     <path d=\"M 73.015469 233.729375 \nL 175.446094 233.729375 \nQ 177.646094 233.729375 177.646094 231.529375 \nL 177.646094 185.429063 \nQ 177.646094 183.229063 175.446094 183.229063 \nL 73.015469 183.229063 \nQ 70.815469 183.229063 70.815469 185.429063 \nL 70.815469 231.529375 \nQ 70.815469 233.729375 73.015469 233.729375 \nz\n\" style=\"fill:#eaeaf2;opacity:0.8;stroke:#cccccc;stroke-linejoin:miter;\"/>\n    </g>\n    <g id=\"line2d_21\">\n     <path d=\"M 75.215469 191.786719 \nL 97.215469 191.786719 \n\" style=\"fill:none;\"/>\n    </g>\n    <g id=\"line2d_22\"/>\n    <g id=\"text_19\">\n     <!-- Stage -->\n     <defs>\n      <path d=\"M 4.5 23 \nL 13.421875 23.78125 \nQ 14.0625 18.40625 16.375 14.96875 \nQ 18.703125 11.53125 23.578125 9.40625 \nQ 28.46875 7.28125 34.578125 7.28125 \nQ 39.984375 7.28125 44.140625 8.890625 \nQ 48.296875 10.5 50.3125 13.296875 \nQ 52.34375 16.109375 52.34375 19.4375 \nQ 52.34375 22.796875 50.390625 25.3125 \nQ 48.4375 27.828125 43.953125 29.546875 \nQ 41.0625 30.671875 31.203125 33.03125 \nQ 21.34375 35.40625 17.390625 37.5 \nQ 12.25 40.1875 9.734375 44.15625 \nQ 7.234375 48.140625 7.234375 53.078125 \nQ 7.234375 58.5 10.296875 63.203125 \nQ 13.375 67.921875 19.28125 70.359375 \nQ 25.203125 72.796875 32.421875 72.796875 \nQ 40.375 72.796875 46.453125 70.234375 \nQ 52.546875 67.671875 55.8125 62.6875 \nQ 59.078125 57.71875 59.328125 51.421875 \nL 50.25 50.734375 \nQ 49.515625 57.515625 45.28125 60.984375 \nQ 41.0625 64.453125 32.8125 64.453125 \nQ 24.21875 64.453125 20.28125 61.296875 \nQ 16.359375 58.15625 16.359375 53.71875 \nQ 16.359375 49.859375 19.140625 47.359375 \nQ 21.875 44.875 33.421875 42.265625 \nQ 44.96875 39.65625 49.265625 37.703125 \nQ 55.515625 34.8125 58.484375 30.390625 \nQ 61.46875 25.984375 61.46875 20.21875 \nQ 61.46875 14.5 58.203125 9.4375 \nQ 54.9375 4.390625 48.796875 1.578125 \nQ 42.671875 -1.21875 35.015625 -1.21875 \nQ 25.296875 -1.21875 18.71875 1.609375 \nQ 12.15625 4.4375 8.421875 10.125 \nQ 4.6875 15.828125 4.5 23 \nz\n\" id=\"ArialMT-83\"/>\n      <path d=\"M 25.78125 7.859375 \nL 27.046875 0.09375 \nQ 23.34375 -0.6875 20.40625 -0.6875 \nQ 15.625 -0.6875 12.984375 0.828125 \nQ 10.359375 2.34375 9.28125 4.8125 \nQ 8.203125 7.28125 8.203125 15.1875 \nL 8.203125 45.015625 \nL 1.765625 45.015625 \nL 1.765625 51.859375 \nL 8.203125 51.859375 \nL 8.203125 64.703125 \nL 16.9375 69.96875 \nL 16.9375 51.859375 \nL 25.78125 51.859375 \nL 25.78125 45.015625 \nL 16.9375 45.015625 \nL 16.9375 14.703125 \nQ 16.9375 10.9375 17.40625 9.859375 \nQ 17.875 8.796875 18.921875 8.15625 \nQ 19.96875 7.515625 21.921875 7.515625 \nQ 23.390625 7.515625 25.78125 7.859375 \nz\n\" id=\"ArialMT-116\"/>\n      <path d=\"M 4.984375 -4.296875 \nL 13.53125 -5.5625 \nQ 14.0625 -9.515625 16.5 -11.328125 \nQ 19.78125 -13.765625 25.4375 -13.765625 \nQ 31.546875 -13.765625 34.859375 -11.328125 \nQ 38.1875 -8.890625 39.359375 -4.5 \nQ 40.046875 -1.8125 39.984375 6.78125 \nQ 34.234375 0 25.640625 0 \nQ 14.9375 0 9.078125 7.71875 \nQ 3.21875 15.4375 3.21875 26.21875 \nQ 3.21875 33.640625 5.90625 39.90625 \nQ 8.59375 46.1875 13.6875 49.609375 \nQ 18.796875 53.03125 25.6875 53.03125 \nQ 34.859375 53.03125 40.828125 45.609375 \nL 40.828125 51.859375 \nL 48.921875 51.859375 \nL 48.921875 7.03125 \nQ 48.921875 -5.078125 46.453125 -10.125 \nQ 44 -15.1875 38.640625 -18.109375 \nQ 33.296875 -21.046875 25.484375 -21.046875 \nQ 16.21875 -21.046875 10.5 -16.875 \nQ 4.78125 -12.703125 4.984375 -4.296875 \nz\nM 12.25 26.859375 \nQ 12.25 16.65625 16.296875 11.96875 \nQ 20.359375 7.28125 26.46875 7.28125 \nQ 32.515625 7.28125 36.609375 11.9375 \nQ 40.71875 16.609375 40.71875 26.5625 \nQ 40.71875 36.078125 36.5 40.90625 \nQ 32.28125 45.75 26.3125 45.75 \nQ 20.453125 45.75 16.34375 40.984375 \nQ 12.25 36.234375 12.25 26.859375 \nz\n\" id=\"ArialMT-103\"/>\n     </defs>\n     <g style=\"fill:#262626;\" transform=\"translate(106.015469 195.636719)scale(0.11 -0.11)\">\n      <use xlink:href=\"#ArialMT-83\"/>\n      <use x=\"66.699219\" xlink:href=\"#ArialMT-116\"/>\n      <use x=\"94.482422\" xlink:href=\"#ArialMT-97\"/>\n      <use x=\"150.097656\" xlink:href=\"#ArialMT-103\"/>\n      <use x=\"205.712891\" xlink:href=\"#ArialMT-101\"/>\n     </g>\n    </g>\n    <g id=\"line2d_23\">\n     <path d=\"M 75.215469 207.475469 \nL 97.215469 207.475469 \n\" style=\"fill:none;stroke:#4c72b0;stroke-linecap:round;stroke-width:1.5;\"/>\n    </g>\n    <g id=\"line2d_24\"/>\n    <g id=\"text_20\">\n     <!-- Training Error -->\n     <defs>\n      <path d=\"M 25.921875 0 \nL 25.921875 63.140625 \nL 2.34375 63.140625 \nL 2.34375 71.578125 \nL 59.078125 71.578125 \nL 59.078125 63.140625 \nL 35.40625 63.140625 \nL 35.40625 0 \nz\n\" id=\"ArialMT-84\"/>\n      <path d=\"M 6.5 0 \nL 6.5 51.859375 \nL 14.40625 51.859375 \nL 14.40625 44 \nQ 17.4375 49.515625 20 51.265625 \nQ 22.5625 53.03125 25.640625 53.03125 \nQ 30.078125 53.03125 34.671875 50.203125 \nL 31.640625 42.046875 \nQ 28.421875 43.953125 25.203125 43.953125 \nQ 22.3125 43.953125 20.015625 42.21875 \nQ 17.71875 40.484375 16.75 37.40625 \nQ 15.28125 32.71875 15.28125 27.15625 \nL 15.28125 0 \nz\n\" id=\"ArialMT-114\"/>\n     </defs>\n     <g style=\"fill:#262626;\" transform=\"translate(106.015469 211.325469)scale(0.11 -0.11)\">\n      <use xlink:href=\"#ArialMT-84\"/>\n      <use x=\"61.037109\" xlink:href=\"#ArialMT-114\"/>\n      <use x=\"94.337891\" xlink:href=\"#ArialMT-97\"/>\n      <use x=\"149.953125\" xlink:href=\"#ArialMT-105\"/>\n      <use x=\"172.169922\" xlink:href=\"#ArialMT-110\"/>\n      <use x=\"227.785156\" xlink:href=\"#ArialMT-105\"/>\n      <use x=\"250.001953\" xlink:href=\"#ArialMT-110\"/>\n      <use x=\"305.617188\" xlink:href=\"#ArialMT-103\"/>\n      <use x=\"361.232422\" xlink:href=\"#ArialMT-32\"/>\n      <use x=\"389.015625\" xlink:href=\"#ArialMT-69\"/>\n      <use x=\"455.714844\" xlink:href=\"#ArialMT-114\"/>\n      <use x=\"489.015625\" xlink:href=\"#ArialMT-114\"/>\n      <use x=\"522.316406\" xlink:href=\"#ArialMT-111\"/>\n      <use x=\"577.931641\" xlink:href=\"#ArialMT-114\"/>\n     </g>\n    </g>\n    <g id=\"line2d_25\">\n     <path d=\"M 75.215469 223.164219 \nL 97.215469 223.164219 \n\" style=\"fill:none;stroke:#dd8452;stroke-linecap:round;stroke-width:1.5;\"/>\n    </g>\n    <g id=\"line2d_26\"/>\n    <g id=\"text_21\">\n     <!-- Testing Error -->\n     <g style=\"fill:#262626;\" transform=\"translate(106.015469 227.014219)scale(0.11 -0.11)\">\n      <use xlink:href=\"#ArialMT-84\"/>\n      <use x=\"60.912109\" xlink:href=\"#ArialMT-101\"/>\n      <use x=\"116.527344\" xlink:href=\"#ArialMT-115\"/>\n      <use x=\"166.527344\" xlink:href=\"#ArialMT-116\"/>\n      <use x=\"194.310547\" xlink:href=\"#ArialMT-105\"/>\n      <use x=\"216.527344\" xlink:href=\"#ArialMT-110\"/>\n      <use x=\"272.142578\" xlink:href=\"#ArialMT-103\"/>\n      <use x=\"327.757812\" xlink:href=\"#ArialMT-32\"/>\n      <use x=\"355.541016\" xlink:href=\"#ArialMT-69\"/>\n      <use x=\"422.240234\" xlink:href=\"#ArialMT-114\"/>\n      <use x=\"455.541016\" xlink:href=\"#ArialMT-114\"/>\n      <use x=\"488.841797\" xlink:href=\"#ArialMT-111\"/>\n      <use x=\"544.457031\" xlink:href=\"#ArialMT-114\"/>\n     </g>\n    </g>\n   </g>\n  </g>\n </g>\n <defs>\n  <clipPath id=\"pbe175ab736\">\n   <rect height=\"217.44\" width=\"334.8\" x=\"65.315469\" y=\"21.789375\"/>\n  </clipPath>\n </defs>\n</svg>\n",
      "text/plain": "<Figure size 432x288 with 1 Axes>"
     },
     "metadata": {},
     "output_type": "display_data"
    }
   ],
   "source": [
    "# vizualize train and test error across iterations\n",
    "sns.set(\n",
    "    style=\"darkgrid\"\n",
    "    )\n",
    "\n",
    "# sns.lineplot(\n",
    "#     x=\"Epoch\", y=\"Loss\",\n",
    "#     hue=\"Stage\",\n",
    "#     data=lossDataBaseline\n",
    "#     ).set_title('Baseline NN')\n",
    "\n",
    "sns_plot = sns.lineplot(\n",
    "    x=\"Epoch\", y=\"Loss\",\n",
    "    hue=\"Stage\",\n",
    "    data=lossDataBaseline\n",
    "    ).set_title('Baseline NN')\n",
    "# sns_plot.get_figure().savefig(savePath + \"NN_MNIST_baseline_learning-curve.png\", dpi=100)"
   ]
  },
  {
   "cell_type": "code",
   "execution_count": 42,
   "metadata": {},
   "outputs": [
    {
     "ename": "DataError",
     "evalue": "No numeric types to aggregate",
     "output_type": "error",
     "traceback": [
      "\u001b[0;31m---------------------------------------------------------------------------\u001b[0m",
      "\u001b[0;31mDataError\u001b[0m                                 Traceback (most recent call last)",
      "\u001b[0;32m<ipython-input-42-9c8dc96743bc>\u001b[0m in \u001b[0;36m<module>\u001b[0;34m\u001b[0m\n\u001b[1;32m      6\u001b[0m     \u001b[0mx\u001b[0m\u001b[0;34m=\u001b[0m\u001b[0;34m\"Epoch\"\u001b[0m\u001b[0;34m,\u001b[0m \u001b[0my\u001b[0m\u001b[0;34m=\u001b[0m\u001b[0;34m\"Accuracy\"\u001b[0m\u001b[0;34m,\u001b[0m\u001b[0;34m\u001b[0m\u001b[0;34m\u001b[0m\u001b[0m\n\u001b[1;32m      7\u001b[0m     \u001b[0mhue\u001b[0m\u001b[0;34m=\u001b[0m\u001b[0;34m\"Stage\"\u001b[0m\u001b[0;34m,\u001b[0m\u001b[0;34m\u001b[0m\u001b[0;34m\u001b[0m\u001b[0m\n\u001b[0;32m----> 8\u001b[0;31m     \u001b[0mdata\u001b[0m\u001b[0;34m=\u001b[0m\u001b[0maccDataBaseline\u001b[0m\u001b[0;34m\u001b[0m\u001b[0;34m\u001b[0m\u001b[0m\n\u001b[0m\u001b[1;32m      9\u001b[0m     ).set_title('3 Baseline NN')\n",
      "\u001b[0;32m/anaconda3/envs/ml/lib/python3.6/site-packages/seaborn/relational.py\u001b[0m in \u001b[0;36mlineplot\u001b[0;34m(x, y, hue, size, style, data, palette, hue_order, hue_norm, sizes, size_order, size_norm, dashes, markers, style_order, units, estimator, ci, n_boot, sort, err_style, err_kws, legend, ax, **kwargs)\u001b[0m\n\u001b[1;32m   1082\u001b[0m         \u001b[0max\u001b[0m \u001b[0;34m=\u001b[0m \u001b[0mplt\u001b[0m\u001b[0;34m.\u001b[0m\u001b[0mgca\u001b[0m\u001b[0;34m(\u001b[0m\u001b[0;34m)\u001b[0m\u001b[0;34m\u001b[0m\u001b[0;34m\u001b[0m\u001b[0m\n\u001b[1;32m   1083\u001b[0m \u001b[0;34m\u001b[0m\u001b[0m\n\u001b[0;32m-> 1084\u001b[0;31m     \u001b[0mp\u001b[0m\u001b[0;34m.\u001b[0m\u001b[0mplot\u001b[0m\u001b[0;34m(\u001b[0m\u001b[0max\u001b[0m\u001b[0;34m,\u001b[0m \u001b[0mkwargs\u001b[0m\u001b[0;34m)\u001b[0m\u001b[0;34m\u001b[0m\u001b[0;34m\u001b[0m\u001b[0m\n\u001b[0m\u001b[1;32m   1085\u001b[0m \u001b[0;34m\u001b[0m\u001b[0m\n\u001b[1;32m   1086\u001b[0m     \u001b[0;32mreturn\u001b[0m \u001b[0max\u001b[0m\u001b[0;34m\u001b[0m\u001b[0;34m\u001b[0m\u001b[0m\n",
      "\u001b[0;32m/anaconda3/envs/ml/lib/python3.6/site-packages/seaborn/relational.py\u001b[0m in \u001b[0;36mplot\u001b[0;34m(self, ax, kws)\u001b[0m\n\u001b[1;32m    773\u001b[0m                     \u001b[0merr\u001b[0m \u001b[0;34m=\u001b[0m \u001b[0;34m\"estimator must be None when specifying units\"\u001b[0m\u001b[0;34m\u001b[0m\u001b[0;34m\u001b[0m\u001b[0m\n\u001b[1;32m    774\u001b[0m                     \u001b[0;32mraise\u001b[0m \u001b[0mValueError\u001b[0m\u001b[0;34m(\u001b[0m\u001b[0merr\u001b[0m\u001b[0;34m)\u001b[0m\u001b[0;34m\u001b[0m\u001b[0;34m\u001b[0m\u001b[0m\n\u001b[0;32m--> 775\u001b[0;31m                 \u001b[0mx\u001b[0m\u001b[0;34m,\u001b[0m \u001b[0my\u001b[0m\u001b[0;34m,\u001b[0m \u001b[0my_ci\u001b[0m \u001b[0;34m=\u001b[0m \u001b[0mself\u001b[0m\u001b[0;34m.\u001b[0m\u001b[0maggregate\u001b[0m\u001b[0;34m(\u001b[0m\u001b[0my\u001b[0m\u001b[0;34m,\u001b[0m \u001b[0mx\u001b[0m\u001b[0;34m,\u001b[0m \u001b[0munits\u001b[0m\u001b[0;34m)\u001b[0m\u001b[0;34m\u001b[0m\u001b[0;34m\u001b[0m\u001b[0m\n\u001b[0m\u001b[1;32m    776\u001b[0m             \u001b[0;32melse\u001b[0m\u001b[0;34m:\u001b[0m\u001b[0;34m\u001b[0m\u001b[0;34m\u001b[0m\u001b[0m\n\u001b[1;32m    777\u001b[0m                 \u001b[0my_ci\u001b[0m \u001b[0;34m=\u001b[0m \u001b[0;32mNone\u001b[0m\u001b[0;34m\u001b[0m\u001b[0;34m\u001b[0m\u001b[0m\n",
      "\u001b[0;32m/anaconda3/envs/ml/lib/python3.6/site-packages/seaborn/relational.py\u001b[0m in \u001b[0;36maggregate\u001b[0;34m(self, vals, grouper, units)\u001b[0m\n\u001b[1;32m    703\u001b[0m         \u001b[0;31m# Group and get the aggregation estimate\u001b[0m\u001b[0;34m\u001b[0m\u001b[0;34m\u001b[0m\u001b[0;34m\u001b[0m\u001b[0m\n\u001b[1;32m    704\u001b[0m         \u001b[0mgrouped\u001b[0m \u001b[0;34m=\u001b[0m \u001b[0mvals\u001b[0m\u001b[0;34m.\u001b[0m\u001b[0mgroupby\u001b[0m\u001b[0;34m(\u001b[0m\u001b[0mgrouper\u001b[0m\u001b[0;34m,\u001b[0m \u001b[0msort\u001b[0m\u001b[0;34m=\u001b[0m\u001b[0mself\u001b[0m\u001b[0;34m.\u001b[0m\u001b[0msort\u001b[0m\u001b[0;34m)\u001b[0m\u001b[0;34m\u001b[0m\u001b[0;34m\u001b[0m\u001b[0m\n\u001b[0;32m--> 705\u001b[0;31m         \u001b[0mest\u001b[0m \u001b[0;34m=\u001b[0m \u001b[0mgrouped\u001b[0m\u001b[0;34m.\u001b[0m\u001b[0magg\u001b[0m\u001b[0;34m(\u001b[0m\u001b[0mfunc\u001b[0m\u001b[0;34m)\u001b[0m\u001b[0;34m\u001b[0m\u001b[0;34m\u001b[0m\u001b[0m\n\u001b[0m\u001b[1;32m    706\u001b[0m \u001b[0;34m\u001b[0m\u001b[0m\n\u001b[1;32m    707\u001b[0m         \u001b[0;31m# Exit early if we don't want a confidence interval\u001b[0m\u001b[0;34m\u001b[0m\u001b[0;34m\u001b[0m\u001b[0;34m\u001b[0m\u001b[0m\n",
      "\u001b[0;32m/anaconda3/envs/ml/lib/python3.6/site-packages/pandas/core/groupby/generic.py\u001b[0m in \u001b[0;36maggregate\u001b[0;34m(self, func_or_funcs, *args, **kwargs)\u001b[0m\n\u001b[1;32m    843\u001b[0m \u001b[0;34m\u001b[0m\u001b[0m\n\u001b[1;32m    844\u001b[0m         \u001b[0;32mif\u001b[0m \u001b[0misinstance\u001b[0m\u001b[0;34m(\u001b[0m\u001b[0mfunc_or_funcs\u001b[0m\u001b[0;34m,\u001b[0m \u001b[0mstr\u001b[0m\u001b[0;34m)\u001b[0m\u001b[0;34m:\u001b[0m\u001b[0;34m\u001b[0m\u001b[0;34m\u001b[0m\u001b[0m\n\u001b[0;32m--> 845\u001b[0;31m             \u001b[0;32mreturn\u001b[0m \u001b[0mgetattr\u001b[0m\u001b[0;34m(\u001b[0m\u001b[0mself\u001b[0m\u001b[0;34m,\u001b[0m \u001b[0mfunc_or_funcs\u001b[0m\u001b[0;34m)\u001b[0m\u001b[0;34m(\u001b[0m\u001b[0;34m*\u001b[0m\u001b[0margs\u001b[0m\u001b[0;34m,\u001b[0m \u001b[0;34m**\u001b[0m\u001b[0mkwargs\u001b[0m\u001b[0;34m)\u001b[0m\u001b[0;34m\u001b[0m\u001b[0;34m\u001b[0m\u001b[0m\n\u001b[0m\u001b[1;32m    846\u001b[0m \u001b[0;34m\u001b[0m\u001b[0m\n\u001b[1;32m    847\u001b[0m         \u001b[0;32mif\u001b[0m \u001b[0misinstance\u001b[0m\u001b[0;34m(\u001b[0m\u001b[0mfunc_or_funcs\u001b[0m\u001b[0;34m,\u001b[0m \u001b[0mabc\u001b[0m\u001b[0;34m.\u001b[0m\u001b[0mIterable\u001b[0m\u001b[0;34m)\u001b[0m\u001b[0;34m:\u001b[0m\u001b[0;34m\u001b[0m\u001b[0;34m\u001b[0m\u001b[0m\n",
      "\u001b[0;32m/anaconda3/envs/ml/lib/python3.6/site-packages/pandas/core/groupby/groupby.py\u001b[0m in \u001b[0;36mmean\u001b[0;34m(self, *args, **kwargs)\u001b[0m\n\u001b[1;32m   1203\u001b[0m         \u001b[0;32mtry\u001b[0m\u001b[0;34m:\u001b[0m\u001b[0;34m\u001b[0m\u001b[0;34m\u001b[0m\u001b[0m\n\u001b[1;32m   1204\u001b[0m             return self._cython_agg_general(\n\u001b[0;32m-> 1205\u001b[0;31m                 \u001b[0;34m\"mean\"\u001b[0m\u001b[0;34m,\u001b[0m \u001b[0malt\u001b[0m\u001b[0;34m=\u001b[0m\u001b[0;32mlambda\u001b[0m \u001b[0mx\u001b[0m\u001b[0;34m,\u001b[0m \u001b[0maxis\u001b[0m\u001b[0;34m:\u001b[0m \u001b[0mSeries\u001b[0m\u001b[0;34m(\u001b[0m\u001b[0mx\u001b[0m\u001b[0;34m)\u001b[0m\u001b[0;34m.\u001b[0m\u001b[0mmean\u001b[0m\u001b[0;34m(\u001b[0m\u001b[0;34m**\u001b[0m\u001b[0mkwargs\u001b[0m\u001b[0;34m)\u001b[0m\u001b[0;34m,\u001b[0m \u001b[0;34m**\u001b[0m\u001b[0mkwargs\u001b[0m\u001b[0;34m\u001b[0m\u001b[0;34m\u001b[0m\u001b[0m\n\u001b[0m\u001b[1;32m   1206\u001b[0m             )\n\u001b[1;32m   1207\u001b[0m         \u001b[0;32mexcept\u001b[0m \u001b[0mGroupByError\u001b[0m\u001b[0;34m:\u001b[0m\u001b[0;34m\u001b[0m\u001b[0;34m\u001b[0m\u001b[0m\n",
      "\u001b[0;32m/anaconda3/envs/ml/lib/python3.6/site-packages/pandas/core/groupby/groupby.py\u001b[0m in \u001b[0;36m_cython_agg_general\u001b[0;34m(self, how, alt, numeric_only, min_count)\u001b[0m\n\u001b[1;32m    886\u001b[0m \u001b[0;34m\u001b[0m\u001b[0m\n\u001b[1;32m    887\u001b[0m         \u001b[0;32mif\u001b[0m \u001b[0mlen\u001b[0m\u001b[0;34m(\u001b[0m\u001b[0moutput\u001b[0m\u001b[0;34m)\u001b[0m \u001b[0;34m==\u001b[0m \u001b[0;36m0\u001b[0m\u001b[0;34m:\u001b[0m\u001b[0;34m\u001b[0m\u001b[0;34m\u001b[0m\u001b[0m\n\u001b[0;32m--> 888\u001b[0;31m             \u001b[0;32mraise\u001b[0m \u001b[0mDataError\u001b[0m\u001b[0;34m(\u001b[0m\u001b[0;34m\"No numeric types to aggregate\"\u001b[0m\u001b[0;34m)\u001b[0m\u001b[0;34m\u001b[0m\u001b[0;34m\u001b[0m\u001b[0m\n\u001b[0m\u001b[1;32m    889\u001b[0m \u001b[0;34m\u001b[0m\u001b[0m\n\u001b[1;32m    890\u001b[0m         \u001b[0;32mreturn\u001b[0m \u001b[0mself\u001b[0m\u001b[0;34m.\u001b[0m\u001b[0m_wrap_aggregated_output\u001b[0m\u001b[0;34m(\u001b[0m\u001b[0moutput\u001b[0m\u001b[0;34m,\u001b[0m \u001b[0mnames\u001b[0m\u001b[0;34m)\u001b[0m\u001b[0;34m\u001b[0m\u001b[0;34m\u001b[0m\u001b[0m\n",
      "\u001b[0;31mDataError\u001b[0m: No numeric types to aggregate"
     ]
    }
   ],
   "source": [
    "sns.set(\n",
    "    style=\"darkgrid\"\n",
    "    )\n",
    "\n",
    "sns.lineplot(\n",
    "    x=\"Epoch\", y=\"Accuracy\",\n",
    "    hue=\"Stage\",\n",
    "    data=accDataBaseline\n",
    "    ).set_title('3 Baseline NN')"
   ]
  },
  {
   "cell_type": "code",
   "execution_count": 32,
   "metadata": {},
   "outputs": [],
   "source": [
    "testingLoss, correctCount, allCount = nnPredict(model, testloader, criterion)"
   ]
  },
  {
   "cell_type": "code",
   "execution_count": 33,
   "metadata": {},
   "outputs": [
    {
     "data": {
      "text/plain": "0.1554"
     },
     "execution_count": 33,
     "metadata": {},
     "output_type": "execute_result"
    }
   ],
   "source": [
    "correctCount / allCount"
   ]
  },
  {
   "cell_type": "code",
   "execution_count": null,
   "metadata": {},
   "outputs": [],
   "source": []
  },
  {
   "cell_type": "code",
   "execution_count": null,
   "metadata": {},
   "outputs": [],
   "source": []
  },
  {
   "cell_type": "code",
   "execution_count": null,
   "metadata": {},
   "outputs": [],
   "source": []
  },
  {
   "cell_type": "code",
   "execution_count": null,
   "metadata": {},
   "outputs": [],
   "source": [
    "def NN_fitness_function(state, model):\n",
    "    time0 = time.time()\n",
    "    lossData = []\n",
    "    accData=[]\n",
    "    runTime = []\n",
    "    startTime = time.time()\n",
    "\n",
    "    l1 = torch.tensor(np.reshape(state[0:100352], (128, 784)).astype(np.float32))\n",
    "    l2 = torch.tensor(np.reshape(state[100352:108544], (64, 128)).astype(np.float32))\n",
    "    l3 = torch.tensor(np.reshape(state[108544:109184], (10, 64)).astype(np.float32))\n",
    "    # print(l1.shape)\n",
    "    # print(torch.nn.Parameter(l3))\n",
    "\n",
    "    with torch.no_grad():\n",
    "        model[0].weight = torch.nn.Parameter(l1)\n",
    "        model[2].weight = torch.nn.Parameter(l2)\n",
    "        model[4].weight = torch.nn.Parameter(l3)\n",
    "        \n",
    "    testingLoss, correctCount, allCount = nnPredict(model, trainloader, criterion)\n",
    "    print(\"Loss  =\", (testingLoss))\n",
    "    # print(\"Accuracy  =\", (correctCount / allCount))\n",
    "    \n",
    "    # lossData.append([e, running_loss/len(trainloader2), 'Training Loss'])\n",
    "    # lossData.append([e, testingLoss, 'Testing Loss'])\n",
    "    # accData.append([e, correctCount / allCount])\n",
    "\n",
    "    # runTime.append(time.time() - startTime)\n",
    "    \n",
    "    return testingLoss"
   ]
  },
  {
   "cell_type": "code",
   "execution_count": null,
   "metadata": {},
   "outputs": [],
   "source": [
    "fitnessNN = mlrose.CustomFitness(NN_fitness_function, model=model)"
   ]
  },
  {
   "cell_type": "code",
   "execution_count": null,
   "metadata": {},
   "outputs": [],
   "source": [
    "state = list(np.random.uniform(-0.1, 0.1, 109184))\n",
    "fitnessNN.evaluate(state)"
   ]
  },
  {
   "cell_type": "code",
   "execution_count": null,
   "metadata": {},
   "outputs": [],
   "source": [
    "problem = mlrose.ContinuousOpt(\n",
    "    length = 109184, \n",
    "    fitness_fn = fitnessNN, \n",
    "    maximize = False, \n",
    "    min_val=-0.1, \n",
    "    max_val = 0.1,\n",
    "    step=0.0001\n",
    "    )"
   ]
  },
  {
   "cell_type": "code",
   "execution_count": null,
   "metadata": {},
   "outputs": [],
   "source": [
    "# Define decay schedule\n",
    "schedule = mlrose.ExpDecay()\n",
    "\n",
    "best_state, best_fitness = mlrose.random_hill_climb(\n",
    "    problem, \n",
    "    # schedule = schedule,\n",
    "    max_attempts = 10, \n",
    "    max_iters = 3000,\n",
    "    init_state = state,\n",
    "    restarts = 20, \n",
    "    random_state = 1)"
   ]
  },
  {
   "cell_type": "code",
   "execution_count": null,
   "metadata": {},
   "outputs": [],
   "source": [
    "trainset = datasets.MNIST('./data', download=False, train=True, transform=transform)\n",
    "testset = datasets.MNIST('./data', download=False, train=False, transform=transform)"
   ]
  },
  {
   "cell_type": "code",
   "execution_count": null,
   "metadata": {},
   "outputs": [],
   "source": [
    "X_train_MNIST = trainset.data.numpy()\n",
    "X_test_MNIST = testset.data.numpy()"
   ]
  },
  {
   "cell_type": "code",
   "execution_count": null,
   "metadata": {},
   "outputs": [],
   "source": [
    "y_train_MNIST = trainset.targets.numpy()\n",
    "y_test_MNIST = testset.targets.numpy()"
   ]
  },
  {
   "cell_type": "code",
   "execution_count": null,
   "metadata": {},
   "outputs": [],
   "source": [
    "X_train_MNIST = X_train_MNIST[0:4000]\n",
    "X_test_MNIST = X_test_MNIST[0:4000]\n",
    "y_train_MNIST = y_train_MNIST[0:4000]\n",
    "y_test_MNIST = y_test_MNIST[0:4000]"
   ]
  },
  {
   "cell_type": "code",
   "execution_count": null,
   "metadata": {},
   "outputs": [],
   "source": [
    "np.bincount(y_train_MNIST) + np.bincount(y_test_MNIST)"
   ]
  },
  {
   "cell_type": "code",
   "execution_count": null,
   "metadata": {},
   "outputs": [],
   "source": [
    "X_train_MNIST_reshaped = X_train_MNIST.reshape((4000, 784))\n",
    "X_test_MNIST_reshaped = X_test_MNIST.reshape((4000, 784))"
   ]
  },
  {
   "cell_type": "code",
   "execution_count": null,
   "metadata": {},
   "outputs": [],
   "source": [
    "scaler = MinMaxScaler()\n",
    "X_train_scaled = scaler.fit_transform(X_train_MNIST_reshaped)\n",
    "X_test_scaled = scaler.transform(X_test_MNIST_reshaped)\n",
    "\n",
    "# One hot encode target values\n",
    "one_hot = OneHotEncoder()\n",
    "\n",
    "y_train_hot = one_hot.fit_transform(y_train_MNIST.reshape(-1, 1)).todense()\n",
    "y_test_hot = one_hot.transform(y_test_MNIST.reshape(-1, 1)).todense()"
   ]
  },
  {
   "cell_type": "code",
   "execution_count": null,
   "metadata": {},
   "outputs": [],
   "source": [
    "# The following code was adapted from https://mlrose.readthedocs.io/en/stable/source/tutorial3.html\n",
    "# Initialize neural network object and fit object\n",
    "nn_model = mlrose.NeuralNetwork(\n",
    "    hidden_nodes = [100], \n",
    "    activation = 'relu',\n",
    "    algorithm = 'random_hill_climb', \n",
    "    max_iters = 1000,\n",
    "    bias = True, \n",
    "    is_classifier = True, \n",
    "    learning_rate = 0.001,\n",
    "    early_stopping = True, \n",
    "    clip_max = 5, \n",
    "    max_attempts = 100,\n",
    "    random_state = 3,\n",
    "    restarts=20\n",
    "    )\n",
    "\n",
    "nn_model.fit(X_train_scaled, y_train_hot)"
   ]
  },
  {
   "cell_type": "code",
   "execution_count": null,
   "metadata": {},
   "outputs": [],
   "source": [
    "# Predict labels for train set and assess accuracy\n",
    "y_train_pred = nn_model.predict(X_train_scaled)\n",
    "y_train_accuracy = accuracy_score(y_train_pred, y_train_hot)\n",
    "print(y_train_accuracy)"
   ]
  },
  {
   "cell_type": "code",
   "execution_count": null,
   "metadata": {},
   "outputs": [],
   "source": [
    "# Predict labels for train set and assess accuracy\n",
    "y_test_pred = nn_model.predict(X_test_scaled)\n",
    "y_test_accuracy = accuracy_score(y_test_pred, y_test_hot)\n",
    "print(y_test_accuracy)"
   ]
  },
  {
   "cell_type": "code",
   "execution_count": null,
   "metadata": {},
   "outputs": [],
   "source": []
  }
 ]
}